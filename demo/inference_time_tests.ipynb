{
 "cells": [
  {
   "cell_type": "markdown",
   "metadata": {},
   "source": [
    "# Inference Time Study"
   ]
  },
  {
   "cell_type": "markdown",
   "metadata": {},
   "source": [
    "In *base.py* file (mmengine) with class BaseModel add **imports** \n",
    "\n",
    "```python\n",
    "        import time\n",
    "        from demo.json_handler import JSONHandler\n",
    "```\n",
    "\n",
    "and **the following** (in test_step):\n",
    "\n",
    "```python\n",
    "        begin = time.time()\n",
    "        data = self.data_preprocessor(data, False)\n",
    "        end = time.time()\n",
    "\n",
    "        out_file = '/home/michele*/iac_code/michele_mmdet3d/data/minerva_polimove/inference_times.json'\n",
    "        handler = JSONHandler(out_file, True)\n",
    "        handler.update_dictionary({'Pre-processing delta_t': (end-begin)})\n",
    "\n",
    "        return self._run_forward(data, mode='predict')  # type: ignore\n",
    "```"
   ]
  },
  {
   "cell_type": "code",
   "execution_count": 112,
   "metadata": {},
   "outputs": [
    {
     "name": "stdout",
     "output_type": "stream",
     "text": [
      "Loads checkpoint by local backend from path: /home/michele/iac_code/michele_mmdet3d/work_dirs/pointpillars_minerva/epoch_120.pth\n",
      "Total validation point_clouds: 35\n"
     ]
    }
   ],
   "source": [
    "#################################################################################################################\n",
    "#                                      INFERENCE AND SAVE THE DATA                                              #\n",
    "#################################################################################################################\n",
    "\n",
    "# Needed imports\n",
    "import sys\n",
    "from json_handler import JSONHandler\n",
    "import time\n",
    "\n",
    "\n",
    "# Add the new paths separately\n",
    "new_path1 = \"/home/michele/.local/lib/python3.10/site-packages/\"\n",
    "new_path2 = \"/home/michele/iac_code/michele_mmdet3d/\"\n",
    "if not new_path1 in sys.path:\n",
    "    sys.path.insert(1, new_path1)\n",
    "if not new_path2 in sys.path:\n",
    "    sys.path.insert(1, new_path2)\n",
    "# Import the fucking wicked class\n",
    "from mmdet3d.apis import LidarDet3DInferencer\n",
    "\n",
    "\n",
    "# Initialize the actual inferencer class\n",
    "# inferencer = LidarDet3DInferencer(model='/home/michele/iac_code/michele_mmdet3d/configs/minerva/CONDENSED_pointpillars_minerva.py', \n",
    "#                                   weights='/home/michele/iac_code/michele_mmdet3d/work_dirs/pointpillars_minerva/epoch_120.pth')\n",
    "inferencer = LidarDet3DInferencer(model='/home/michele/iac_code/michele_mmdet3d/configs/minerva/CONDENSED_pointpillars_minerva.py', \n",
    "                                  weights='/home/michele/iac_code/michele_mmdet3d/work_dirs/pointpillars_minerva/epoch_120.pth',\n",
    "                                  show_progress=False)\n",
    "\n",
    "\n",
    "# Read the files in validation list\n",
    "val_list_txt_file = \"/home/michele/iac_code/michele_mmdet3d/data/minerva_polimove/ImageSets/val.txt\"\n",
    "with open(val_list_txt_file, 'r') as file:\n",
    "    val_file_names = [line.strip() for line in file]\n",
    "print(f\"Total validation point_clouds: {len(val_file_names)}\")\n",
    "\n",
    "\n",
    "# Create the list of inputs, suitable for the inferencer\n",
    "inputs = []\n",
    "for i, name in enumerate(val_file_names):\n",
    "    inputs.append(dict(points=(\"/home/michele/iac_code/michele_mmdet3d/data/minerva_polimove/training/velodyne/\"+name+\".bin\")))\n",
    "\n",
    "\n",
    "# Create an instance JSONHandler\n",
    "out_file = '/home/michele/iac_code/michele_mmdet3d/data/minerva_polimove/inference_times.json'\n",
    "handler = JSONHandler(out_file)\n",
    "# Remove the file if already existing\n",
    "handler.reset()\n",
    "# Do the actual inference\n",
    "results = []\n",
    "for i, input in enumerate(inputs):\n",
    "    begin = time.time()\n",
    "    handler.add_dictionary({'Everything start': begin})\n",
    "    results.append(inferencer(input))\n",
    "    end = time.time()\n",
    "    handler.update_dictionary({'Everything end': end})"
   ]
  },
  {
   "cell_type": "code",
   "execution_count": 113,
   "metadata": {},
   "outputs": [
    {
     "name": "stdout",
     "output_type": "stream",
     "text": [
      "{'Everything start': 1728851537.4538245, 'Voxel encoder start': 1728851537.4808736, 'Voxel encoder delta_t': 0.0005962848663330078, 'Middle encoder delta_t': 0.0009686946868896484, 'Backbone delta_t': 0.0019385814666748047, 'Neck delta_t': 0.0003006458282470703, 'Post-processing delta_t': 0.034395694732666016, 'Everything end': 1728851537.5246177}\n",
      "{'Everything start': 1728851537.5247326, 'Voxel encoder start': 1728851537.558655, 'Voxel encoder delta_t': 0.0005500316619873047, 'Middle encoder delta_t': 0.0012118816375732422, 'Backbone delta_t': 0.0007183551788330078, 'Neck delta_t': 0.0002148151397705078, 'Post-processing delta_t': 0.034605979919433594, 'Everything end': 1728851537.6024406}\n",
      "{'Everything start': 1728851537.6025949, 'Voxel encoder start': 1728851537.6397586, 'Voxel encoder delta_t': 0.0005269050598144531, 'Middle encoder delta_t': 0.001026153564453125, 'Backbone delta_t': 0.0007579326629638672, 'Neck delta_t': 0.0002243518829345703, 'Post-processing delta_t': 0.034688711166381836, 'Everything end': 1728851537.6847289}\n",
      "{'Everything start': 1728851537.684883, 'Voxel encoder start': 1728851537.722524, 'Voxel encoder delta_t': 0.0005269050598144531, 'Middle encoder delta_t': 0.0007758140563964844, 'Backbone delta_t': 0.0006554126739501953, 'Neck delta_t': 0.00021338462829589844, 'Post-processing delta_t': 0.03517961502075195, 'Everything end': 1728851537.768089}\n",
      "{'Everything start': 1728851537.7687252, 'Voxel encoder start': 1728851537.8060865, 'Voxel encoder delta_t': 0.0004937648773193359, 'Middle encoder delta_t': 0.0012087821960449219, 'Backbone delta_t': 0.0008480548858642578, 'Neck delta_t': 0.0002086162567138672, 'Post-processing delta_t': 0.035131216049194336, 'Everything end': 1728851537.851421}\n",
      "{'Everything start': 1728851537.851635, 'Voxel encoder start': 1728851537.8864164, 'Voxel encoder delta_t': 0.0006248950958251953, 'Middle encoder delta_t': 0.0008673667907714844, 'Backbone delta_t': 0.0009546279907226562, 'Neck delta_t': 0.00021767616271972656, 'Post-processing delta_t': 0.03627586364746094, 'Everything end': 1728851537.9322386}\n",
      "{'Everything start': 1728851537.932414, 'Voxel encoder start': 1728851537.9662008, 'Voxel encoder delta_t': 0.00044798851013183594, 'Middle encoder delta_t': 0.0007076263427734375, 'Backbone delta_t': 0.0006444454193115234, 'Neck delta_t': 0.00020051002502441406, 'Post-processing delta_t': 0.03577375411987305, 'Everything end': 1728851538.0114}\n",
      "{'Everything start': 1728851538.0116882, 'Voxel encoder start': 1728851538.0425642, 'Voxel encoder delta_t': 0.00048542022705078125, 'Middle encoder delta_t': 0.0010159015655517578, 'Backbone delta_t': 0.0009410381317138672, 'Neck delta_t': 0.00021886825561523438, 'Post-processing delta_t': 0.03417015075683594, 'Everything end': 1728851538.0839813}\n",
      "{'Everything start': 1728851538.0842187, 'Voxel encoder start': 1728851538.117439, 'Voxel encoder delta_t': 0.00045561790466308594, 'Middle encoder delta_t': 0.000926971435546875, 'Backbone delta_t': 0.0006909370422363281, 'Neck delta_t': 0.00022125244140625, 'Post-processing delta_t': 0.034241437911987305, 'Everything end': 1728851538.1585498}\n",
      "{'Everything start': 1728851538.1587696, 'Voxel encoder start': 1728851538.1926992, 'Voxel encoder delta_t': 0.0004839897155761719, 'Middle encoder delta_t': 0.0008981227874755859, 'Backbone delta_t': 0.0006873607635498047, 'Neck delta_t': 0.0001990795135498047, 'Post-processing delta_t': 0.03468132019042969, 'Everything end': 1728851538.2343042}\n",
      "{'Everything start': 1728851538.2345467, 'Voxel encoder start': 1728851538.269382, 'Voxel encoder delta_t': 0.0006811618804931641, 'Middle encoder delta_t': 0.0007002353668212891, 'Backbone delta_t': 0.0006556510925292969, 'Neck delta_t': 0.00022172927856445312, 'Post-processing delta_t': 0.03509235382080078, 'Everything end': 1728851538.3117285}\n",
      "{'Everything start': 1728851538.3120184, 'Voxel encoder start': 1728851538.344732, 'Voxel encoder delta_t': 0.0005509853363037109, 'Middle encoder delta_t': 0.00074005126953125, 'Backbone delta_t': 0.0006389617919921875, 'Neck delta_t': 0.0002071857452392578, 'Post-processing delta_t': 0.0348048210144043, 'Everything end': 1728851538.386342}\n",
      "{'Everything start': 1728851538.3866935, 'Voxel encoder start': 1728851538.4183455, 'Voxel encoder delta_t': 0.0008535385131835938, 'Middle encoder delta_t': 0.0008387565612792969, 'Backbone delta_t': 0.0006515979766845703, 'Neck delta_t': 0.0002033710479736328, 'Post-processing delta_t': 0.03422212600708008, 'Everything end': 1728851538.4591148}\n",
      "{'Everything start': 1728851538.4593952, 'Voxel encoder start': 1728851538.4942777, 'Voxel encoder delta_t': 0.0006837844848632812, 'Middle encoder delta_t': 0.0006978511810302734, 'Backbone delta_t': 0.0006763935089111328, 'Neck delta_t': 0.00021147727966308594, 'Post-processing delta_t': 0.03475451469421387, 'Everything end': 1728851538.5364664}\n",
      "{'Everything start': 1728851538.536813, 'Voxel encoder start': 1728851538.5704389, 'Voxel encoder delta_t': 0.0011904239654541016, 'Middle encoder delta_t': 0.0006756782531738281, 'Backbone delta_t': 0.0006287097930908203, 'Neck delta_t': 0.0002117156982421875, 'Post-processing delta_t': 0.03536224365234375, 'Everything end': 1728851538.6134229}\n",
      "{'Everything start': 1728851538.6137786, 'Voxel encoder start': 1728851538.648331, 'Voxel encoder delta_t': 0.0006010532379150391, 'Middle encoder delta_t': 0.0007469654083251953, 'Backbone delta_t': 0.0010738372802734375, 'Neck delta_t': 0.0005950927734375, 'Post-processing delta_t': 0.0344090461730957, 'Everything end': 1728851538.6908684}\n",
      "{'Everything start': 1728851538.691164, 'Voxel encoder start': 1728851538.7231824, 'Voxel encoder delta_t': 0.0004696846008300781, 'Middle encoder delta_t': 0.0008518695831298828, 'Backbone delta_t': 0.0012879371643066406, 'Neck delta_t': 0.00033211708068847656, 'Post-processing delta_t': 0.03476119041442871, 'Everything end': 1728851538.765718}\n",
      "{'Everything start': 1728851538.7660155, 'Voxel encoder start': 1728851538.799292, 'Voxel encoder delta_t': 0.00046825408935546875, 'Middle encoder delta_t': 0.0007729530334472656, 'Backbone delta_t': 0.0017843246459960938, 'Neck delta_t': 0.0002894401550292969, 'Post-processing delta_t': 0.03380465507507324, 'Everything end': 1728851538.8413253}\n",
      "{'Everything start': 1728851538.841636, 'Voxel encoder start': 1728851538.8731582, 'Voxel encoder delta_t': 0.0004661083221435547, 'Middle encoder delta_t': 0.000858306884765625, 'Backbone delta_t': 0.0008132457733154297, 'Neck delta_t': 0.0006918907165527344, 'Post-processing delta_t': 0.034728050231933594, 'Everything end': 1728851538.9160228}\n",
      "{'Everything start': 1728851538.9163501, 'Voxel encoder start': 1728851538.949601, 'Voxel encoder delta_t': 0.0005624294281005859, 'Middle encoder delta_t': 0.0011951923370361328, 'Backbone delta_t': 0.001219034194946289, 'Neck delta_t': 0.00021719932556152344, 'Post-processing delta_t': 0.03425860404968262, 'Everything end': 1728851538.9920342}\n",
      "{'Everything start': 1728851538.9923704, 'Voxel encoder start': 1728851539.0175836, 'Voxel encoder delta_t': 0.00045752525329589844, 'Middle encoder delta_t': 0.0011849403381347656, 'Backbone delta_t': 0.0008220672607421875, 'Neck delta_t': 0.0005445480346679688, 'Post-processing delta_t': 0.03440046310424805, 'Everything end': 1728851539.0585048}\n",
      "{'Everything start': 1728851539.058858, 'Voxel encoder start': 1728851539.0924473, 'Voxel encoder delta_t': 0.0005350112915039062, 'Middle encoder delta_t': 0.0012814998626708984, 'Backbone delta_t': 0.0018200874328613281, 'Neck delta_t': 0.00030422210693359375, 'Post-processing delta_t': 0.033034324645996094, 'Everything end': 1728851539.133614}\n",
      "{'Everything start': 1728851539.1339684, 'Voxel encoder start': 1728851539.1672983, 'Voxel encoder delta_t': 0.0004572868347167969, 'Middle encoder delta_t': 0.0009701251983642578, 'Backbone delta_t': 0.0012242794036865234, 'Neck delta_t': 0.00020742416381835938, 'Post-processing delta_t': 0.03437447547912598, 'Everything end': 1728851539.2089374}\n",
      "{'Everything start': 1728851539.2093349, 'Voxel encoder start': 1728851539.240298, 'Voxel encoder delta_t': 0.00046825408935546875, 'Middle encoder delta_t': 0.0007803440093994141, 'Backbone delta_t': 0.0011444091796875, 'Neck delta_t': 0.0006635189056396484, 'Post-processing delta_t': 0.03351140022277832, 'Everything end': 1728851539.2820158}\n",
      "{'Everything start': 1728851539.2824295, 'Voxel encoder start': 1728851539.3121212, 'Voxel encoder delta_t': 0.001028299331665039, 'Middle encoder delta_t': 0.00067138671875, 'Backbone delta_t': 0.000629425048828125, 'Neck delta_t': 0.0001926422119140625, 'Post-processing delta_t': 0.035307884216308594, 'Everything end': 1728851539.3546815}\n",
      "{'Everything start': 1728851539.35526, 'Voxel encoder start': 1728851539.3777037, 'Voxel encoder delta_t': 0.0009086132049560547, 'Middle encoder delta_t': 0.0006847381591796875, 'Backbone delta_t': 0.0006453990936279297, 'Neck delta_t': 0.000202178955078125, 'Post-processing delta_t': 0.03394818305969238, 'Everything end': 1728851539.4178357}\n",
      "{'Everything start': 1728851539.4182773, 'Voxel encoder start': 1728851539.4525428, 'Voxel encoder delta_t': 0.0009617805480957031, 'Middle encoder delta_t': 0.0006952285766601562, 'Backbone delta_t': 0.0006551742553710938, 'Neck delta_t': 0.0002079010009765625, 'Post-processing delta_t': 0.03502249717712402, 'Everything end': 1728851539.4959311}\n",
      "{'Everything start': 1728851539.496668, 'Voxel encoder start': 1728851539.528241, 'Voxel encoder delta_t': 0.0007607936859130859, 'Middle encoder delta_t': 0.0006806850433349609, 'Backbone delta_t': 0.0006158351898193359, 'Neck delta_t': 0.0001850128173828125, 'Post-processing delta_t': 0.03616142272949219, 'Everything end': 1728851539.5731397}\n",
      "{'Everything start': 1728851539.5735714, 'Voxel encoder start': 1728851539.6083412, 'Voxel encoder delta_t': 0.0004780292510986328, 'Middle encoder delta_t': 0.0008497238159179688, 'Backbone delta_t': 0.0008029937744140625, 'Neck delta_t': 0.0002243518829345703, 'Post-processing delta_t': 0.03469681739807129, 'Everything end': 1728851539.6521945}\n",
      "{'Everything start': 1728851539.6528816, 'Voxel encoder start': 1728851539.6899478, 'Voxel encoder delta_t': 0.0004737377166748047, 'Middle encoder delta_t': 0.001092672348022461, 'Backbone delta_t': 0.0011887550354003906, 'Neck delta_t': 0.00021886825561523438, 'Post-processing delta_t': 0.03433513641357422, 'Everything end': 1728851539.7339768}\n",
      "{'Everything start': 1728851539.734468, 'Voxel encoder start': 1728851539.7688706, 'Voxel encoder delta_t': 0.0009419918060302734, 'Middle encoder delta_t': 0.0007076263427734375, 'Backbone delta_t': 0.0006630420684814453, 'Neck delta_t': 0.00019407272338867188, 'Post-processing delta_t': 0.03527045249938965, 'Everything end': 1728851539.8130176}\n",
      "{'Everything start': 1728851539.813867, 'Voxel encoder start': 1728851539.8491058, 'Voxel encoder delta_t': 0.0005090236663818359, 'Middle encoder delta_t': 0.0007212162017822266, 'Backbone delta_t': 0.0006597042083740234, 'Neck delta_t': 0.00021529197692871094, 'Post-processing delta_t': 0.036043405532836914, 'Everything end': 1728851539.8962536}\n",
      "{'Everything start': 1728851539.897047, 'Voxel encoder start': 1728851539.9303198, 'Voxel encoder delta_t': 0.000980377197265625, 'Middle encoder delta_t': 0.0007855892181396484, 'Backbone delta_t': 0.0009486675262451172, 'Neck delta_t': 0.00023317337036132812, 'Post-processing delta_t': 0.03554511070251465, 'Everything end': 1728851539.9738958}\n",
      "{'Everything start': 1728851539.9744277, 'Voxel encoder start': 1728851540.0063436, 'Voxel encoder delta_t': 0.0004706382751464844, 'Middle encoder delta_t': 0.0014281272888183594, 'Backbone delta_t': 0.0012204647064208984, 'Neck delta_t': 0.00020575523376464844, 'Post-processing delta_t': 0.034149885177612305, 'Everything end': 1728851540.0502453}\n",
      "{'Everything start': 1728851540.0507119, 'Voxel encoder start': 1728851540.0845625, 'Voxel encoder delta_t': 0.0005676746368408203, 'Middle encoder delta_t': 0.0007123947143554688, 'Backbone delta_t': 0.0006952285766601562, 'Neck delta_t': 0.0002315044403076172, 'Post-processing delta_t': 0.03438401222229004, 'Everything end': 1728851540.1270015}\n",
      "\n",
      "There are 35 elements in total\n"
     ]
    }
   ],
   "source": [
    "for element in handler.read_json_file():\n",
    "    print(element)\n",
    "\n",
    "dictionary_list = handler.read_json_file()\n",
    "print(f\"\\nThere are {len(dictionary_list)} elements in total\")"
   ]
  },
  {
   "cell_type": "code",
   "execution_count": 114,
   "metadata": {},
   "outputs": [
    {
     "name": "stdout",
     "output_type": "stream",
     "text": [
      "Average value of the estimated delta_t: 0.03296135493687221\n"
     ]
    }
   ],
   "source": [
    "#################################################################################################################\n",
    "#                                  STUDY OF BASE_MODEL (NOT ACCESSIBLE)                                         #\n",
    "#################################################################################################################\n",
    "\n",
    "start = handler.get_parameter('Everything start')\n",
    "end = handler.get_parameter('Voxel encoder start')\n",
    "estimated_delta = []\n",
    "for i in range(len(start)):\n",
    "    estimated_delta.append( end[i]-start[i] )\n",
    "\n",
    "compute_error = False\n",
    "\n",
    "if compute_error:\n",
    "    actual_delta = handler.get_parameter('Pre-processing delta_t')\n",
    "    error = []\n",
    "    error_abs = []\n",
    "    for i in range(len(actual_delta)):\n",
    "        error.append( actual_delta[i]-estimated_delta[i] )\n",
    "        error_abs.append( abs( actual_delta[i]-estimated_delta[i] ) )\n",
    "\n",
    "av_est_deltaT = sum(estimated_delta)/len(estimated_delta)\n",
    "print(f\"Average value of the estimated delta_t: {av_est_deltaT}\")\n",
    "if compute_error:\n",
    "    print(f\"Average value of the error: {sum(error)/len(error)}\")\n",
    "    av_abs_error = sum(error_abs)/len(error_abs)\n",
    "    print(f\"Average value for the absolute error: {av_abs_error}\")\n",
    "    av_act_deltat = sum(actual_delta)/len(actual_delta)\n",
    "    print(f\"The percentage of error is {av_abs_error/av_est_deltaT*100}. The average actual delta_t is {av_act_deltat}\")"
   ]
  },
  {
   "cell_type": "code",
   "execution_count": 115,
   "metadata": {},
   "outputs": [
    {
     "name": "stdout",
     "output_type": "stream",
     "text": [
      "Average total time: 76.00ms which would be 13.16Hz!\n",
      "\tAverage pre-processing time:\t32.96ms which means\t43.37 over the total.       \n",
      "\t\tUsually 20% higher than actual value, which would be 26.37ms\n",
      "\tAverage voxel encoder time:\t0.62ms which means\t0.82 over the total.\n",
      "\tAverage middle encoder time:\t0.88ms which means\t1.16 over the total.\n",
      "\tAverage backbone time:\t\t0.91ms which means\t1.20 over the total.\n",
      "\tAverage neck time:\t\t0.27ms which means\t0.35 over the total.\n",
      "\tAverage post-processing time:\t34.73ms which means\t45.70 over the total.\n",
      "\n",
      "By summing all the \"sub-components\" we get:      \n",
      "\tA total time of 70.38ms (14.21Hz) which means\t92.60% over the total of\t76.00ms      \n",
      "and by considering the \"real\" value for the preprocessing (20% less), we get:      \n",
      "\tA total time of 63.79ms (15.68Hz) which means\t83.93% over the total of\t76.00ms      \n",
      "while the inference (from voxel encoder to neck) accounts for:      \n",
      "\tA total time of 2.69ms which means\t\t3.54% over the total of\t\t76.00ms\n"
     ]
    }
   ],
   "source": [
    "#################################################################################################################\n",
    "#                                            GENERAL STUDY OF TIME                                              #\n",
    "#################################################################################################################\n",
    "\n",
    "start_everything = handler.get_parameter('Everything start')\n",
    "start_voxel = handler.get_parameter('Voxel encoder start')\n",
    "delta_voxel = handler.get_parameter('Voxel encoder delta_t')\n",
    "delta_middle = handler.get_parameter('Middle encoder delta_t')\n",
    "delta_backbone = handler.get_parameter('Backbone delta_t')\n",
    "delta_neck = handler.get_parameter('Neck delta_t')\n",
    "delta_post = handler.get_parameter('Post-processing delta_t')\n",
    "end_everything = handler.get_parameter('Everything end')\n",
    "handler.reset()\n",
    "\n",
    "# Total time\n",
    "delta_total = []\n",
    "for i in range(len(start_everything)):\n",
    "    delta_total.append(end_everything[i]-start_everything[i])\n",
    "estimated_total = sum(delta_total)/len(delta_total)\n",
    "print(f\"Average total time: {estimated_total*1e3:.2f}ms which would be {1/estimated_total:.2f}Hz!\")\n",
    "# Preprocessing\n",
    "delta_pre = []\n",
    "for i in range(len(start_everything)):\n",
    "    delta_pre.append(start_voxel[i]-start_everything[i])\n",
    "estimated_pre = sum(delta_pre)/len(delta_pre)\n",
    "print(f\"\\tAverage pre-processing time:\\t{estimated_pre*1e3:.2f}ms which means\\t{100*estimated_pre/estimated_total:.2f} over the total. \\\n",
    "      \\n\\t\\tUsually 20% higher than actual value, which would be {estimated_pre*0.8*1e3:.2f}ms\")\n",
    "# Voxel encoder\n",
    "estimated_voxel = sum(delta_voxel)/len(delta_voxel)\n",
    "print(f\"\\tAverage voxel encoder time:\\t{estimated_voxel*1e3:.2f}ms which means\\t{100*estimated_voxel/estimated_total:.2f} over the total.\")\n",
    "# Middle encoder\n",
    "estimated_middle = sum(delta_middle)/len(delta_middle)\n",
    "print(f\"\\tAverage middle encoder time:\\t{estimated_middle*1e3:.2f}ms which means\\t{100*estimated_middle/estimated_total:.2f} over the total.\")\n",
    "# Backbone\n",
    "estimated_backbone = sum(delta_backbone)/len(delta_backbone)\n",
    "print(f\"\\tAverage backbone time:\\t\\t{estimated_backbone*1e3:.2f}ms which means\\t{100*estimated_backbone/estimated_total:.2f} over the total.\")\n",
    "# Neck\n",
    "estimated_neck = sum(delta_neck)/len(delta_neck)\n",
    "print(f\"\\tAverage neck time:\\t\\t{estimated_neck*1e3:.2f}ms which means\\t{100*estimated_neck/estimated_total:.2f} over the total.\")\n",
    "# Post-processing\n",
    "estimated_post = sum(delta_post)/len(delta_post)\n",
    "print(f\"\\tAverage post-processing time:\\t{estimated_post*1e3:.2f}ms which means\\t{100*estimated_post/estimated_total:.2f} over the total.\")\n",
    "# Final comment\n",
    "sum_all_0 = estimated_pre + estimated_voxel + estimated_middle + estimated_backbone + estimated_neck + estimated_post\n",
    "sum_all_1 = estimated_pre*0.8 + estimated_voxel + estimated_middle + estimated_backbone + estimated_neck + estimated_post\n",
    "sum_inference = estimated_voxel + estimated_middle + estimated_backbone + estimated_neck\n",
    "print(f\"\\nBy summing all the \\\"sub-components\\\" we get:\\\n",
    "      \\n\\tA total time of {sum_all_0*1e3:.2f}ms ({1/sum_all_0:.2f}Hz) which means\\t{100*sum_all_0/estimated_total:.2f}% over the total of\\t{estimated_total*1e3:.2f}ms\\\n",
    "      \\nand by considering the \\\"real\\\" value for the preprocessing (20% less), we get:\\\n",
    "      \\n\\tA total time of {sum_all_1*1e3:.2f}ms ({1/sum_all_1:.2f}Hz) which means\\t{100*sum_all_1/estimated_total:.2f}% over the total of\\t{estimated_total*1e3:.2f}ms\\\n",
    "      \\nwhile the inference (from voxel encoder to neck) accounts for:\\\n",
    "      \\n\\tA total time of {sum_inference*1e3:.2f}ms which means\\t\\t{100*sum_inference/estimated_total:.2f}% over the total of\\t\\t{estimated_total*1e3:.2f}ms\")"
   ]
  }
 ],
 "metadata": {
  "interpreter": {
   "hash": "a0c343fece975dd89087e8c2194dd4d3db28d7000f1b32ed9ed9d584dd54dbbe"
  },
  "kernelspec": {
   "display_name": "Python 3 (ipykernel)",
   "language": "python",
   "name": "python3"
  },
  "language_info": {
   "codemirror_mode": {
    "name": "ipython",
    "version": 3
   },
   "file_extension": ".py",
   "mimetype": "text/x-python",
   "name": "python",
   "nbconvert_exporter": "python",
   "pygments_lexer": "ipython3",
   "version": "3.10.12"
  },
  "pycharm": {
   "stem_cell": {
    "cell_type": "raw",
    "metadata": {
     "collapsed": false
    },
    "source": []
   }
  }
 },
 "nbformat": 4,
 "nbformat_minor": 4
}
