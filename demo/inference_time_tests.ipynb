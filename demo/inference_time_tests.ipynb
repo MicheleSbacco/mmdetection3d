{
 "cells": [
  {
   "cell_type": "markdown",
   "metadata": {},
   "source": [
    "# Inference Time Study"
   ]
  },
  {
   "cell_type": "markdown",
   "metadata": {},
   "source": [
    "In *base.py* file (mmengine) with class BaseModel add **imports** \n",
    "\n",
    "```python\n",
    "        import time\n",
    "        from demo.json_handler import JSONHandler\n",
    "```\n",
    "\n",
    "and **the following** (in test_step):\n",
    "\n",
    "```python\n",
    "        begin = time.time()\n",
    "        data = self.data_preprocessor(data, False)\n",
    "        end = time.time()\n",
    "\n",
    "        out_file = '/home/michele*/iac_code/michele_mmdet3d/data/minerva_polimove/inference_times.json'\n",
    "        handler = JSONHandler(out_file, True)\n",
    "        handler.update_dictionary({'Pre-processing delta_t': (end-begin)})\n",
    "\n",
    "        return self._run_forward(data, mode='predict')  # type: ignore\n",
    "```"
   ]
  },
  {
   "cell_type": "code",
   "execution_count": 1,
   "metadata": {},
   "outputs": [
    {
     "name": "stdout",
     "output_type": "stream",
     "text": [
      "Loads checkpoint by local backend from path: /home/michele/iac_code/michele_mmdet3d/work_dirs/pointpillars_minerva/epoch_120.pth\n",
      "10/08 15:04:30 - mmengine - \u001b[5m\u001b[4m\u001b[33mWARNING\u001b[0m - Failed to search registry with scope \"mmdet3d\" in the \"function\" registry tree. As a workaround, the current \"function\" registry in \"mmengine\" is used to build instance. This may cause unexpected failure when running the built modules. Please check whether \"mmdet3d\" is a correct scope, or whether the registry is initialized.\n"
     ]
    },
    {
     "name": "stderr",
     "output_type": "stream",
     "text": [
      "/home/michele/iac_code/michele_mmdet3d/mmdet3d/models/dense_heads/anchor3d_head.py:94: UserWarning: dir_offset and dir_limit_offset will be depressed and be incorporated into box coder in the future\n",
      "  warnings.warn(\n"
     ]
    },
    {
     "name": "stdout",
     "output_type": "stream",
     "text": [
      "Jupyter environment detected. Enabling Open3D WebVisualizer.\n",
      "[Open3D INFO] WebRTC GUI backend enabled.\n",
      "[Open3D INFO] WebRTCWindowSystem: HTTP handshake server disabled.\n"
     ]
    },
    {
     "data": {
      "application/vnd.jupyter.widget-view+json": {
       "model_id": "ab07d208e7ea4987966e73d20f531b32",
       "version_major": 2,
       "version_minor": 0
      },
      "text/plain": [
       "Output()"
      ]
     },
     "metadata": {},
     "output_type": "display_data"
    },
    {
     "name": "stderr",
     "output_type": "stream",
     "text": [
      "/usr/local/lib/python3.10/dist-packages/mmengine/visualization/visualizer.py:196: UserWarning: Failed to add <class 'mmengine.visualization.vis_backend.LocalVisBackend'>, please provide the `save_dir` argument.\n",
      "  warnings.warn(f'Failed to add {vis_backend.__class__}, '\n"
     ]
    },
    {
     "name": "stdout",
     "output_type": "stream",
     "text": [
      "Total validation point_clouds: 35\n"
     ]
    },
    {
     "data": {
      "text/html": [
       "<pre style=\"white-space:pre;overflow-x:auto;line-height:normal;font-family:Menlo,'DejaVu Sans Mono',consolas,'Courier New',monospace\">/usr/local/lib/python3.10/dist-packages/torch/functional.py:504: UserWarning: torch.meshgrid: in an upcoming \n",
       "release, it will be required to pass the indexing argument. (Triggered internally at \n",
       "../aten/src/ATen/native/TensorShape.cpp:3483.)\n",
       "  return _VF.meshgrid(tensors, **kwargs)  # type: ignore[attr-defined]\n",
       "</pre>\n"
      ],
      "text/plain": [
       "/usr/local/lib/python3.10/dist-packages/torch/functional.py:504: UserWarning: torch.meshgrid: in an upcoming \n",
       "release, it will be required to pass the indexing argument. (Triggered internally at \n",
       "../aten/src/ATen/native/TensorShape.cpp:3483.)\n",
       "  return _VF.meshgrid(tensors, **kwargs)  # type: ignore[attr-defined]\n"
      ]
     },
     "metadata": {},
     "output_type": "display_data"
    },
    {
     "data": {
      "text/html": [
       "<pre style=\"white-space:pre;overflow-x:auto;line-height:normal;font-family:Menlo,'DejaVu Sans Mono',consolas,'Courier New',monospace\"></pre>\n"
      ],
      "text/plain": []
     },
     "metadata": {},
     "output_type": "display_data"
    },
    {
     "data": {
      "text/html": [
       "<pre style=\"white-space:pre;overflow-x:auto;line-height:normal;font-family:Menlo,'DejaVu Sans Mono',consolas,'Courier New',monospace\">\n",
       "</pre>\n"
      ],
      "text/plain": [
       "\n"
      ]
     },
     "metadata": {},
     "output_type": "display_data"
    },
    {
     "data": {
      "application/vnd.jupyter.widget-view+json": {
       "model_id": "18875c1ed5204ed8bd1b6650e3388cb7",
       "version_major": 2,
       "version_minor": 0
      },
      "text/plain": [
       "Output()"
      ]
     },
     "metadata": {},
     "output_type": "display_data"
    },
    {
     "data": {
      "text/html": [
       "<pre style=\"white-space:pre;overflow-x:auto;line-height:normal;font-family:Menlo,'DejaVu Sans Mono',consolas,'Courier New',monospace\"></pre>\n"
      ],
      "text/plain": []
     },
     "metadata": {},
     "output_type": "display_data"
    },
    {
     "data": {
      "text/html": [
       "<pre style=\"white-space:pre;overflow-x:auto;line-height:normal;font-family:Menlo,'DejaVu Sans Mono',consolas,'Courier New',monospace\">\n",
       "</pre>\n"
      ],
      "text/plain": [
       "\n"
      ]
     },
     "metadata": {},
     "output_type": "display_data"
    },
    {
     "data": {
      "application/vnd.jupyter.widget-view+json": {
       "model_id": "2f94aedc159f476da7a4a92108b50df3",
       "version_major": 2,
       "version_minor": 0
      },
      "text/plain": [
       "Output()"
      ]
     },
     "metadata": {},
     "output_type": "display_data"
    },
    {
     "data": {
      "text/html": [
       "<pre style=\"white-space:pre;overflow-x:auto;line-height:normal;font-family:Menlo,'DejaVu Sans Mono',consolas,'Courier New',monospace\"></pre>\n"
      ],
      "text/plain": []
     },
     "metadata": {},
     "output_type": "display_data"
    },
    {
     "data": {
      "text/html": [
       "<pre style=\"white-space:pre;overflow-x:auto;line-height:normal;font-family:Menlo,'DejaVu Sans Mono',consolas,'Courier New',monospace\">\n",
       "</pre>\n"
      ],
      "text/plain": [
       "\n"
      ]
     },
     "metadata": {},
     "output_type": "display_data"
    },
    {
     "data": {
      "application/vnd.jupyter.widget-view+json": {
       "model_id": "93b976bf7d794b22939f8add9a7593b7",
       "version_major": 2,
       "version_minor": 0
      },
      "text/plain": [
       "Output()"
      ]
     },
     "metadata": {},
     "output_type": "display_data"
    },
    {
     "data": {
      "text/html": [
       "<pre style=\"white-space:pre;overflow-x:auto;line-height:normal;font-family:Menlo,'DejaVu Sans Mono',consolas,'Courier New',monospace\"></pre>\n"
      ],
      "text/plain": []
     },
     "metadata": {},
     "output_type": "display_data"
    },
    {
     "data": {
      "text/html": [
       "<pre style=\"white-space:pre;overflow-x:auto;line-height:normal;font-family:Menlo,'DejaVu Sans Mono',consolas,'Courier New',monospace\">\n",
       "</pre>\n"
      ],
      "text/plain": [
       "\n"
      ]
     },
     "metadata": {},
     "output_type": "display_data"
    },
    {
     "data": {
      "application/vnd.jupyter.widget-view+json": {
       "model_id": "0d4e501de97c40dfbd3159d2dc780a52",
       "version_major": 2,
       "version_minor": 0
      },
      "text/plain": [
       "Output()"
      ]
     },
     "metadata": {},
     "output_type": "display_data"
    },
    {
     "data": {
      "text/html": [
       "<pre style=\"white-space:pre;overflow-x:auto;line-height:normal;font-family:Menlo,'DejaVu Sans Mono',consolas,'Courier New',monospace\"></pre>\n"
      ],
      "text/plain": []
     },
     "metadata": {},
     "output_type": "display_data"
    },
    {
     "data": {
      "text/html": [
       "<pre style=\"white-space:pre;overflow-x:auto;line-height:normal;font-family:Menlo,'DejaVu Sans Mono',consolas,'Courier New',monospace\">\n",
       "</pre>\n"
      ],
      "text/plain": [
       "\n"
      ]
     },
     "metadata": {},
     "output_type": "display_data"
    },
    {
     "data": {
      "application/vnd.jupyter.widget-view+json": {
       "model_id": "f72c2a9861e847c8990036c078d24cf1",
       "version_major": 2,
       "version_minor": 0
      },
      "text/plain": [
       "Output()"
      ]
     },
     "metadata": {},
     "output_type": "display_data"
    },
    {
     "data": {
      "text/html": [
       "<pre style=\"white-space:pre;overflow-x:auto;line-height:normal;font-family:Menlo,'DejaVu Sans Mono',consolas,'Courier New',monospace\"></pre>\n"
      ],
      "text/plain": []
     },
     "metadata": {},
     "output_type": "display_data"
    },
    {
     "data": {
      "text/html": [
       "<pre style=\"white-space:pre;overflow-x:auto;line-height:normal;font-family:Menlo,'DejaVu Sans Mono',consolas,'Courier New',monospace\">\n",
       "</pre>\n"
      ],
      "text/plain": [
       "\n"
      ]
     },
     "metadata": {},
     "output_type": "display_data"
    },
    {
     "data": {
      "application/vnd.jupyter.widget-view+json": {
       "model_id": "bf9d4b266e45471e878fc8792a3b0044",
       "version_major": 2,
       "version_minor": 0
      },
      "text/plain": [
       "Output()"
      ]
     },
     "metadata": {},
     "output_type": "display_data"
    },
    {
     "data": {
      "text/html": [
       "<pre style=\"white-space:pre;overflow-x:auto;line-height:normal;font-family:Menlo,'DejaVu Sans Mono',consolas,'Courier New',monospace\"></pre>\n"
      ],
      "text/plain": []
     },
     "metadata": {},
     "output_type": "display_data"
    },
    {
     "data": {
      "text/html": [
       "<pre style=\"white-space:pre;overflow-x:auto;line-height:normal;font-family:Menlo,'DejaVu Sans Mono',consolas,'Courier New',monospace\">\n",
       "</pre>\n"
      ],
      "text/plain": [
       "\n"
      ]
     },
     "metadata": {},
     "output_type": "display_data"
    },
    {
     "data": {
      "application/vnd.jupyter.widget-view+json": {
       "model_id": "ca183a0a58bd4a03ab243812f2a5209f",
       "version_major": 2,
       "version_minor": 0
      },
      "text/plain": [
       "Output()"
      ]
     },
     "metadata": {},
     "output_type": "display_data"
    },
    {
     "data": {
      "text/html": [
       "<pre style=\"white-space:pre;overflow-x:auto;line-height:normal;font-family:Menlo,'DejaVu Sans Mono',consolas,'Courier New',monospace\"></pre>\n"
      ],
      "text/plain": []
     },
     "metadata": {},
     "output_type": "display_data"
    },
    {
     "data": {
      "text/html": [
       "<pre style=\"white-space:pre;overflow-x:auto;line-height:normal;font-family:Menlo,'DejaVu Sans Mono',consolas,'Courier New',monospace\">\n",
       "</pre>\n"
      ],
      "text/plain": [
       "\n"
      ]
     },
     "metadata": {},
     "output_type": "display_data"
    },
    {
     "data": {
      "application/vnd.jupyter.widget-view+json": {
       "model_id": "03b2646ef4c64995a7835b05b35df7aa",
       "version_major": 2,
       "version_minor": 0
      },
      "text/plain": [
       "Output()"
      ]
     },
     "metadata": {},
     "output_type": "display_data"
    },
    {
     "data": {
      "text/html": [
       "<pre style=\"white-space:pre;overflow-x:auto;line-height:normal;font-family:Menlo,'DejaVu Sans Mono',consolas,'Courier New',monospace\"></pre>\n"
      ],
      "text/plain": []
     },
     "metadata": {},
     "output_type": "display_data"
    },
    {
     "data": {
      "text/html": [
       "<pre style=\"white-space:pre;overflow-x:auto;line-height:normal;font-family:Menlo,'DejaVu Sans Mono',consolas,'Courier New',monospace\">\n",
       "</pre>\n"
      ],
      "text/plain": [
       "\n"
      ]
     },
     "metadata": {},
     "output_type": "display_data"
    },
    {
     "data": {
      "application/vnd.jupyter.widget-view+json": {
       "model_id": "1b7be52a52d04ed2912cbabbe52088bc",
       "version_major": 2,
       "version_minor": 0
      },
      "text/plain": [
       "Output()"
      ]
     },
     "metadata": {},
     "output_type": "display_data"
    },
    {
     "data": {
      "text/html": [
       "<pre style=\"white-space:pre;overflow-x:auto;line-height:normal;font-family:Menlo,'DejaVu Sans Mono',consolas,'Courier New',monospace\"></pre>\n"
      ],
      "text/plain": []
     },
     "metadata": {},
     "output_type": "display_data"
    },
    {
     "data": {
      "text/html": [
       "<pre style=\"white-space:pre;overflow-x:auto;line-height:normal;font-family:Menlo,'DejaVu Sans Mono',consolas,'Courier New',monospace\">\n",
       "</pre>\n"
      ],
      "text/plain": [
       "\n"
      ]
     },
     "metadata": {},
     "output_type": "display_data"
    },
    {
     "data": {
      "application/vnd.jupyter.widget-view+json": {
       "model_id": "1fcd1e4a255d442cb9a6bd468742f481",
       "version_major": 2,
       "version_minor": 0
      },
      "text/plain": [
       "Output()"
      ]
     },
     "metadata": {},
     "output_type": "display_data"
    },
    {
     "data": {
      "text/html": [
       "<pre style=\"white-space:pre;overflow-x:auto;line-height:normal;font-family:Menlo,'DejaVu Sans Mono',consolas,'Courier New',monospace\"></pre>\n"
      ],
      "text/plain": []
     },
     "metadata": {},
     "output_type": "display_data"
    },
    {
     "data": {
      "text/html": [
       "<pre style=\"white-space:pre;overflow-x:auto;line-height:normal;font-family:Menlo,'DejaVu Sans Mono',consolas,'Courier New',monospace\">\n",
       "</pre>\n"
      ],
      "text/plain": [
       "\n"
      ]
     },
     "metadata": {},
     "output_type": "display_data"
    },
    {
     "data": {
      "application/vnd.jupyter.widget-view+json": {
       "model_id": "37ba34bd677043fa913118344c1958cd",
       "version_major": 2,
       "version_minor": 0
      },
      "text/plain": [
       "Output()"
      ]
     },
     "metadata": {},
     "output_type": "display_data"
    },
    {
     "data": {
      "text/html": [
       "<pre style=\"white-space:pre;overflow-x:auto;line-height:normal;font-family:Menlo,'DejaVu Sans Mono',consolas,'Courier New',monospace\"></pre>\n"
      ],
      "text/plain": []
     },
     "metadata": {},
     "output_type": "display_data"
    },
    {
     "data": {
      "text/html": [
       "<pre style=\"white-space:pre;overflow-x:auto;line-height:normal;font-family:Menlo,'DejaVu Sans Mono',consolas,'Courier New',monospace\">\n",
       "</pre>\n"
      ],
      "text/plain": [
       "\n"
      ]
     },
     "metadata": {},
     "output_type": "display_data"
    },
    {
     "data": {
      "application/vnd.jupyter.widget-view+json": {
       "model_id": "9e6aa574acef48dfb2fe0c21373a40d6",
       "version_major": 2,
       "version_minor": 0
      },
      "text/plain": [
       "Output()"
      ]
     },
     "metadata": {},
     "output_type": "display_data"
    },
    {
     "data": {
      "text/html": [
       "<pre style=\"white-space:pre;overflow-x:auto;line-height:normal;font-family:Menlo,'DejaVu Sans Mono',consolas,'Courier New',monospace\"></pre>\n"
      ],
      "text/plain": []
     },
     "metadata": {},
     "output_type": "display_data"
    },
    {
     "data": {
      "text/html": [
       "<pre style=\"white-space:pre;overflow-x:auto;line-height:normal;font-family:Menlo,'DejaVu Sans Mono',consolas,'Courier New',monospace\">\n",
       "</pre>\n"
      ],
      "text/plain": [
       "\n"
      ]
     },
     "metadata": {},
     "output_type": "display_data"
    },
    {
     "data": {
      "application/vnd.jupyter.widget-view+json": {
       "model_id": "33012d69a31746cebbdc2d6ff9563c88",
       "version_major": 2,
       "version_minor": 0
      },
      "text/plain": [
       "Output()"
      ]
     },
     "metadata": {},
     "output_type": "display_data"
    },
    {
     "data": {
      "text/html": [
       "<pre style=\"white-space:pre;overflow-x:auto;line-height:normal;font-family:Menlo,'DejaVu Sans Mono',consolas,'Courier New',monospace\"></pre>\n"
      ],
      "text/plain": []
     },
     "metadata": {},
     "output_type": "display_data"
    },
    {
     "data": {
      "text/html": [
       "<pre style=\"white-space:pre;overflow-x:auto;line-height:normal;font-family:Menlo,'DejaVu Sans Mono',consolas,'Courier New',monospace\">\n",
       "</pre>\n"
      ],
      "text/plain": [
       "\n"
      ]
     },
     "metadata": {},
     "output_type": "display_data"
    },
    {
     "data": {
      "application/vnd.jupyter.widget-view+json": {
       "model_id": "0b1af51e4fa04cee928d132624fc8539",
       "version_major": 2,
       "version_minor": 0
      },
      "text/plain": [
       "Output()"
      ]
     },
     "metadata": {},
     "output_type": "display_data"
    },
    {
     "data": {
      "text/html": [
       "<pre style=\"white-space:pre;overflow-x:auto;line-height:normal;font-family:Menlo,'DejaVu Sans Mono',consolas,'Courier New',monospace\"></pre>\n"
      ],
      "text/plain": []
     },
     "metadata": {},
     "output_type": "display_data"
    },
    {
     "data": {
      "text/html": [
       "<pre style=\"white-space:pre;overflow-x:auto;line-height:normal;font-family:Menlo,'DejaVu Sans Mono',consolas,'Courier New',monospace\">\n",
       "</pre>\n"
      ],
      "text/plain": [
       "\n"
      ]
     },
     "metadata": {},
     "output_type": "display_data"
    },
    {
     "data": {
      "application/vnd.jupyter.widget-view+json": {
       "model_id": "b2528c4193ce47e3ab0b1ca7c0649b12",
       "version_major": 2,
       "version_minor": 0
      },
      "text/plain": [
       "Output()"
      ]
     },
     "metadata": {},
     "output_type": "display_data"
    },
    {
     "data": {
      "text/html": [
       "<pre style=\"white-space:pre;overflow-x:auto;line-height:normal;font-family:Menlo,'DejaVu Sans Mono',consolas,'Courier New',monospace\"></pre>\n"
      ],
      "text/plain": []
     },
     "metadata": {},
     "output_type": "display_data"
    },
    {
     "data": {
      "text/html": [
       "<pre style=\"white-space:pre;overflow-x:auto;line-height:normal;font-family:Menlo,'DejaVu Sans Mono',consolas,'Courier New',monospace\">\n",
       "</pre>\n"
      ],
      "text/plain": [
       "\n"
      ]
     },
     "metadata": {},
     "output_type": "display_data"
    },
    {
     "data": {
      "application/vnd.jupyter.widget-view+json": {
       "model_id": "8ba9489ea82b4ea1a087dc18759a2c32",
       "version_major": 2,
       "version_minor": 0
      },
      "text/plain": [
       "Output()"
      ]
     },
     "metadata": {},
     "output_type": "display_data"
    },
    {
     "data": {
      "text/html": [
       "<pre style=\"white-space:pre;overflow-x:auto;line-height:normal;font-family:Menlo,'DejaVu Sans Mono',consolas,'Courier New',monospace\"></pre>\n"
      ],
      "text/plain": []
     },
     "metadata": {},
     "output_type": "display_data"
    },
    {
     "data": {
      "text/html": [
       "<pre style=\"white-space:pre;overflow-x:auto;line-height:normal;font-family:Menlo,'DejaVu Sans Mono',consolas,'Courier New',monospace\">\n",
       "</pre>\n"
      ],
      "text/plain": [
       "\n"
      ]
     },
     "metadata": {},
     "output_type": "display_data"
    },
    {
     "data": {
      "application/vnd.jupyter.widget-view+json": {
       "model_id": "4daf020530004749a633a4395cf9c261",
       "version_major": 2,
       "version_minor": 0
      },
      "text/plain": [
       "Output()"
      ]
     },
     "metadata": {},
     "output_type": "display_data"
    },
    {
     "data": {
      "text/html": [
       "<pre style=\"white-space:pre;overflow-x:auto;line-height:normal;font-family:Menlo,'DejaVu Sans Mono',consolas,'Courier New',monospace\"></pre>\n"
      ],
      "text/plain": []
     },
     "metadata": {},
     "output_type": "display_data"
    },
    {
     "data": {
      "text/html": [
       "<pre style=\"white-space:pre;overflow-x:auto;line-height:normal;font-family:Menlo,'DejaVu Sans Mono',consolas,'Courier New',monospace\">\n",
       "</pre>\n"
      ],
      "text/plain": [
       "\n"
      ]
     },
     "metadata": {},
     "output_type": "display_data"
    },
    {
     "data": {
      "application/vnd.jupyter.widget-view+json": {
       "model_id": "2423c9c487ae4219bad7bb85e207a215",
       "version_major": 2,
       "version_minor": 0
      },
      "text/plain": [
       "Output()"
      ]
     },
     "metadata": {},
     "output_type": "display_data"
    },
    {
     "data": {
      "text/html": [
       "<pre style=\"white-space:pre;overflow-x:auto;line-height:normal;font-family:Menlo,'DejaVu Sans Mono',consolas,'Courier New',monospace\"></pre>\n"
      ],
      "text/plain": []
     },
     "metadata": {},
     "output_type": "display_data"
    },
    {
     "data": {
      "text/html": [
       "<pre style=\"white-space:pre;overflow-x:auto;line-height:normal;font-family:Menlo,'DejaVu Sans Mono',consolas,'Courier New',monospace\">\n",
       "</pre>\n"
      ],
      "text/plain": [
       "\n"
      ]
     },
     "metadata": {},
     "output_type": "display_data"
    },
    {
     "data": {
      "application/vnd.jupyter.widget-view+json": {
       "model_id": "d48aa88aab8e4abd80fc784cf1b1c1be",
       "version_major": 2,
       "version_minor": 0
      },
      "text/plain": [
       "Output()"
      ]
     },
     "metadata": {},
     "output_type": "display_data"
    },
    {
     "data": {
      "text/html": [
       "<pre style=\"white-space:pre;overflow-x:auto;line-height:normal;font-family:Menlo,'DejaVu Sans Mono',consolas,'Courier New',monospace\"></pre>\n"
      ],
      "text/plain": []
     },
     "metadata": {},
     "output_type": "display_data"
    },
    {
     "data": {
      "text/html": [
       "<pre style=\"white-space:pre;overflow-x:auto;line-height:normal;font-family:Menlo,'DejaVu Sans Mono',consolas,'Courier New',monospace\">\n",
       "</pre>\n"
      ],
      "text/plain": [
       "\n"
      ]
     },
     "metadata": {},
     "output_type": "display_data"
    },
    {
     "data": {
      "application/vnd.jupyter.widget-view+json": {
       "model_id": "fcc174864680416a99859fe8956252ab",
       "version_major": 2,
       "version_minor": 0
      },
      "text/plain": [
       "Output()"
      ]
     },
     "metadata": {},
     "output_type": "display_data"
    },
    {
     "data": {
      "text/html": [
       "<pre style=\"white-space:pre;overflow-x:auto;line-height:normal;font-family:Menlo,'DejaVu Sans Mono',consolas,'Courier New',monospace\"></pre>\n"
      ],
      "text/plain": []
     },
     "metadata": {},
     "output_type": "display_data"
    },
    {
     "data": {
      "text/html": [
       "<pre style=\"white-space:pre;overflow-x:auto;line-height:normal;font-family:Menlo,'DejaVu Sans Mono',consolas,'Courier New',monospace\">\n",
       "</pre>\n"
      ],
      "text/plain": [
       "\n"
      ]
     },
     "metadata": {},
     "output_type": "display_data"
    },
    {
     "data": {
      "application/vnd.jupyter.widget-view+json": {
       "model_id": "0e0e4bce2dbf40469875aa5ec71624d8",
       "version_major": 2,
       "version_minor": 0
      },
      "text/plain": [
       "Output()"
      ]
     },
     "metadata": {},
     "output_type": "display_data"
    },
    {
     "data": {
      "text/html": [
       "<pre style=\"white-space:pre;overflow-x:auto;line-height:normal;font-family:Menlo,'DejaVu Sans Mono',consolas,'Courier New',monospace\"></pre>\n"
      ],
      "text/plain": []
     },
     "metadata": {},
     "output_type": "display_data"
    },
    {
     "data": {
      "text/html": [
       "<pre style=\"white-space:pre;overflow-x:auto;line-height:normal;font-family:Menlo,'DejaVu Sans Mono',consolas,'Courier New',monospace\">\n",
       "</pre>\n"
      ],
      "text/plain": [
       "\n"
      ]
     },
     "metadata": {},
     "output_type": "display_data"
    },
    {
     "data": {
      "application/vnd.jupyter.widget-view+json": {
       "model_id": "7a9962f5865d4fcda0680b658b10119b",
       "version_major": 2,
       "version_minor": 0
      },
      "text/plain": [
       "Output()"
      ]
     },
     "metadata": {},
     "output_type": "display_data"
    },
    {
     "data": {
      "text/html": [
       "<pre style=\"white-space:pre;overflow-x:auto;line-height:normal;font-family:Menlo,'DejaVu Sans Mono',consolas,'Courier New',monospace\"></pre>\n"
      ],
      "text/plain": []
     },
     "metadata": {},
     "output_type": "display_data"
    },
    {
     "data": {
      "text/html": [
       "<pre style=\"white-space:pre;overflow-x:auto;line-height:normal;font-family:Menlo,'DejaVu Sans Mono',consolas,'Courier New',monospace\">\n",
       "</pre>\n"
      ],
      "text/plain": [
       "\n"
      ]
     },
     "metadata": {},
     "output_type": "display_data"
    },
    {
     "data": {
      "application/vnd.jupyter.widget-view+json": {
       "model_id": "ff2ce4a1266a43da9447389ccd24a81a",
       "version_major": 2,
       "version_minor": 0
      },
      "text/plain": [
       "Output()"
      ]
     },
     "metadata": {},
     "output_type": "display_data"
    },
    {
     "data": {
      "text/html": [
       "<pre style=\"white-space:pre;overflow-x:auto;line-height:normal;font-family:Menlo,'DejaVu Sans Mono',consolas,'Courier New',monospace\"></pre>\n"
      ],
      "text/plain": []
     },
     "metadata": {},
     "output_type": "display_data"
    },
    {
     "data": {
      "text/html": [
       "<pre style=\"white-space:pre;overflow-x:auto;line-height:normal;font-family:Menlo,'DejaVu Sans Mono',consolas,'Courier New',monospace\">\n",
       "</pre>\n"
      ],
      "text/plain": [
       "\n"
      ]
     },
     "metadata": {},
     "output_type": "display_data"
    },
    {
     "data": {
      "application/vnd.jupyter.widget-view+json": {
       "model_id": "f2b28b185192435c80766a6a9696e6d8",
       "version_major": 2,
       "version_minor": 0
      },
      "text/plain": [
       "Output()"
      ]
     },
     "metadata": {},
     "output_type": "display_data"
    },
    {
     "data": {
      "text/html": [
       "<pre style=\"white-space:pre;overflow-x:auto;line-height:normal;font-family:Menlo,'DejaVu Sans Mono',consolas,'Courier New',monospace\"></pre>\n"
      ],
      "text/plain": []
     },
     "metadata": {},
     "output_type": "display_data"
    },
    {
     "data": {
      "text/html": [
       "<pre style=\"white-space:pre;overflow-x:auto;line-height:normal;font-family:Menlo,'DejaVu Sans Mono',consolas,'Courier New',monospace\">\n",
       "</pre>\n"
      ],
      "text/plain": [
       "\n"
      ]
     },
     "metadata": {},
     "output_type": "display_data"
    },
    {
     "data": {
      "application/vnd.jupyter.widget-view+json": {
       "model_id": "109b245a8ea24e4eb87fe124144cfd25",
       "version_major": 2,
       "version_minor": 0
      },
      "text/plain": [
       "Output()"
      ]
     },
     "metadata": {},
     "output_type": "display_data"
    },
    {
     "data": {
      "text/html": [
       "<pre style=\"white-space:pre;overflow-x:auto;line-height:normal;font-family:Menlo,'DejaVu Sans Mono',consolas,'Courier New',monospace\"></pre>\n"
      ],
      "text/plain": []
     },
     "metadata": {},
     "output_type": "display_data"
    },
    {
     "data": {
      "text/html": [
       "<pre style=\"white-space:pre;overflow-x:auto;line-height:normal;font-family:Menlo,'DejaVu Sans Mono',consolas,'Courier New',monospace\">\n",
       "</pre>\n"
      ],
      "text/plain": [
       "\n"
      ]
     },
     "metadata": {},
     "output_type": "display_data"
    },
    {
     "data": {
      "application/vnd.jupyter.widget-view+json": {
       "model_id": "1b94b54b815d467c86905df86cf2e437",
       "version_major": 2,
       "version_minor": 0
      },
      "text/plain": [
       "Output()"
      ]
     },
     "metadata": {},
     "output_type": "display_data"
    },
    {
     "data": {
      "text/html": [
       "<pre style=\"white-space:pre;overflow-x:auto;line-height:normal;font-family:Menlo,'DejaVu Sans Mono',consolas,'Courier New',monospace\"></pre>\n"
      ],
      "text/plain": []
     },
     "metadata": {},
     "output_type": "display_data"
    },
    {
     "data": {
      "text/html": [
       "<pre style=\"white-space:pre;overflow-x:auto;line-height:normal;font-family:Menlo,'DejaVu Sans Mono',consolas,'Courier New',monospace\">\n",
       "</pre>\n"
      ],
      "text/plain": [
       "\n"
      ]
     },
     "metadata": {},
     "output_type": "display_data"
    },
    {
     "data": {
      "application/vnd.jupyter.widget-view+json": {
       "model_id": "c2b8c19a7c9a4f5b894317e7be70d55b",
       "version_major": 2,
       "version_minor": 0
      },
      "text/plain": [
       "Output()"
      ]
     },
     "metadata": {},
     "output_type": "display_data"
    },
    {
     "data": {
      "text/html": [
       "<pre style=\"white-space:pre;overflow-x:auto;line-height:normal;font-family:Menlo,'DejaVu Sans Mono',consolas,'Courier New',monospace\"></pre>\n"
      ],
      "text/plain": []
     },
     "metadata": {},
     "output_type": "display_data"
    },
    {
     "data": {
      "text/html": [
       "<pre style=\"white-space:pre;overflow-x:auto;line-height:normal;font-family:Menlo,'DejaVu Sans Mono',consolas,'Courier New',monospace\">\n",
       "</pre>\n"
      ],
      "text/plain": [
       "\n"
      ]
     },
     "metadata": {},
     "output_type": "display_data"
    },
    {
     "data": {
      "application/vnd.jupyter.widget-view+json": {
       "model_id": "e646500bb27e416d85bd67f69bd0301a",
       "version_major": 2,
       "version_minor": 0
      },
      "text/plain": [
       "Output()"
      ]
     },
     "metadata": {},
     "output_type": "display_data"
    },
    {
     "data": {
      "text/html": [
       "<pre style=\"white-space:pre;overflow-x:auto;line-height:normal;font-family:Menlo,'DejaVu Sans Mono',consolas,'Courier New',monospace\"></pre>\n"
      ],
      "text/plain": []
     },
     "metadata": {},
     "output_type": "display_data"
    },
    {
     "data": {
      "text/html": [
       "<pre style=\"white-space:pre;overflow-x:auto;line-height:normal;font-family:Menlo,'DejaVu Sans Mono',consolas,'Courier New',monospace\">\n",
       "</pre>\n"
      ],
      "text/plain": [
       "\n"
      ]
     },
     "metadata": {},
     "output_type": "display_data"
    },
    {
     "data": {
      "application/vnd.jupyter.widget-view+json": {
       "model_id": "b34a2ce22bc04e0da85499b0b69c135c",
       "version_major": 2,
       "version_minor": 0
      },
      "text/plain": [
       "Output()"
      ]
     },
     "metadata": {},
     "output_type": "display_data"
    },
    {
     "data": {
      "text/html": [
       "<pre style=\"white-space:pre;overflow-x:auto;line-height:normal;font-family:Menlo,'DejaVu Sans Mono',consolas,'Courier New',monospace\"></pre>\n"
      ],
      "text/plain": []
     },
     "metadata": {},
     "output_type": "display_data"
    },
    {
     "data": {
      "text/html": [
       "<pre style=\"white-space:pre;overflow-x:auto;line-height:normal;font-family:Menlo,'DejaVu Sans Mono',consolas,'Courier New',monospace\">\n",
       "</pre>\n"
      ],
      "text/plain": [
       "\n"
      ]
     },
     "metadata": {},
     "output_type": "display_data"
    },
    {
     "data": {
      "application/vnd.jupyter.widget-view+json": {
       "model_id": "bf72a8025793474d934cc87fd4ed5286",
       "version_major": 2,
       "version_minor": 0
      },
      "text/plain": [
       "Output()"
      ]
     },
     "metadata": {},
     "output_type": "display_data"
    },
    {
     "data": {
      "text/html": [
       "<pre style=\"white-space:pre;overflow-x:auto;line-height:normal;font-family:Menlo,'DejaVu Sans Mono',consolas,'Courier New',monospace\"></pre>\n"
      ],
      "text/plain": []
     },
     "metadata": {},
     "output_type": "display_data"
    },
    {
     "data": {
      "text/html": [
       "<pre style=\"white-space:pre;overflow-x:auto;line-height:normal;font-family:Menlo,'DejaVu Sans Mono',consolas,'Courier New',monospace\">\n",
       "</pre>\n"
      ],
      "text/plain": [
       "\n"
      ]
     },
     "metadata": {},
     "output_type": "display_data"
    },
    {
     "data": {
      "application/vnd.jupyter.widget-view+json": {
       "model_id": "e372d27420b44f90b77200341154555f",
       "version_major": 2,
       "version_minor": 0
      },
      "text/plain": [
       "Output()"
      ]
     },
     "metadata": {},
     "output_type": "display_data"
    },
    {
     "data": {
      "text/html": [
       "<pre style=\"white-space:pre;overflow-x:auto;line-height:normal;font-family:Menlo,'DejaVu Sans Mono',consolas,'Courier New',monospace\"></pre>\n"
      ],
      "text/plain": []
     },
     "metadata": {},
     "output_type": "display_data"
    },
    {
     "data": {
      "text/html": [
       "<pre style=\"white-space:pre;overflow-x:auto;line-height:normal;font-family:Menlo,'DejaVu Sans Mono',consolas,'Courier New',monospace\">\n",
       "</pre>\n"
      ],
      "text/plain": [
       "\n"
      ]
     },
     "metadata": {},
     "output_type": "display_data"
    },
    {
     "data": {
      "application/vnd.jupyter.widget-view+json": {
       "model_id": "171d27e0ca8347cf84564cda9456ecc5",
       "version_major": 2,
       "version_minor": 0
      },
      "text/plain": [
       "Output()"
      ]
     },
     "metadata": {},
     "output_type": "display_data"
    },
    {
     "data": {
      "text/html": [
       "<pre style=\"white-space:pre;overflow-x:auto;line-height:normal;font-family:Menlo,'DejaVu Sans Mono',consolas,'Courier New',monospace\"></pre>\n"
      ],
      "text/plain": []
     },
     "metadata": {},
     "output_type": "display_data"
    },
    {
     "data": {
      "text/html": [
       "<pre style=\"white-space:pre;overflow-x:auto;line-height:normal;font-family:Menlo,'DejaVu Sans Mono',consolas,'Courier New',monospace\">\n",
       "</pre>\n"
      ],
      "text/plain": [
       "\n"
      ]
     },
     "metadata": {},
     "output_type": "display_data"
    },
    {
     "data": {
      "application/vnd.jupyter.widget-view+json": {
       "model_id": "a42ab45c0efe4d5783800972a76f3acc",
       "version_major": 2,
       "version_minor": 0
      },
      "text/plain": [
       "Output()"
      ]
     },
     "metadata": {},
     "output_type": "display_data"
    },
    {
     "data": {
      "text/html": [
       "<pre style=\"white-space:pre;overflow-x:auto;line-height:normal;font-family:Menlo,'DejaVu Sans Mono',consolas,'Courier New',monospace\"></pre>\n"
      ],
      "text/plain": []
     },
     "metadata": {},
     "output_type": "display_data"
    },
    {
     "data": {
      "text/html": [
       "<pre style=\"white-space:pre;overflow-x:auto;line-height:normal;font-family:Menlo,'DejaVu Sans Mono',consolas,'Courier New',monospace\">\n",
       "</pre>\n"
      ],
      "text/plain": [
       "\n"
      ]
     },
     "metadata": {},
     "output_type": "display_data"
    },
    {
     "data": {
      "application/vnd.jupyter.widget-view+json": {
       "model_id": "0d81fb56b53e4ed59ad138e0fd824264",
       "version_major": 2,
       "version_minor": 0
      },
      "text/plain": [
       "Output()"
      ]
     },
     "metadata": {},
     "output_type": "display_data"
    },
    {
     "data": {
      "text/html": [
       "<pre style=\"white-space:pre;overflow-x:auto;line-height:normal;font-family:Menlo,'DejaVu Sans Mono',consolas,'Courier New',monospace\"></pre>\n"
      ],
      "text/plain": []
     },
     "metadata": {},
     "output_type": "display_data"
    },
    {
     "data": {
      "text/html": [
       "<pre style=\"white-space:pre;overflow-x:auto;line-height:normal;font-family:Menlo,'DejaVu Sans Mono',consolas,'Courier New',monospace\">\n",
       "</pre>\n"
      ],
      "text/plain": [
       "\n"
      ]
     },
     "metadata": {},
     "output_type": "display_data"
    }
   ],
   "source": [
    "#################################################################################################################\n",
    "#                                      INFERENCE AND SAVE THE DATA                                              #\n",
    "#################################################################################################################\n",
    "\n",
    "# Needed imports\n",
    "import sys\n",
    "from json_handler import JSONHandler\n",
    "import time\n",
    "\n",
    "\n",
    "# Add the new paths separately\n",
    "new_path1 = \"/home/michele/.local/lib/python3.10/site-packages/\"\n",
    "new_path2 = \"/home/michele/iac_code/michele_mmdet3d/\"\n",
    "if not new_path1 in sys.path:\n",
    "    sys.path.insert(1, new_path1)\n",
    "if not new_path2 in sys.path:\n",
    "    sys.path.insert(1, new_path2)\n",
    "# Import the fucking wicked class\n",
    "from mmdet3d.apis import LidarDet3DInferencer\n",
    "\n",
    "\n",
    "# Initialize the actual inferencer class\n",
    "inferencer = LidarDet3DInferencer(model='/home/michele/iac_code/michele_mmdet3d/configs/minerva/CONDENSED_pointpillars_minerva.py', \n",
    "                                  weights='/home/michele/iac_code/michele_mmdet3d/work_dirs/pointpillars_minerva/epoch_120.pth')\n",
    "\n",
    "\n",
    "# Read the files in validation list\n",
    "val_list_txt_file = \"/home/michele/iac_code/michele_mmdet3d/data/minerva_polimove/ImageSets/val.txt\"\n",
    "with open(val_list_txt_file, 'r') as file:\n",
    "    val_file_names = [line.strip() for line in file]\n",
    "print(f\"Total validation point_clouds: {len(val_file_names)}\")\n",
    "\n",
    "\n",
    "# Create the list of inputs, suitable for the inferencer\n",
    "inputs = []\n",
    "for i, name in enumerate(val_file_names):\n",
    "    inputs.append(dict(points=(\"/home/michele/iac_code/michele_mmdet3d/data/minerva_polimove/training/velodyne/\"+name+\".bin\")))\n",
    "\n",
    "\n",
    "# Create an instance JSONHandler\n",
    "out_file = '/home/michele/iac_code/michele_mmdet3d/data/minerva_polimove/inference_times.json'\n",
    "handler = JSONHandler(out_file)\n",
    "# Remove the file if already existing\n",
    "handler.reset()\n",
    "# Do the actual inference\n",
    "results = []\n",
    "for i, input in enumerate(inputs):\n",
    "    begin = time.time()\n",
    "    handler.add_dictionary({'Everything start': begin})\n",
    "    results.append(inferencer(input))\n",
    "    end = time.time()\n",
    "    handler.update_dictionary({'Everything end': end})"
   ]
  },
  {
   "cell_type": "code",
   "execution_count": 2,
   "metadata": {},
   "outputs": [
    {
     "name": "stdout",
     "output_type": "stream",
     "text": [
      "{'Everything start': 1728392671.3268483, 'Voxel encoder start': 1728392671.3992667, 'Voxel encoder delta_t': 0.0413973331451416, 'Middle encoder delta_t': 0.00929117202758789, 'Backbone delta_t': 0.1145174503326416, 'Neck delta_t': 0.050840139389038086, 'Post-processing delta_t': 0.07832598686218262, 'Everything end': 1728392671.6993778}\n",
      "{'Everything start': 1728392671.6995282, 'Voxel encoder start': 1728392671.7435434, 'Voxel encoder delta_t': 0.0010769367218017578, 'Middle encoder delta_t': 0.0008058547973632812, 'Backbone delta_t': 0.0011372566223144531, 'Neck delta_t': 0.00021719932556152344, 'Post-processing delta_t': 0.039076805114746094, 'Everything end': 1728392671.7978826}\n",
      "{'Everything start': 1728392671.7980912, 'Voxel encoder start': 1728392671.8416345, 'Voxel encoder delta_t': 0.0008463859558105469, 'Middle encoder delta_t': 0.0007786750793457031, 'Backbone delta_t': 0.0010139942169189453, 'Neck delta_t': 0.0005080699920654297, 'Post-processing delta_t': 0.03904247283935547, 'Everything end': 1728392671.897053}\n",
      "{'Everything start': 1728392671.8972483, 'Voxel encoder start': 1728392671.9398546, 'Voxel encoder delta_t': 0.0010476112365722656, 'Middle encoder delta_t': 0.000843048095703125, 'Backbone delta_t': 0.0007536411285400391, 'Neck delta_t': 0.0002052783966064453, 'Post-processing delta_t': 0.03410816192626953, 'Everything end': 1728392671.989567}\n",
      "{'Everything start': 1728392671.9897857, 'Voxel encoder start': 1728392672.027027, 'Voxel encoder delta_t': 0.0005605220794677734, 'Middle encoder delta_t': 0.0009098052978515625, 'Backbone delta_t': 0.0007789134979248047, 'Neck delta_t': 0.00021529197692871094, 'Post-processing delta_t': 0.0339047908782959, 'Everything end': 1728392672.0756447}\n",
      "{'Everything start': 1728392672.0759487, 'Voxel encoder start': 1728392672.1107435, 'Voxel encoder delta_t': 0.000553131103515625, 'Middle encoder delta_t': 0.0007100105285644531, 'Backbone delta_t': 0.0006272792816162109, 'Neck delta_t': 0.000225067138671875, 'Post-processing delta_t': 0.03487730026245117, 'Everything end': 1728392672.1596007}\n",
      "{'Everything start': 1728392672.159987, 'Voxel encoder start': 1728392672.19719, 'Voxel encoder delta_t': 0.001173257827758789, 'Middle encoder delta_t': 0.0007109642028808594, 'Backbone delta_t': 0.0007042884826660156, 'Neck delta_t': 0.0002262592315673828, 'Post-processing delta_t': 0.03539609909057617, 'Everything end': 1728392672.2458513}\n",
      "{'Everything start': 1728392672.2462049, 'Voxel encoder start': 1728392672.2767005, 'Voxel encoder delta_t': 0.0005984306335449219, 'Middle encoder delta_t': 0.0009875297546386719, 'Backbone delta_t': 0.0006361007690429688, 'Neck delta_t': 0.0001900196075439453, 'Post-processing delta_t': 0.03457498550415039, 'Everything end': 1728392672.3231695}\n",
      "{'Everything start': 1728392672.3237138, 'Voxel encoder start': 1728392672.3590357, 'Voxel encoder delta_t': 0.0005588531494140625, 'Middle encoder delta_t': 0.0009558200836181641, 'Backbone delta_t': 0.0009260177612304688, 'Neck delta_t': 0.0001995563507080078, 'Post-processing delta_t': 0.03437638282775879, 'Everything end': 1728392672.4038904}\n",
      "{'Everything start': 1728392672.404402, 'Voxel encoder start': 1728392672.441623, 'Voxel encoder delta_t': 0.0015273094177246094, 'Middle encoder delta_t': 0.0012440681457519531, 'Backbone delta_t': 0.0009133815765380859, 'Neck delta_t': 0.0003161430358886719, 'Post-processing delta_t': 0.03339648246765137, 'Everything end': 1728392672.4876788}\n",
      "{'Everything start': 1728392672.4882288, 'Voxel encoder start': 1728392672.5255792, 'Voxel encoder delta_t': 0.0007121562957763672, 'Middle encoder delta_t': 0.0007038116455078125, 'Backbone delta_t': 0.0006632804870605469, 'Neck delta_t': 0.0002086162567138672, 'Post-processing delta_t': 0.03435683250427246, 'Everything end': 1728392672.5713334}\n",
      "{'Everything start': 1728392672.5717766, 'Voxel encoder start': 1728392672.606878, 'Voxel encoder delta_t': 0.0004911422729492188, 'Middle encoder delta_t': 0.0007510185241699219, 'Backbone delta_t': 0.0014111995697021484, 'Neck delta_t': 0.00041103363037109375, 'Post-processing delta_t': 0.0342864990234375, 'Everything end': 1728392672.6524851}\n",
      "{'Everything start': 1728392672.6528857, 'Voxel encoder start': 1728392672.685687, 'Voxel encoder delta_t': 0.0006413459777832031, 'Middle encoder delta_t': 0.0006849765777587891, 'Backbone delta_t': 0.0006146430969238281, 'Neck delta_t': 0.00018143653869628906, 'Post-processing delta_t': 0.03397798538208008, 'Everything end': 1728392672.730714}\n",
      "{'Everything start': 1728392672.7310312, 'Voxel encoder start': 1728392672.76833, 'Voxel encoder delta_t': 0.0008544921875, 'Middle encoder delta_t': 0.0007016658782958984, 'Backbone delta_t': 0.0006914138793945312, 'Neck delta_t': 0.000209808349609375, 'Post-processing delta_t': 0.03396487236022949, 'Everything end': 1728392672.8140607}\n",
      "{'Everything start': 1728392672.8143904, 'Voxel encoder start': 1728392672.850421, 'Voxel encoder delta_t': 0.0008645057678222656, 'Middle encoder delta_t': 0.0010089874267578125, 'Backbone delta_t': 0.0022356510162353516, 'Neck delta_t': 0.0004649162292480469, 'Post-processing delta_t': 0.03274869918823242, 'Everything end': 1728392672.8975084}\n",
      "{'Everything start': 1728392672.8978817, 'Voxel encoder start': 1728392672.9360535, 'Voxel encoder delta_t': 0.0007808208465576172, 'Middle encoder delta_t': 0.0007109642028808594, 'Backbone delta_t': 0.0006768703460693359, 'Neck delta_t': 0.00020813941955566406, 'Post-processing delta_t': 0.03501081466674805, 'Everything end': 1728392672.981876}\n",
      "{'Everything start': 1728392672.9822416, 'Voxel encoder start': 1728392673.0184107, 'Voxel encoder delta_t': 0.0012197494506835938, 'Middle encoder delta_t': 0.0007565021514892578, 'Backbone delta_t': 0.0006833076477050781, 'Neck delta_t': 0.0001990795135498047, 'Post-processing delta_t': 0.034147024154663086, 'Everything end': 1728392673.0644796}\n",
      "{'Everything start': 1728392673.064864, 'Voxel encoder start': 1728392673.1008239, 'Voxel encoder delta_t': 0.0008258819580078125, 'Middle encoder delta_t': 0.0008134841918945312, 'Backbone delta_t': 0.0007045269012451172, 'Neck delta_t': 0.00020837783813476562, 'Post-processing delta_t': 0.0340883731842041, 'Everything end': 1728392673.146597}\n",
      "{'Everything start': 1728392673.1470134, 'Voxel encoder start': 1728392673.1812208, 'Voxel encoder delta_t': 0.0005071163177490234, 'Middle encoder delta_t': 0.0007443428039550781, 'Backbone delta_t': 0.0007462501525878906, 'Neck delta_t': 0.0007205009460449219, 'Post-processing delta_t': 0.0339350700378418, 'Everything end': 1728392673.2261155}\n",
      "{'Everything start': 1728392673.2265835, 'Voxel encoder start': 1728392673.262342, 'Voxel encoder delta_t': 0.000568389892578125, 'Middle encoder delta_t': 0.0007202625274658203, 'Backbone delta_t': 0.0008254051208496094, 'Neck delta_t': 0.00021600723266601562, 'Post-processing delta_t': 0.03422856330871582, 'Everything end': 1728392673.308133}\n",
      "{'Everything start': 1728392673.3086438, 'Voxel encoder start': 1728392673.336434, 'Voxel encoder delta_t': 0.0011126995086669922, 'Middle encoder delta_t': 0.0006849765777587891, 'Backbone delta_t': 0.0006456375122070312, 'Neck delta_t': 0.00019359588623046875, 'Post-processing delta_t': 0.034578561782836914, 'Everything end': 1728392673.3814158}\n",
      "{'Everything start': 1728392673.381828, 'Voxel encoder start': 1728392673.418351, 'Voxel encoder delta_t': 0.0008671283721923828, 'Middle encoder delta_t': 0.0006766319274902344, 'Backbone delta_t': 0.0006229877471923828, 'Neck delta_t': 0.0001900196075439453, 'Post-processing delta_t': 0.03419661521911621, 'Everything end': 1728392673.4641888}\n",
      "{'Everything start': 1728392673.464626, 'Voxel encoder start': 1728392673.5000558, 'Voxel encoder delta_t': 0.0005154609680175781, 'Middle encoder delta_t': 0.0007488727569580078, 'Backbone delta_t': 0.0006814002990722656, 'Neck delta_t': 0.0002040863037109375, 'Post-processing delta_t': 0.03467249870300293, 'Everything end': 1728392673.5464048}\n",
      "{'Everything start': 1728392673.5472105, 'Voxel encoder start': 1728392673.5796134, 'Voxel encoder delta_t': 0.0005536079406738281, 'Middle encoder delta_t': 0.0006983280181884766, 'Backbone delta_t': 0.0006937980651855469, 'Neck delta_t': 0.0004508495330810547, 'Post-processing delta_t': 0.033761024475097656, 'Everything end': 1728392673.6249533}\n",
      "{'Everything start': 1728392673.6253524, 'Voxel encoder start': 1728392673.6575751, 'Voxel encoder delta_t': 0.0006198883056640625, 'Middle encoder delta_t': 0.0009160041809082031, 'Backbone delta_t': 0.0006885528564453125, 'Neck delta_t': 0.00020194053649902344, 'Post-processing delta_t': 0.03447294235229492, 'Everything end': 1728392673.7023237}\n",
      "{'Everything start': 1728392673.702789, 'Voxel encoder start': 1728392673.7276237, 'Voxel encoder delta_t': 0.0013422966003417969, 'Middle encoder delta_t': 0.0006706714630126953, 'Backbone delta_t': 0.0005929470062255859, 'Neck delta_t': 0.00018334388732910156, 'Post-processing delta_t': 0.034010887145996094, 'Everything end': 1728392673.77304}\n",
      "{'Everything start': 1728392673.7737858, 'Voxel encoder start': 1728392673.8106315, 'Voxel encoder delta_t': 0.0013320446014404297, 'Middle encoder delta_t': 0.0007224082946777344, 'Backbone delta_t': 0.0006439685821533203, 'Neck delta_t': 0.0002162456512451172, 'Post-processing delta_t': 0.034322500228881836, 'Everything end': 1728392673.858081}\n",
      "{'Everything start': 1728392673.85854, 'Voxel encoder start': 1728392673.8936331, 'Voxel encoder delta_t': 0.0007941722869873047, 'Middle encoder delta_t': 0.0007326602935791016, 'Backbone delta_t': 0.0007669925689697266, 'Neck delta_t': 0.00020647048950195312, 'Post-processing delta_t': 0.0345768928527832, 'Everything end': 1728392673.9410965}\n",
      "{'Everything start': 1728392673.9538145, 'Voxel encoder start': 1728392673.9919744, 'Voxel encoder delta_t': 0.0005054473876953125, 'Middle encoder delta_t': 0.0009038448333740234, 'Backbone delta_t': 0.0007541179656982422, 'Neck delta_t': 0.0002124309539794922, 'Post-processing delta_t': 0.03505682945251465, 'Everything end': 1728392674.0407925}\n",
      "{'Everything start': 1728392674.0412612, 'Voxel encoder start': 1728392674.0809698, 'Voxel encoder delta_t': 0.0005168914794921875, 'Middle encoder delta_t': 0.0010159015655517578, 'Backbone delta_t': 0.0007965564727783203, 'Neck delta_t': 0.0002048015594482422, 'Post-processing delta_t': 0.033904075622558594, 'Everything end': 1728392674.1289446}\n",
      "{'Everything start': 1728392674.1296399, 'Voxel encoder start': 1728392674.163991, 'Voxel encoder delta_t': 0.0005307197570800781, 'Middle encoder delta_t': 0.0009415149688720703, 'Backbone delta_t': 0.0010447502136230469, 'Neck delta_t': 0.0002014636993408203, 'Post-processing delta_t': 0.03384041786193848, 'Everything end': 1728392674.210884}\n",
      "{'Everything start': 1728392674.2117212, 'Voxel encoder start': 1728392674.2494497, 'Voxel encoder delta_t': 0.0005223751068115234, 'Middle encoder delta_t': 0.0007154941558837891, 'Backbone delta_t': 0.0006842613220214844, 'Neck delta_t': 0.0002067089080810547, 'Post-processing delta_t': 0.03492474555969238, 'Everything end': 1728392674.299687}\n",
      "{'Everything start': 1728392674.3001966, 'Voxel encoder start': 1728392674.338027, 'Voxel encoder delta_t': 0.0006072521209716797, 'Middle encoder delta_t': 0.0007779598236083984, 'Backbone delta_t': 0.0008876323699951172, 'Neck delta_t': 0.00019979476928710938, 'Post-processing delta_t': 0.03501248359680176, 'Everything end': 1728392674.3845193}\n",
      "{'Everything start': 1728392674.3851485, 'Voxel encoder start': 1728392674.4206407, 'Voxel encoder delta_t': 0.000576019287109375, 'Middle encoder delta_t': 0.0013158321380615234, 'Backbone delta_t': 0.0014083385467529297, 'Neck delta_t': 0.0004942417144775391, 'Post-processing delta_t': 0.03454256057739258, 'Everything end': 1728392674.4734864}\n",
      "{'Everything start': 1728392674.474612, 'Voxel encoder start': 1728392674.5255706, 'Voxel encoder delta_t': 0.0017287731170654297, 'Middle encoder delta_t': 0.0015022754669189453, 'Backbone delta_t': 0.0011510848999023438, 'Neck delta_t': 0.00037217140197753906, 'Post-processing delta_t': 0.03287911415100098, 'Everything end': 1728392674.5733056}\n",
      "\n",
      "There are 35 elements in total\n"
     ]
    }
   ],
   "source": [
    "for element in handler.read_json_file():\n",
    "    print(element)\n",
    "\n",
    "dictionary_list = handler.read_json_file()\n",
    "print(f\"\\nThere are {len(dictionary_list)} elements in total\")"
   ]
  },
  {
   "cell_type": "code",
   "execution_count": 3,
   "metadata": {},
   "outputs": [
    {
     "name": "stdout",
     "output_type": "stream",
     "text": [
      "Average value of the estimated delta_t: 0.03740232331412179\n"
     ]
    }
   ],
   "source": [
    "#################################################################################################################\n",
    "#                                  STUDY OF BASE_MODEL (NOT ACCESSIBLE)                                         #\n",
    "#################################################################################################################\n",
    "\n",
    "start = handler.get_parameter('Everything start')\n",
    "end = handler.get_parameter('Voxel encoder start')\n",
    "estimated_delta = []\n",
    "for i in range(len(start)):\n",
    "    estimated_delta.append( end[i]-start[i] )\n",
    "\n",
    "compute_error = False\n",
    "\n",
    "if compute_error:\n",
    "    actual_delta = handler.get_parameter('Pre-processing delta_t')\n",
    "    error = []\n",
    "    error_abs = []\n",
    "    for i in range(len(actual_delta)):\n",
    "        error.append( actual_delta[i]-estimated_delta[i] )\n",
    "        error_abs.append( abs( actual_delta[i]-estimated_delta[i] ) )\n",
    "\n",
    "av_est_deltaT = sum(estimated_delta)/len(estimated_delta)\n",
    "print(f\"Average value of the estimated delta_t: {av_est_deltaT}\")\n",
    "if compute_error:\n",
    "    print(f\"Average value of the error: {sum(error)/len(error)}\")\n",
    "    av_abs_error = sum(error_abs)/len(error_abs)\n",
    "    print(f\"Average value for the absolute error: {av_abs_error}\")\n",
    "    av_act_deltat = sum(actual_delta)/len(actual_delta)\n",
    "    print(f\"The percentage of error is {av_abs_error/av_est_deltaT*100}. The average actual delta_t is {av_act_deltat}\")"
   ]
  },
  {
   "cell_type": "code",
   "execution_count": 11,
   "metadata": {},
   "outputs": [
    {
     "name": "stdout",
     "output_type": "stream",
     "text": [
      "Average total time: 91.95ms which would be 10.88Hz!\n",
      "\tAverage pre-processing time:\t37.40ms which means\t40.68 over the total.       \n",
      "\t\tUsually 20% higher than actual value, which would be 29.92ms\n",
      "\tAverage voxel encoder time:\t1.97ms which means\t2.14 over the total.\n",
      "\tAverage middle encoder time:\t1.08ms which means\t1.18 over the total.\n",
      "\tAverage backbone time:\t\t4.09ms which means\t4.45 over the total.\n",
      "\tAverage neck time:\t\t1.71ms which means\t1.86 over the total.\n",
      "\tAverage post-processing time:\t35.79ms which means\t38.92 over the total.\n",
      "\n",
      "By summing everything we get:      \n",
      "\tA total time of 82.05ms which means\t89.23% over the total of\t91.95ms      \n",
      "and by considering the \"real\" value for the preprocessing (20% less), we get:      \n",
      "\tA total time of 74.57ms which means\t81.09% over the total of\t91.95ms      \n",
      "while the inference (from voxel encoder to neck) accounts for:      \n",
      "\tA total time of 8.86ms which means\t9.63% over the total of\t\t91.95ms\n"
     ]
    }
   ],
   "source": [
    "#################################################################################################################\n",
    "#                                            GENERAL STUDY OF TIME                                              #\n",
    "#################################################################################################################\n",
    "\n",
    "start_everything = handler.get_parameter('Everything start')\n",
    "start_voxel = handler.get_parameter('Voxel encoder start')\n",
    "delta_voxel = handler.get_parameter('Voxel encoder delta_t')\n",
    "delta_middle = handler.get_parameter('Middle encoder delta_t')\n",
    "delta_backbone = handler.get_parameter('Backbone delta_t')\n",
    "delta_neck = handler.get_parameter('Neck delta_t')\n",
    "delta_post = handler.get_parameter('Post-processing delta_t')\n",
    "end_everything = handler.get_parameter('Everything end')\n",
    "\n",
    "# Total time\n",
    "delta_total = []\n",
    "for i in range(len(start_everything)):\n",
    "    delta_total.append(end_everything[i]-start_everything[i])\n",
    "estimated_total = sum(delta_total)/len(delta_total)\n",
    "print(f\"Average total time: {estimated_total*1e3:.2f}ms which would be {1/estimated_total:.2f}Hz!\")\n",
    "# Preprocessing\n",
    "delta_pre = []\n",
    "for i in range(len(start_everything)):\n",
    "    delta_pre.append(start_voxel[i]-start_everything[i])\n",
    "estimated_pre = sum(delta_pre)/len(delta_pre)\n",
    "print(f\"\\tAverage pre-processing time:\\t{estimated_pre*1e3:.2f}ms which means\\t{100*estimated_pre/estimated_total:.2f} over the total. \\\n",
    "      \\n\\t\\tUsually 20% higher than actual value, which would be {estimated_pre*0.8*1e3:.2f}ms\")\n",
    "# Voxel encoder\n",
    "estimated_voxel = sum(delta_voxel)/len(delta_voxel)\n",
    "print(f\"\\tAverage voxel encoder time:\\t{estimated_voxel*1e3:.2f}ms which means\\t{100*estimated_voxel/estimated_total:.2f} over the total.\")\n",
    "# Middle encoder\n",
    "estimated_middle = sum(delta_middle)/len(delta_middle)\n",
    "print(f\"\\tAverage middle encoder time:\\t{estimated_middle*1e3:.2f}ms which means\\t{100*estimated_middle/estimated_total:.2f} over the total.\")\n",
    "# Backbone\n",
    "estimated_backbone = sum(delta_backbone)/len(delta_backbone)\n",
    "print(f\"\\tAverage backbone time:\\t\\t{estimated_backbone*1e3:.2f}ms which means\\t{100*estimated_backbone/estimated_total:.2f} over the total.\")\n",
    "# Neck\n",
    "estimated_neck = sum(delta_neck)/len(delta_neck)\n",
    "print(f\"\\tAverage neck time:\\t\\t{estimated_neck*1e3:.2f}ms which means\\t{100*estimated_neck/estimated_total:.2f} over the total.\")\n",
    "# Post-processing\n",
    "estimated_post = sum(delta_post)/len(delta_post)\n",
    "print(f\"\\tAverage post-processing time:\\t{estimated_post*1e3:.2f}ms which means\\t{100*estimated_post/estimated_total:.2f} over the total.\")\n",
    "# Final comment\n",
    "sum_all_0 = estimated_pre + estimated_voxel + estimated_middle + estimated_backbone + estimated_neck + estimated_post\n",
    "sum_all_1 = estimated_pre*0.8 + estimated_voxel + estimated_middle + estimated_backbone + estimated_neck + estimated_post\n",
    "sum_inference = estimated_voxel + estimated_middle + estimated_backbone + estimated_neck\n",
    "print(f\"\\nBy summing everything we get:\\\n",
    "      \\n\\tA total time of {sum_all_0*1e3:.2f}ms which means\\t{100*sum_all_0/estimated_total:.2f}% over the total of\\t{estimated_total*1e3:.2f}ms\\\n",
    "      \\nand by considering the \\\"real\\\" value for the preprocessing (20% less), we get:\\\n",
    "      \\n\\tA total time of {sum_all_1*1e3:.2f}ms which means\\t{100*sum_all_1/estimated_total:.2f}% over the total of\\t{estimated_total*1e3:.2f}ms\\\n",
    "      \\nwhile the inference (from voxel encoder to neck) accounts for:\\\n",
    "      \\n\\tA total time of {sum_inference*1e3:.2f}ms which means\\t{100*sum_inference/estimated_total:.2f}% over the total of\\t\\t{estimated_total*1e3:.2f}ms\")"
   ]
  }
 ],
 "metadata": {
  "interpreter": {
   "hash": "a0c343fece975dd89087e8c2194dd4d3db28d7000f1b32ed9ed9d584dd54dbbe"
  },
  "kernelspec": {
   "display_name": "Python 3 (ipykernel)",
   "language": "python",
   "name": "python3"
  },
  "language_info": {
   "codemirror_mode": {
    "name": "ipython",
    "version": 3
   },
   "file_extension": ".py",
   "mimetype": "text/x-python",
   "name": "python",
   "nbconvert_exporter": "python",
   "pygments_lexer": "ipython3",
   "version": "3.10.12"
  },
  "pycharm": {
   "stem_cell": {
    "cell_type": "raw",
    "metadata": {
     "collapsed": false
    },
    "source": []
   }
  }
 },
 "nbformat": 4,
 "nbformat_minor": 4
}
