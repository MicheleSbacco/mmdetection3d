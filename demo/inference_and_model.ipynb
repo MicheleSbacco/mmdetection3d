{
 "cells": [
  {
   "cell_type": "markdown",
   "metadata": {},
   "source": [
    "# Inferencer study"
   ]
  },
  {
   "cell_type": "markdown",
   "metadata": {},
   "source": [
    "### Various steps\n",
    "1. Update of the PYTHONPATH for mmcv and custom_modules\n",
    "    - **Pay attention to also update it later with the \"/home/michele/iac_code/michele_mmdet3d/\"**\n",
    "2. Import and initialize the inferencer\n",
    "3. Select some images, then **Just inference**\n",
    "4. **Inference + Visualization**\n",
    "5. **Remote** Inference + **Remote** Visualization"
   ]
  },
  {
   "cell_type": "code",
   "execution_count": 1,
   "metadata": {},
   "outputs": [
    {
     "name": "stdout",
     "output_type": "stream",
     "text": [
      "2.1.0\n",
      "/home/michele/.local/lib/python3.10/site-packages/mmcv/__init__.py\n"
     ]
    }
   ],
   "source": [
    "import sys\n",
    "\n",
    "# # Print the PYTHONPATH before the modifications\n",
    "# for i, path in enumerate(sys.path):\n",
    "#     print(i, path)\n",
    "# print()\n",
    "\n",
    "# Add the new paths separately\n",
    "new_path1 = \"/home/michele/.local/lib/python3.10/site-packages/\"\n",
    "new_path2 = \"/home/michele/iac_code/michele_mmdet3d/\"                           # TODO: Need to add in the .bashrc\n",
    "if not new_path1 in sys.path:\n",
    "    sys.path.insert(1, new_path1)\n",
    "if not new_path2 in sys.path:\n",
    "    sys.path.insert(1, new_path2)\n",
    "\n",
    "# # Print the PYTHONPATH after the modifications\n",
    "# for i, path in enumerate(sys.path):\n",
    "#     print(i, path)\n",
    "# print()\n",
    "\n",
    "# Print the version of MMCV\n",
    "import mmcv\n",
    "print(mmcv.__version__)\n",
    "print(mmcv.__file__)"
   ]
  },
  {
   "cell_type": "code",
   "execution_count": 5,
   "metadata": {
    "pycharm": {
     "is_executing": false
    }
   },
   "outputs": [],
   "source": [
    "from mmdet3d.apis import LidarDet3DInferencer"
   ]
  },
  {
   "cell_type": "code",
   "execution_count": 6,
   "metadata": {},
   "outputs": [
    {
     "name": "stdout",
     "output_type": "stream",
     "text": [
      "Loads checkpoint by local backend from path: /home/michele/iac_code/michele_mmdet3d/work_dirs/pointpillars_minerva/epoch_120.pth\n"
     ]
    },
    {
     "name": "stderr",
     "output_type": "stream",
     "text": [
      "/home/michele/iac_code/michele_mmdet3d/mmdet3d/models/dense_heads/anchor3d_head.py:94: UserWarning: dir_offset and dir_limit_offset will be depressed and be incorporated into box coder in the future\n",
      "  warnings.warn(\n"
     ]
    }
   ],
   "source": [
    "#################################################################################################################\n",
    "#                                           Initialize Inferencer                                               #\n",
    "#################################################################################################################\n",
    "\n",
    "\n",
    "\n",
    "inferencer = LidarDet3DInferencer(model='/home/michele/iac_code/michele_mmdet3d/configs/minerva/CONDENSED_pointpillars_minerva.py', \n",
    "                                  weights='/home/michele/iac_code/michele_mmdet3d/work_dirs/pointpillars_minerva/epoch_120.pth')"
   ]
  },
  {
   "cell_type": "code",
   "execution_count": 7,
   "metadata": {
    "pycharm": {
     "is_executing": false
    }
   },
   "outputs": [
    {
     "data": {
      "application/vnd.jupyter.widget-view+json": {
       "model_id": "983075740ea24d4cba0628429b29c9d3",
       "version_major": 2,
       "version_minor": 0
      },
      "text/plain": [
       "Output()"
      ]
     },
     "metadata": {},
     "output_type": "display_data"
    },
    {
     "name": "stdout",
     "output_type": "stream",
     "text": [
      "Total validation point_clouds: 35\n",
      "\tOne every n: 5\n",
      "\tMax number: 99\n",
      "\tSelected point_clouds: 7\n"
     ]
    },
    {
     "data": {
      "text/html": [
       "<pre style=\"white-space:pre;overflow-x:auto;line-height:normal;font-family:Menlo,'DejaVu Sans Mono',consolas,'Courier New',monospace\">/usr/local/lib/python3.10/dist-packages/torch/functional.py:504: UserWarning: torch.meshgrid: in an upcoming \n",
       "release, it will be required to pass the indexing argument. (Triggered internally at \n",
       "../aten/src/ATen/native/TensorShape.cpp:3483.)\n",
       "  return _VF.meshgrid(tensors, **kwargs)  # type: ignore[attr-defined]\n",
       "</pre>\n"
      ],
      "text/plain": [
       "/usr/local/lib/python3.10/dist-packages/torch/functional.py:504: UserWarning: torch.meshgrid: in an upcoming \n",
       "release, it will be required to pass the indexing argument. (Triggered internally at \n",
       "../aten/src/ATen/native/TensorShape.cpp:3483.)\n",
       "  return _VF.meshgrid(tensors, **kwargs)  # type: ignore[attr-defined]\n"
      ]
     },
     "metadata": {},
     "output_type": "display_data"
    },
    {
     "data": {
      "text/html": [
       "<pre style=\"white-space:pre;overflow-x:auto;line-height:normal;font-family:Menlo,'DejaVu Sans Mono',consolas,'Courier New',monospace\">        Time for post-processing: 0.11509227752685547. Start of post-processing: 1728332377.1532252\n",
       "</pre>\n"
      ],
      "text/plain": [
       "        Time for post-processing: 0.11509227752685547. Start of post-processing: 1728332377.1532252\n"
      ]
     },
     "metadata": {},
     "output_type": "display_data"
    },
    {
     "data": {
      "text/html": [
       "<pre style=\"white-space:pre;overflow-x:auto;line-height:normal;font-family:Menlo,'DejaVu Sans Mono',consolas,'Courier New',monospace\">\n",
       "</pre>\n"
      ],
      "text/plain": [
       "\n"
      ]
     },
     "metadata": {},
     "output_type": "display_data"
    },
    {
     "data": {
      "text/html": [
       "<pre style=\"white-space:pre;overflow-x:auto;line-height:normal;font-family:Menlo,'DejaVu Sans Mono',consolas,'Courier New',monospace\"></pre>\n"
      ],
      "text/plain": []
     },
     "metadata": {},
     "output_type": "display_data"
    },
    {
     "data": {
      "text/html": [
       "<pre style=\"white-space:pre;overflow-x:auto;line-height:normal;font-family:Menlo,'DejaVu Sans Mono',consolas,'Courier New',monospace\">\n",
       "</pre>\n"
      ],
      "text/plain": [
       "\n"
      ]
     },
     "metadata": {},
     "output_type": "display_data"
    },
    {
     "data": {
      "application/vnd.jupyter.widget-view+json": {
       "model_id": "13522239f0a445868ee0166e074fe325",
       "version_major": 2,
       "version_minor": 0
      },
      "text/plain": [
       "Output()"
      ]
     },
     "metadata": {},
     "output_type": "display_data"
    },
    {
     "data": {
      "text/html": [
       "<pre style=\"white-space:pre;overflow-x:auto;line-height:normal;font-family:Menlo,'DejaVu Sans Mono',consolas,'Courier New',monospace\">        Time for post-processing: 0.03997683525085449. Start of post-processing: 1728332377.3265095\n",
       "</pre>\n"
      ],
      "text/plain": [
       "        Time for post-processing: 0.03997683525085449. Start of post-processing: 1728332377.3265095\n"
      ]
     },
     "metadata": {},
     "output_type": "display_data"
    },
    {
     "data": {
      "text/html": [
       "<pre style=\"white-space:pre;overflow-x:auto;line-height:normal;font-family:Menlo,'DejaVu Sans Mono',consolas,'Courier New',monospace\">\n",
       "</pre>\n"
      ],
      "text/plain": [
       "\n"
      ]
     },
     "metadata": {},
     "output_type": "display_data"
    },
    {
     "data": {
      "text/html": [
       "<pre style=\"white-space:pre;overflow-x:auto;line-height:normal;font-family:Menlo,'DejaVu Sans Mono',consolas,'Courier New',monospace\"></pre>\n"
      ],
      "text/plain": []
     },
     "metadata": {},
     "output_type": "display_data"
    },
    {
     "data": {
      "text/html": [
       "<pre style=\"white-space:pre;overflow-x:auto;line-height:normal;font-family:Menlo,'DejaVu Sans Mono',consolas,'Courier New',monospace\">\n",
       "</pre>\n"
      ],
      "text/plain": [
       "\n"
      ]
     },
     "metadata": {},
     "output_type": "display_data"
    },
    {
     "data": {
      "application/vnd.jupyter.widget-view+json": {
       "model_id": "4537fd3689594d30980d4ddbb3d1f31b",
       "version_major": 2,
       "version_minor": 0
      },
      "text/plain": [
       "Output()"
      ]
     },
     "metadata": {},
     "output_type": "display_data"
    },
    {
     "data": {
      "text/html": [
       "<pre style=\"white-space:pre;overflow-x:auto;line-height:normal;font-family:Menlo,'DejaVu Sans Mono',consolas,'Courier New',monospace\">        Time for post-processing: 0.03954815864562988. Start of post-processing: 1728332377.4240255\n",
       "</pre>\n"
      ],
      "text/plain": [
       "        Time for post-processing: 0.03954815864562988. Start of post-processing: 1728332377.4240255\n"
      ]
     },
     "metadata": {},
     "output_type": "display_data"
    },
    {
     "data": {
      "text/html": [
       "<pre style=\"white-space:pre;overflow-x:auto;line-height:normal;font-family:Menlo,'DejaVu Sans Mono',consolas,'Courier New',monospace\">\n",
       "</pre>\n"
      ],
      "text/plain": [
       "\n"
      ]
     },
     "metadata": {},
     "output_type": "display_data"
    },
    {
     "data": {
      "text/html": [
       "<pre style=\"white-space:pre;overflow-x:auto;line-height:normal;font-family:Menlo,'DejaVu Sans Mono',consolas,'Courier New',monospace\"></pre>\n"
      ],
      "text/plain": []
     },
     "metadata": {},
     "output_type": "display_data"
    },
    {
     "data": {
      "text/html": [
       "<pre style=\"white-space:pre;overflow-x:auto;line-height:normal;font-family:Menlo,'DejaVu Sans Mono',consolas,'Courier New',monospace\">\n",
       "</pre>\n"
      ],
      "text/plain": [
       "\n"
      ]
     },
     "metadata": {},
     "output_type": "display_data"
    },
    {
     "data": {
      "application/vnd.jupyter.widget-view+json": {
       "model_id": "9d2552f527f7469c90c105130d3e1478",
       "version_major": 2,
       "version_minor": 0
      },
      "text/plain": [
       "Output()"
      ]
     },
     "metadata": {},
     "output_type": "display_data"
    },
    {
     "data": {
      "text/html": [
       "<pre style=\"white-space:pre;overflow-x:auto;line-height:normal;font-family:Menlo,'DejaVu Sans Mono',consolas,'Courier New',monospace\">        Time for post-processing: 0.03919482231140137. Start of post-processing: 1728332377.522504\n",
       "</pre>\n"
      ],
      "text/plain": [
       "        Time for post-processing: 0.03919482231140137. Start of post-processing: 1728332377.522504\n"
      ]
     },
     "metadata": {},
     "output_type": "display_data"
    },
    {
     "data": {
      "text/html": [
       "<pre style=\"white-space:pre;overflow-x:auto;line-height:normal;font-family:Menlo,'DejaVu Sans Mono',consolas,'Courier New',monospace\">\n",
       "</pre>\n"
      ],
      "text/plain": [
       "\n"
      ]
     },
     "metadata": {},
     "output_type": "display_data"
    },
    {
     "data": {
      "text/html": [
       "<pre style=\"white-space:pre;overflow-x:auto;line-height:normal;font-family:Menlo,'DejaVu Sans Mono',consolas,'Courier New',monospace\"></pre>\n"
      ],
      "text/plain": []
     },
     "metadata": {},
     "output_type": "display_data"
    },
    {
     "data": {
      "text/html": [
       "<pre style=\"white-space:pre;overflow-x:auto;line-height:normal;font-family:Menlo,'DejaVu Sans Mono',consolas,'Courier New',monospace\">\n",
       "</pre>\n"
      ],
      "text/plain": [
       "\n"
      ]
     },
     "metadata": {},
     "output_type": "display_data"
    },
    {
     "data": {
      "application/vnd.jupyter.widget-view+json": {
       "model_id": "d06af39544ad49fb8558e4f69c23b1c6",
       "version_major": 2,
       "version_minor": 0
      },
      "text/plain": [
       "Output()"
      ]
     },
     "metadata": {},
     "output_type": "display_data"
    },
    {
     "data": {
      "text/html": [
       "<pre style=\"white-space:pre;overflow-x:auto;line-height:normal;font-family:Menlo,'DejaVu Sans Mono',consolas,'Courier New',monospace\">        Time for post-processing: 0.034665822982788086. Start of post-processing: 1728332377.5999112\n",
       "</pre>\n"
      ],
      "text/plain": [
       "        Time for post-processing: 0.034665822982788086. Start of post-processing: 1728332377.5999112\n"
      ]
     },
     "metadata": {},
     "output_type": "display_data"
    },
    {
     "data": {
      "text/html": [
       "<pre style=\"white-space:pre;overflow-x:auto;line-height:normal;font-family:Menlo,'DejaVu Sans Mono',consolas,'Courier New',monospace\">\n",
       "</pre>\n"
      ],
      "text/plain": [
       "\n"
      ]
     },
     "metadata": {},
     "output_type": "display_data"
    },
    {
     "data": {
      "text/html": [
       "<pre style=\"white-space:pre;overflow-x:auto;line-height:normal;font-family:Menlo,'DejaVu Sans Mono',consolas,'Courier New',monospace\"></pre>\n"
      ],
      "text/plain": []
     },
     "metadata": {},
     "output_type": "display_data"
    },
    {
     "data": {
      "text/html": [
       "<pre style=\"white-space:pre;overflow-x:auto;line-height:normal;font-family:Menlo,'DejaVu Sans Mono',consolas,'Courier New',monospace\">\n",
       "</pre>\n"
      ],
      "text/plain": [
       "\n"
      ]
     },
     "metadata": {},
     "output_type": "display_data"
    },
    {
     "data": {
      "application/vnd.jupyter.widget-view+json": {
       "model_id": "27a1d42603404bb697b068aff88314d1",
       "version_major": 2,
       "version_minor": 0
      },
      "text/plain": [
       "Output()"
      ]
     },
     "metadata": {},
     "output_type": "display_data"
    },
    {
     "data": {
      "text/html": [
       "<pre style=\"white-space:pre;overflow-x:auto;line-height:normal;font-family:Menlo,'DejaVu Sans Mono',consolas,'Courier New',monospace\">        Time for post-processing: 0.03423738479614258. Start of post-processing: 1728332377.6761675\n",
       "</pre>\n"
      ],
      "text/plain": [
       "        Time for post-processing: 0.03423738479614258. Start of post-processing: 1728332377.6761675\n"
      ]
     },
     "metadata": {},
     "output_type": "display_data"
    },
    {
     "data": {
      "text/html": [
       "<pre style=\"white-space:pre;overflow-x:auto;line-height:normal;font-family:Menlo,'DejaVu Sans Mono',consolas,'Courier New',monospace\">\n",
       "</pre>\n"
      ],
      "text/plain": [
       "\n"
      ]
     },
     "metadata": {},
     "output_type": "display_data"
    },
    {
     "data": {
      "text/html": [
       "<pre style=\"white-space:pre;overflow-x:auto;line-height:normal;font-family:Menlo,'DejaVu Sans Mono',consolas,'Courier New',monospace\"></pre>\n"
      ],
      "text/plain": []
     },
     "metadata": {},
     "output_type": "display_data"
    },
    {
     "data": {
      "text/html": [
       "<pre style=\"white-space:pre;overflow-x:auto;line-height:normal;font-family:Menlo,'DejaVu Sans Mono',consolas,'Courier New',monospace\">\n",
       "</pre>\n"
      ],
      "text/plain": [
       "\n"
      ]
     },
     "metadata": {},
     "output_type": "display_data"
    },
    {
     "data": {
      "application/vnd.jupyter.widget-view+json": {
       "model_id": "c0853bf4dd6f44328b536e1a43785d58",
       "version_major": 2,
       "version_minor": 0
      },
      "text/plain": [
       "Output()"
      ]
     },
     "metadata": {},
     "output_type": "display_data"
    },
    {
     "data": {
      "text/html": [
       "<pre style=\"white-space:pre;overflow-x:auto;line-height:normal;font-family:Menlo,'DejaVu Sans Mono',consolas,'Courier New',monospace\">        Time for post-processing: 0.036022186279296875. Start of post-processing: 1728332377.763457\n",
       "</pre>\n"
      ],
      "text/plain": [
       "        Time for post-processing: 0.036022186279296875. Start of post-processing: 1728332377.763457\n"
      ]
     },
     "metadata": {},
     "output_type": "display_data"
    },
    {
     "data": {
      "text/html": [
       "<pre style=\"white-space:pre;overflow-x:auto;line-height:normal;font-family:Menlo,'DejaVu Sans Mono',consolas,'Courier New',monospace\">\n",
       "</pre>\n"
      ],
      "text/plain": [
       "\n"
      ]
     },
     "metadata": {},
     "output_type": "display_data"
    },
    {
     "data": {
      "text/html": [
       "<pre style=\"white-space:pre;overflow-x:auto;line-height:normal;font-family:Menlo,'DejaVu Sans Mono',consolas,'Courier New',monospace\"></pre>\n"
      ],
      "text/plain": []
     },
     "metadata": {},
     "output_type": "display_data"
    },
    {
     "data": {
      "text/html": [
       "<pre style=\"white-space:pre;overflow-x:auto;line-height:normal;font-family:Menlo,'DejaVu Sans Mono',consolas,'Courier New',monospace\">\n",
       "</pre>\n"
      ],
      "text/plain": [
       "\n"
      ]
     },
     "metadata": {},
     "output_type": "display_data"
    }
   ],
   "source": [
    "#################################################################################################################\n",
    "#                                               Just Inference                                                  #\n",
    "#################################################################################################################\n",
    "\n",
    "\n",
    "\n",
    "# Read the files in validation list\n",
    "val_list_txt_file = \"/home/michele/iac_code/michele_mmdet3d/data/minerva_polimove/ImageSets/val.txt\"\n",
    "with open(val_list_txt_file, 'r') as file:\n",
    "    val_file_names = [line.strip() for line in file]\n",
    "\n",
    "# Choose a smaller set of the validation files\n",
    "one_every_n = 5\n",
    "max_number = 99\n",
    "wait_time_default = 2\n",
    "inputs = []\n",
    "for i, name in enumerate(val_file_names):\n",
    "    if i%one_every_n==0 and len(inputs)<max_number:\n",
    "        inputs.append(dict(points=(\"/home/michele/iac_code/michele_mmdet3d/data/minerva_polimove/training/velodyne/\"+name+\".bin\")))\n",
    "\n",
    "print(f\"Total validation point_clouds: {len(val_file_names)}\")\n",
    "print(f\"\\tOne every n: {one_every_n}\")\n",
    "print(f\"\\tMax number: {max_number}\")\n",
    "print(f\"\\tSelected point_clouds: {len(inputs)}\")\n",
    "\n",
    "# Initial format for the inputs was the following:\n",
    "# inputs = dict(points=(\"/home/michele/iac_code/michele_mmdet3d/configs/minerva/CONDENSED_pointpillars_minerva.py\"))\n",
    "results = []\n",
    "for input in inputs:\n",
    "    results.append(inferencer(input))"
   ]
  },
  {
   "cell_type": "code",
   "execution_count": 6,
   "metadata": {},
   "outputs": [
    {
     "data": {
      "application/vnd.jupyter.widget-view+json": {
       "model_id": "340cfa42cd4345589e962b30f38366ec",
       "version_major": 2,
       "version_minor": 0
      },
      "text/plain": [
       "Output()"
      ]
     },
     "metadata": {},
     "output_type": "display_data"
    },
    {
     "data": {
      "text/html": [
       "<pre style=\"white-space:pre;overflow-x:auto;line-height:normal;font-family:Menlo,'DejaVu Sans Mono',consolas,'Courier New',monospace\">        Visualizing file with timestamp:        1723235388718397661\n",
       "</pre>\n"
      ],
      "text/plain": [
       "        Visualizing file with timestamp:        1723235388718397661\n"
      ]
     },
     "metadata": {},
     "output_type": "display_data"
    },
    {
     "data": {
      "text/html": [
       "<pre style=\"white-space:pre;overflow-x:auto;line-height:normal;font-family:Menlo,'DejaVu Sans Mono',consolas,'Courier New',monospace\"></pre>\n"
      ],
      "text/plain": []
     },
     "metadata": {},
     "output_type": "display_data"
    },
    {
     "data": {
      "text/html": [
       "<pre style=\"white-space:pre;overflow-x:auto;line-height:normal;font-family:Menlo,'DejaVu Sans Mono',consolas,'Courier New',monospace\">\n",
       "</pre>\n"
      ],
      "text/plain": [
       "\n"
      ]
     },
     "metadata": {},
     "output_type": "display_data"
    },
    {
     "data": {
      "application/vnd.jupyter.widget-view+json": {
       "model_id": "f507da91b6b343f39ac7b45435949c24",
       "version_major": 2,
       "version_minor": 0
      },
      "text/plain": [
       "Output()"
      ]
     },
     "metadata": {},
     "output_type": "display_data"
    },
    {
     "data": {
      "text/html": [
       "<pre style=\"white-space:pre;overflow-x:auto;line-height:normal;font-family:Menlo,'DejaVu Sans Mono',consolas,'Courier New',monospace\">        Visualizing file with timestamp:        1723235389968373008\n",
       "</pre>\n"
      ],
      "text/plain": [
       "        Visualizing file with timestamp:        1723235389968373008\n"
      ]
     },
     "metadata": {},
     "output_type": "display_data"
    },
    {
     "data": {
      "text/html": [
       "<pre style=\"white-space:pre;overflow-x:auto;line-height:normal;font-family:Menlo,'DejaVu Sans Mono',consolas,'Courier New',monospace\"><span style=\"color: #808000; text-decoration-color: #808000; font-weight: bold\">[Open3D WARNING] [ViewControl] ConvertFromPinholeCameraParameters() failed because window height and width do not </span>\n",
       "<span style=\"color: #808000; text-decoration-color: #808000; font-weight: bold\">match.</span>\n",
       "</pre>\n"
      ],
      "text/plain": [
       "\u001b[1;33m[Open3D WARNING] [ViewControl] ConvertFromPinholeCameraParameters() failed because window height and width do not \u001b[0m\n",
       "\u001b[1;33mmatch.\u001b[0m\n"
      ]
     },
     "metadata": {},
     "output_type": "display_data"
    },
    {
     "data": {
      "text/html": [
       "<pre style=\"white-space:pre;overflow-x:auto;line-height:normal;font-family:Menlo,'DejaVu Sans Mono',consolas,'Courier New',monospace\"></pre>\n"
      ],
      "text/plain": []
     },
     "metadata": {},
     "output_type": "display_data"
    },
    {
     "data": {
      "text/html": [
       "<pre style=\"white-space:pre;overflow-x:auto;line-height:normal;font-family:Menlo,'DejaVu Sans Mono',consolas,'Courier New',monospace\">\n",
       "</pre>\n"
      ],
      "text/plain": [
       "\n"
      ]
     },
     "metadata": {},
     "output_type": "display_data"
    },
    {
     "data": {
      "application/vnd.jupyter.widget-view+json": {
       "model_id": "ec5e87d9d21f4f07b85b5f121eee1052",
       "version_major": 2,
       "version_minor": 0
      },
      "text/plain": [
       "Output()"
      ]
     },
     "metadata": {},
     "output_type": "display_data"
    },
    {
     "data": {
      "text/html": [
       "<pre style=\"white-space:pre;overflow-x:auto;line-height:normal;font-family:Menlo,'DejaVu Sans Mono',consolas,'Courier New',monospace\">        Visualizing file with timestamp:        1723235502464237030\n",
       "</pre>\n"
      ],
      "text/plain": [
       "        Visualizing file with timestamp:        1723235502464237030\n"
      ]
     },
     "metadata": {},
     "output_type": "display_data"
    },
    {
     "data": {
      "text/html": [
       "<pre style=\"white-space:pre;overflow-x:auto;line-height:normal;font-family:Menlo,'DejaVu Sans Mono',consolas,'Courier New',monospace\"><span style=\"color: #808000; text-decoration-color: #808000; font-weight: bold\">[Open3D WARNING] [ViewControl] ConvertFromPinholeCameraParameters() failed because window height and width do not </span>\n",
       "<span style=\"color: #808000; text-decoration-color: #808000; font-weight: bold\">match.</span>\n",
       "</pre>\n"
      ],
      "text/plain": [
       "\u001b[1;33m[Open3D WARNING] [ViewControl] ConvertFromPinholeCameraParameters() failed because window height and width do not \u001b[0m\n",
       "\u001b[1;33mmatch.\u001b[0m\n"
      ]
     },
     "metadata": {},
     "output_type": "display_data"
    },
    {
     "data": {
      "text/html": [
       "<pre style=\"white-space:pre;overflow-x:auto;line-height:normal;font-family:Menlo,'DejaVu Sans Mono',consolas,'Courier New',monospace\"></pre>\n"
      ],
      "text/plain": []
     },
     "metadata": {},
     "output_type": "display_data"
    },
    {
     "data": {
      "text/html": [
       "<pre style=\"white-space:pre;overflow-x:auto;line-height:normal;font-family:Menlo,'DejaVu Sans Mono',consolas,'Courier New',monospace\">\n",
       "</pre>\n"
      ],
      "text/plain": [
       "\n"
      ]
     },
     "metadata": {},
     "output_type": "display_data"
    },
    {
     "data": {
      "application/vnd.jupyter.widget-view+json": {
       "model_id": "71ff26ba195145d4a4201749428d3717",
       "version_major": 2,
       "version_minor": 0
      },
      "text/plain": [
       "Output()"
      ]
     },
     "metadata": {},
     "output_type": "display_data"
    },
    {
     "data": {
      "text/html": [
       "<pre style=\"white-space:pre;overflow-x:auto;line-height:normal;font-family:Menlo,'DejaVu Sans Mono',consolas,'Courier New',monospace\">        Visualizing file with timestamp:        1723235502623267206\n",
       "</pre>\n"
      ],
      "text/plain": [
       "        Visualizing file with timestamp:        1723235502623267206\n"
      ]
     },
     "metadata": {},
     "output_type": "display_data"
    },
    {
     "data": {
      "text/html": [
       "<pre style=\"white-space:pre;overflow-x:auto;line-height:normal;font-family:Menlo,'DejaVu Sans Mono',consolas,'Courier New',monospace\"><span style=\"color: #808000; text-decoration-color: #808000; font-weight: bold\">[Open3D WARNING] [ViewControl] ConvertFromPinholeCameraParameters() failed because window height and width do not </span>\n",
       "<span style=\"color: #808000; text-decoration-color: #808000; font-weight: bold\">match.</span>\n",
       "</pre>\n"
      ],
      "text/plain": [
       "\u001b[1;33m[Open3D WARNING] [ViewControl] ConvertFromPinholeCameraParameters() failed because window height and width do not \u001b[0m\n",
       "\u001b[1;33mmatch.\u001b[0m\n"
      ]
     },
     "metadata": {},
     "output_type": "display_data"
    },
    {
     "data": {
      "text/html": [
       "<pre style=\"white-space:pre;overflow-x:auto;line-height:normal;font-family:Menlo,'DejaVu Sans Mono',consolas,'Courier New',monospace\"></pre>\n"
      ],
      "text/plain": []
     },
     "metadata": {},
     "output_type": "display_data"
    },
    {
     "data": {
      "text/html": [
       "<pre style=\"white-space:pre;overflow-x:auto;line-height:normal;font-family:Menlo,'DejaVu Sans Mono',consolas,'Courier New',monospace\">\n",
       "</pre>\n"
      ],
      "text/plain": [
       "\n"
      ]
     },
     "metadata": {},
     "output_type": "display_data"
    },
    {
     "data": {
      "application/vnd.jupyter.widget-view+json": {
       "model_id": "59c386dcdd264d48ae0a21123341d134",
       "version_major": 2,
       "version_minor": 0
      },
      "text/plain": [
       "Output()"
      ]
     },
     "metadata": {},
     "output_type": "display_data"
    },
    {
     "data": {
      "text/html": [
       "<pre style=\"white-space:pre;overflow-x:auto;line-height:normal;font-family:Menlo,'DejaVu Sans Mono',consolas,'Courier New',monospace\">        Visualizing file with timestamp:        1723235504668945781\n",
       "</pre>\n"
      ],
      "text/plain": [
       "        Visualizing file with timestamp:        1723235504668945781\n"
      ]
     },
     "metadata": {},
     "output_type": "display_data"
    },
    {
     "data": {
      "text/html": [
       "<pre style=\"white-space:pre;overflow-x:auto;line-height:normal;font-family:Menlo,'DejaVu Sans Mono',consolas,'Courier New',monospace\"><span style=\"color: #808000; text-decoration-color: #808000; font-weight: bold\">[Open3D WARNING] [ViewControl] ConvertFromPinholeCameraParameters() failed because window height and width do not </span>\n",
       "<span style=\"color: #808000; text-decoration-color: #808000; font-weight: bold\">match.</span>\n",
       "</pre>\n"
      ],
      "text/plain": [
       "\u001b[1;33m[Open3D WARNING] [ViewControl] ConvertFromPinholeCameraParameters() failed because window height and width do not \u001b[0m\n",
       "\u001b[1;33mmatch.\u001b[0m\n"
      ]
     },
     "metadata": {},
     "output_type": "display_data"
    },
    {
     "data": {
      "text/html": [
       "<pre style=\"white-space:pre;overflow-x:auto;line-height:normal;font-family:Menlo,'DejaVu Sans Mono',consolas,'Courier New',monospace\"></pre>\n"
      ],
      "text/plain": []
     },
     "metadata": {},
     "output_type": "display_data"
    },
    {
     "data": {
      "text/html": [
       "<pre style=\"white-space:pre;overflow-x:auto;line-height:normal;font-family:Menlo,'DejaVu Sans Mono',consolas,'Courier New',monospace\">\n",
       "</pre>\n"
      ],
      "text/plain": [
       "\n"
      ]
     },
     "metadata": {},
     "output_type": "display_data"
    },
    {
     "data": {
      "application/vnd.jupyter.widget-view+json": {
       "model_id": "fdfdb6165785490c8dde4fcaf354d8f5",
       "version_major": 2,
       "version_minor": 0
      },
      "text/plain": [
       "Output()"
      ]
     },
     "metadata": {},
     "output_type": "display_data"
    },
    {
     "data": {
      "text/html": [
       "<pre style=\"white-space:pre;overflow-x:auto;line-height:normal;font-family:Menlo,'DejaVu Sans Mono',consolas,'Courier New',monospace\">        Visualizing file with timestamp:        1723235505512511802\n",
       "</pre>\n"
      ],
      "text/plain": [
       "        Visualizing file with timestamp:        1723235505512511802\n"
      ]
     },
     "metadata": {},
     "output_type": "display_data"
    },
    {
     "data": {
      "text/html": [
       "<pre style=\"white-space:pre;overflow-x:auto;line-height:normal;font-family:Menlo,'DejaVu Sans Mono',consolas,'Courier New',monospace\"><span style=\"color: #808000; text-decoration-color: #808000; font-weight: bold\">[Open3D WARNING] [ViewControl] ConvertFromPinholeCameraParameters() failed because window height and width do not </span>\n",
       "<span style=\"color: #808000; text-decoration-color: #808000; font-weight: bold\">match.</span>\n",
       "</pre>\n"
      ],
      "text/plain": [
       "\u001b[1;33m[Open3D WARNING] [ViewControl] ConvertFromPinholeCameraParameters() failed because window height and width do not \u001b[0m\n",
       "\u001b[1;33mmatch.\u001b[0m\n"
      ]
     },
     "metadata": {},
     "output_type": "display_data"
    },
    {
     "data": {
      "text/html": [
       "<pre style=\"white-space:pre;overflow-x:auto;line-height:normal;font-family:Menlo,'DejaVu Sans Mono',consolas,'Courier New',monospace\"></pre>\n"
      ],
      "text/plain": []
     },
     "metadata": {},
     "output_type": "display_data"
    },
    {
     "data": {
      "text/html": [
       "<pre style=\"white-space:pre;overflow-x:auto;line-height:normal;font-family:Menlo,'DejaVu Sans Mono',consolas,'Courier New',monospace\">\n",
       "</pre>\n"
      ],
      "text/plain": [
       "\n"
      ]
     },
     "metadata": {},
     "output_type": "display_data"
    },
    {
     "data": {
      "application/vnd.jupyter.widget-view+json": {
       "model_id": "09cbf2f4e7ee40299ac523189a30de2b",
       "version_major": 2,
       "version_minor": 0
      },
      "text/plain": [
       "Output()"
      ]
     },
     "metadata": {},
     "output_type": "display_data"
    },
    {
     "data": {
      "text/html": [
       "<pre style=\"white-space:pre;overflow-x:auto;line-height:normal;font-family:Menlo,'DejaVu Sans Mono',consolas,'Courier New',monospace\">        Visualizing file with timestamp:        1723235506816174589\n",
       "</pre>\n"
      ],
      "text/plain": [
       "        Visualizing file with timestamp:        1723235506816174589\n"
      ]
     },
     "metadata": {},
     "output_type": "display_data"
    },
    {
     "data": {
      "text/html": [
       "<pre style=\"white-space:pre;overflow-x:auto;line-height:normal;font-family:Menlo,'DejaVu Sans Mono',consolas,'Courier New',monospace\"><span style=\"color: #808000; text-decoration-color: #808000; font-weight: bold\">[Open3D WARNING] invalid color in PaintUniformColor, clipping to [0, 1]</span>\n",
       "</pre>\n"
      ],
      "text/plain": [
       "\u001b[1;33m[Open3D WARNING] invalid color in PaintUniformColor, clipping to [0, 1]\u001b[0m\n"
      ]
     },
     "metadata": {},
     "output_type": "display_data"
    },
    {
     "data": {
      "text/html": [
       "<pre style=\"white-space:pre;overflow-x:auto;line-height:normal;font-family:Menlo,'DejaVu Sans Mono',consolas,'Courier New',monospace\"><span style=\"color: #808000; text-decoration-color: #808000; font-weight: bold\">[Open3D WARNING] [ViewControl] ConvertFromPinholeCameraParameters() failed because window height and width do not </span>\n",
       "<span style=\"color: #808000; text-decoration-color: #808000; font-weight: bold\">match.</span>\n",
       "</pre>\n"
      ],
      "text/plain": [
       "\u001b[1;33m[Open3D WARNING] [ViewControl] ConvertFromPinholeCameraParameters() failed because window height and width do not \u001b[0m\n",
       "\u001b[1;33mmatch.\u001b[0m\n"
      ]
     },
     "metadata": {},
     "output_type": "display_data"
    },
    {
     "data": {
      "text/html": [
       "<pre style=\"white-space:pre;overflow-x:auto;line-height:normal;font-family:Menlo,'DejaVu Sans Mono',consolas,'Courier New',monospace\"></pre>\n"
      ],
      "text/plain": []
     },
     "metadata": {},
     "output_type": "display_data"
    },
    {
     "data": {
      "text/html": [
       "<pre style=\"white-space:pre;overflow-x:auto;line-height:normal;font-family:Menlo,'DejaVu Sans Mono',consolas,'Courier New',monospace\">\n",
       "</pre>\n"
      ],
      "text/plain": [
       "\n"
      ]
     },
     "metadata": {},
     "output_type": "display_data"
    },
    {
     "data": {
      "application/vnd.jupyter.widget-view+json": {
       "model_id": "cda38e2ced324de2b234c32cbd0ff7a6",
       "version_major": 2,
       "version_minor": 0
      },
      "text/plain": [
       "Output()"
      ]
     },
     "metadata": {},
     "output_type": "display_data"
    },
    {
     "data": {
      "text/html": [
       "<pre style=\"white-space:pre;overflow-x:auto;line-height:normal;font-family:Menlo,'DejaVu Sans Mono',consolas,'Courier New',monospace\">        Visualizing file with timestamp:        1723235583761758696\n",
       "</pre>\n"
      ],
      "text/plain": [
       "        Visualizing file with timestamp:        1723235583761758696\n"
      ]
     },
     "metadata": {},
     "output_type": "display_data"
    },
    {
     "data": {
      "text/html": [
       "<pre style=\"white-space:pre;overflow-x:auto;line-height:normal;font-family:Menlo,'DejaVu Sans Mono',consolas,'Courier New',monospace\"><span style=\"color: #808000; text-decoration-color: #808000; font-weight: bold\">[Open3D WARNING] [ViewControl] ConvertFromPinholeCameraParameters() failed because window height and width do not </span>\n",
       "<span style=\"color: #808000; text-decoration-color: #808000; font-weight: bold\">match.</span>\n",
       "</pre>\n"
      ],
      "text/plain": [
       "\u001b[1;33m[Open3D WARNING] [ViewControl] ConvertFromPinholeCameraParameters() failed because window height and width do not \u001b[0m\n",
       "\u001b[1;33mmatch.\u001b[0m\n"
      ]
     },
     "metadata": {},
     "output_type": "display_data"
    },
    {
     "data": {
      "text/html": [
       "<pre style=\"white-space:pre;overflow-x:auto;line-height:normal;font-family:Menlo,'DejaVu Sans Mono',consolas,'Courier New',monospace\"></pre>\n"
      ],
      "text/plain": []
     },
     "metadata": {},
     "output_type": "display_data"
    },
    {
     "data": {
      "text/html": [
       "<pre style=\"white-space:pre;overflow-x:auto;line-height:normal;font-family:Menlo,'DejaVu Sans Mono',consolas,'Courier New',monospace\">\n",
       "</pre>\n"
      ],
      "text/plain": [
       "\n"
      ]
     },
     "metadata": {},
     "output_type": "display_data"
    },
    {
     "data": {
      "application/vnd.jupyter.widget-view+json": {
       "model_id": "883fe4cbf23d421aa6c35d478d608249",
       "version_major": 2,
       "version_minor": 0
      },
      "text/plain": [
       "Output()"
      ]
     },
     "metadata": {},
     "output_type": "display_data"
    },
    {
     "data": {
      "text/html": [
       "<pre style=\"white-space:pre;overflow-x:auto;line-height:normal;font-family:Menlo,'DejaVu Sans Mono',consolas,'Courier New',monospace\">        Visualizing file with timestamp:        1723235685866951107\n",
       "</pre>\n"
      ],
      "text/plain": [
       "        Visualizing file with timestamp:        1723235685866951107\n"
      ]
     },
     "metadata": {},
     "output_type": "display_data"
    },
    {
     "data": {
      "text/html": [
       "<pre style=\"white-space:pre;overflow-x:auto;line-height:normal;font-family:Menlo,'DejaVu Sans Mono',consolas,'Courier New',monospace\"><span style=\"color: #808000; text-decoration-color: #808000; font-weight: bold\">[Open3D WARNING] [ViewControl] ConvertFromPinholeCameraParameters() failed because window height and width do not </span>\n",
       "<span style=\"color: #808000; text-decoration-color: #808000; font-weight: bold\">match.</span>\n",
       "</pre>\n"
      ],
      "text/plain": [
       "\u001b[1;33m[Open3D WARNING] [ViewControl] ConvertFromPinholeCameraParameters() failed because window height and width do not \u001b[0m\n",
       "\u001b[1;33mmatch.\u001b[0m\n"
      ]
     },
     "metadata": {},
     "output_type": "display_data"
    },
    {
     "data": {
      "text/html": [
       "<pre style=\"white-space:pre;overflow-x:auto;line-height:normal;font-family:Menlo,'DejaVu Sans Mono',consolas,'Courier New',monospace\"></pre>\n"
      ],
      "text/plain": []
     },
     "metadata": {},
     "output_type": "display_data"
    },
    {
     "data": {
      "text/html": [
       "<pre style=\"white-space:pre;overflow-x:auto;line-height:normal;font-family:Menlo,'DejaVu Sans Mono',consolas,'Courier New',monospace\">\n",
       "</pre>\n"
      ],
      "text/plain": [
       "\n"
      ]
     },
     "metadata": {},
     "output_type": "display_data"
    },
    {
     "data": {
      "application/vnd.jupyter.widget-view+json": {
       "model_id": "79d0334171524a49b4abf62560f0b61c",
       "version_major": 2,
       "version_minor": 0
      },
      "text/plain": [
       "Output()"
      ]
     },
     "metadata": {},
     "output_type": "display_data"
    },
    {
     "data": {
      "text/html": [
       "<pre style=\"white-space:pre;overflow-x:auto;line-height:normal;font-family:Menlo,'DejaVu Sans Mono',consolas,'Courier New',monospace\">        Visualizing file with timestamp:        1723235686065169985\n",
       "</pre>\n"
      ],
      "text/plain": [
       "        Visualizing file with timestamp:        1723235686065169985\n"
      ]
     },
     "metadata": {},
     "output_type": "display_data"
    },
    {
     "data": {
      "text/html": [
       "<pre style=\"white-space:pre;overflow-x:auto;line-height:normal;font-family:Menlo,'DejaVu Sans Mono',consolas,'Courier New',monospace\"><span style=\"color: #808000; text-decoration-color: #808000; font-weight: bold\">[Open3D WARNING] [ViewControl] ConvertFromPinholeCameraParameters() failed because window height and width do not </span>\n",
       "<span style=\"color: #808000; text-decoration-color: #808000; font-weight: bold\">match.</span>\n",
       "</pre>\n"
      ],
      "text/plain": [
       "\u001b[1;33m[Open3D WARNING] [ViewControl] ConvertFromPinholeCameraParameters() failed because window height and width do not \u001b[0m\n",
       "\u001b[1;33mmatch.\u001b[0m\n"
      ]
     },
     "metadata": {},
     "output_type": "display_data"
    },
    {
     "data": {
      "text/html": [
       "<pre style=\"white-space:pre;overflow-x:auto;line-height:normal;font-family:Menlo,'DejaVu Sans Mono',consolas,'Courier New',monospace\"></pre>\n"
      ],
      "text/plain": []
     },
     "metadata": {},
     "output_type": "display_data"
    },
    {
     "data": {
      "text/html": [
       "<pre style=\"white-space:pre;overflow-x:auto;line-height:normal;font-family:Menlo,'DejaVu Sans Mono',consolas,'Courier New',monospace\">\n",
       "</pre>\n"
      ],
      "text/plain": [
       "\n"
      ]
     },
     "metadata": {},
     "output_type": "display_data"
    },
    {
     "data": {
      "application/vnd.jupyter.widget-view+json": {
       "model_id": "88e82222393c451b9b7990ad086bb3fc",
       "version_major": 2,
       "version_minor": 0
      },
      "text/plain": [
       "Output()"
      ]
     },
     "metadata": {},
     "output_type": "display_data"
    },
    {
     "data": {
      "text/html": [
       "<pre style=\"white-space:pre;overflow-x:auto;line-height:normal;font-family:Menlo,'DejaVu Sans Mono',consolas,'Courier New',monospace\">        Visualizing file with timestamp:        1723235686523375655\n",
       "</pre>\n"
      ],
      "text/plain": [
       "        Visualizing file with timestamp:        1723235686523375655\n"
      ]
     },
     "metadata": {},
     "output_type": "display_data"
    },
    {
     "data": {
      "text/html": [
       "<pre style=\"white-space:pre;overflow-x:auto;line-height:normal;font-family:Menlo,'DejaVu Sans Mono',consolas,'Courier New',monospace\"><span style=\"color: #808000; text-decoration-color: #808000; font-weight: bold\">[Open3D WARNING] [ViewControl] ConvertFromPinholeCameraParameters() failed because window height and width do not </span>\n",
       "<span style=\"color: #808000; text-decoration-color: #808000; font-weight: bold\">match.</span>\n",
       "</pre>\n"
      ],
      "text/plain": [
       "\u001b[1;33m[Open3D WARNING] [ViewControl] ConvertFromPinholeCameraParameters() failed because window height and width do not \u001b[0m\n",
       "\u001b[1;33mmatch.\u001b[0m\n"
      ]
     },
     "metadata": {},
     "output_type": "display_data"
    },
    {
     "data": {
      "text/html": [
       "<pre style=\"white-space:pre;overflow-x:auto;line-height:normal;font-family:Menlo,'DejaVu Sans Mono',consolas,'Courier New',monospace\"></pre>\n"
      ],
      "text/plain": []
     },
     "metadata": {},
     "output_type": "display_data"
    },
    {
     "data": {
      "text/html": [
       "<pre style=\"white-space:pre;overflow-x:auto;line-height:normal;font-family:Menlo,'DejaVu Sans Mono',consolas,'Courier New',monospace\">\n",
       "</pre>\n"
      ],
      "text/plain": [
       "\n"
      ]
     },
     "metadata": {},
     "output_type": "display_data"
    },
    {
     "data": {
      "application/vnd.jupyter.widget-view+json": {
       "model_id": "d282d29e3a1c411fb2fd33c1dbc9513c",
       "version_major": 2,
       "version_minor": 0
      },
      "text/plain": [
       "Output()"
      ]
     },
     "metadata": {},
     "output_type": "display_data"
    },
    {
     "data": {
      "text/html": [
       "<pre style=\"white-space:pre;overflow-x:auto;line-height:normal;font-family:Menlo,'DejaVu Sans Mono',consolas,'Courier New',monospace\">        Visualizing file with timestamp:        1723235687362080471\n",
       "</pre>\n"
      ],
      "text/plain": [
       "        Visualizing file with timestamp:        1723235687362080471\n"
      ]
     },
     "metadata": {},
     "output_type": "display_data"
    },
    {
     "data": {
      "text/html": [
       "<pre style=\"white-space:pre;overflow-x:auto;line-height:normal;font-family:Menlo,'DejaVu Sans Mono',consolas,'Courier New',monospace\"><span style=\"color: #808000; text-decoration-color: #808000; font-weight: bold\">[Open3D WARNING] invalid color in PaintUniformColor, clipping to [0, 1]</span>\n",
       "</pre>\n"
      ],
      "text/plain": [
       "\u001b[1;33m[Open3D WARNING] invalid color in PaintUniformColor, clipping to [0, 1]\u001b[0m\n"
      ]
     },
     "metadata": {},
     "output_type": "display_data"
    },
    {
     "data": {
      "text/html": [
       "<pre style=\"white-space:pre;overflow-x:auto;line-height:normal;font-family:Menlo,'DejaVu Sans Mono',consolas,'Courier New',monospace\"><span style=\"color: #808000; text-decoration-color: #808000; font-weight: bold\">[Open3D WARNING] [ViewControl] ConvertFromPinholeCameraParameters() failed because window height and width do not </span>\n",
       "<span style=\"color: #808000; text-decoration-color: #808000; font-weight: bold\">match.</span>\n",
       "</pre>\n"
      ],
      "text/plain": [
       "\u001b[1;33m[Open3D WARNING] [ViewControl] ConvertFromPinholeCameraParameters() failed because window height and width do not \u001b[0m\n",
       "\u001b[1;33mmatch.\u001b[0m\n"
      ]
     },
     "metadata": {},
     "output_type": "display_data"
    },
    {
     "data": {
      "text/html": [
       "<pre style=\"white-space:pre;overflow-x:auto;line-height:normal;font-family:Menlo,'DejaVu Sans Mono',consolas,'Courier New',monospace\"></pre>\n"
      ],
      "text/plain": []
     },
     "metadata": {},
     "output_type": "display_data"
    },
    {
     "data": {
      "text/html": [
       "<pre style=\"white-space:pre;overflow-x:auto;line-height:normal;font-family:Menlo,'DejaVu Sans Mono',consolas,'Courier New',monospace\">\n",
       "</pre>\n"
      ],
      "text/plain": [
       "\n"
      ]
     },
     "metadata": {},
     "output_type": "display_data"
    },
    {
     "data": {
      "application/vnd.jupyter.widget-view+json": {
       "model_id": "d55ae98599fe4c8e9b2fbcd917a5380f",
       "version_major": 2,
       "version_minor": 0
      },
      "text/plain": [
       "Output()"
      ]
     },
     "metadata": {},
     "output_type": "display_data"
    },
    {
     "data": {
      "text/html": [
       "<pre style=\"white-space:pre;overflow-x:auto;line-height:normal;font-family:Menlo,'DejaVu Sans Mono',consolas,'Courier New',monospace\">        Visualizing file with timestamp:        1723235776910558400\n",
       "</pre>\n"
      ],
      "text/plain": [
       "        Visualizing file with timestamp:        1723235776910558400\n"
      ]
     },
     "metadata": {},
     "output_type": "display_data"
    },
    {
     "data": {
      "text/html": [
       "<pre style=\"white-space:pre;overflow-x:auto;line-height:normal;font-family:Menlo,'DejaVu Sans Mono',consolas,'Courier New',monospace\"><span style=\"color: #808000; text-decoration-color: #808000; font-weight: bold\">[Open3D WARNING] [ViewControl] ConvertFromPinholeCameraParameters() failed because window height and width do not </span>\n",
       "<span style=\"color: #808000; text-decoration-color: #808000; font-weight: bold\">match.</span>\n",
       "</pre>\n"
      ],
      "text/plain": [
       "\u001b[1;33m[Open3D WARNING] [ViewControl] ConvertFromPinholeCameraParameters() failed because window height and width do not \u001b[0m\n",
       "\u001b[1;33mmatch.\u001b[0m\n"
      ]
     },
     "metadata": {},
     "output_type": "display_data"
    },
    {
     "data": {
      "text/html": [
       "<pre style=\"white-space:pre;overflow-x:auto;line-height:normal;font-family:Menlo,'DejaVu Sans Mono',consolas,'Courier New',monospace\"></pre>\n"
      ],
      "text/plain": []
     },
     "metadata": {},
     "output_type": "display_data"
    },
    {
     "data": {
      "text/html": [
       "<pre style=\"white-space:pre;overflow-x:auto;line-height:normal;font-family:Menlo,'DejaVu Sans Mono',consolas,'Courier New',monospace\">\n",
       "</pre>\n"
      ],
      "text/plain": [
       "\n"
      ]
     },
     "metadata": {},
     "output_type": "display_data"
    },
    {
     "data": {
      "application/vnd.jupyter.widget-view+json": {
       "model_id": "351bfa538c364b12ba8e3b3780486570",
       "version_major": 2,
       "version_minor": 0
      },
      "text/plain": [
       "Output()"
      ]
     },
     "metadata": {},
     "output_type": "display_data"
    },
    {
     "data": {
      "text/html": [
       "<pre style=\"white-space:pre;overflow-x:auto;line-height:normal;font-family:Menlo,'DejaVu Sans Mono',consolas,'Courier New',monospace\">        Visualizing file with timestamp:        1723235777314963688\n",
       "</pre>\n"
      ],
      "text/plain": [
       "        Visualizing file with timestamp:        1723235777314963688\n"
      ]
     },
     "metadata": {},
     "output_type": "display_data"
    },
    {
     "data": {
      "text/html": [
       "<pre style=\"white-space:pre;overflow-x:auto;line-height:normal;font-family:Menlo,'DejaVu Sans Mono',consolas,'Courier New',monospace\"><span style=\"color: #808000; text-decoration-color: #808000; font-weight: bold\">[Open3D WARNING] [ViewControl] ConvertFromPinholeCameraParameters() failed because window height and width do not </span>\n",
       "<span style=\"color: #808000; text-decoration-color: #808000; font-weight: bold\">match.</span>\n",
       "</pre>\n"
      ],
      "text/plain": [
       "\u001b[1;33m[Open3D WARNING] [ViewControl] ConvertFromPinholeCameraParameters() failed because window height and width do not \u001b[0m\n",
       "\u001b[1;33mmatch.\u001b[0m\n"
      ]
     },
     "metadata": {},
     "output_type": "display_data"
    },
    {
     "data": {
      "text/html": [
       "<pre style=\"white-space:pre;overflow-x:auto;line-height:normal;font-family:Menlo,'DejaVu Sans Mono',consolas,'Courier New',monospace\"></pre>\n"
      ],
      "text/plain": []
     },
     "metadata": {},
     "output_type": "display_data"
    },
    {
     "data": {
      "text/html": [
       "<pre style=\"white-space:pre;overflow-x:auto;line-height:normal;font-family:Menlo,'DejaVu Sans Mono',consolas,'Courier New',monospace\">\n",
       "</pre>\n"
      ],
      "text/plain": [
       "\n"
      ]
     },
     "metadata": {},
     "output_type": "display_data"
    },
    {
     "data": {
      "application/vnd.jupyter.widget-view+json": {
       "model_id": "670f5541e5c34168903266294e558589",
       "version_major": 2,
       "version_minor": 0
      },
      "text/plain": [
       "Output()"
      ]
     },
     "metadata": {},
     "output_type": "display_data"
    },
    {
     "data": {
      "text/html": [
       "<pre style=\"white-space:pre;overflow-x:auto;line-height:normal;font-family:Menlo,'DejaVu Sans Mono',consolas,'Courier New',monospace\">        Visualizing file with timestamp:        1723235842419750615\n",
       "</pre>\n"
      ],
      "text/plain": [
       "        Visualizing file with timestamp:        1723235842419750615\n"
      ]
     },
     "metadata": {},
     "output_type": "display_data"
    },
    {
     "data": {
      "text/html": [
       "<pre style=\"white-space:pre;overflow-x:auto;line-height:normal;font-family:Menlo,'DejaVu Sans Mono',consolas,'Courier New',monospace\"><span style=\"color: #808000; text-decoration-color: #808000; font-weight: bold\">[Open3D WARNING] [ViewControl] ConvertFromPinholeCameraParameters() failed because window height and width do not </span>\n",
       "<span style=\"color: #808000; text-decoration-color: #808000; font-weight: bold\">match.</span>\n",
       "</pre>\n"
      ],
      "text/plain": [
       "\u001b[1;33m[Open3D WARNING] [ViewControl] ConvertFromPinholeCameraParameters() failed because window height and width do not \u001b[0m\n",
       "\u001b[1;33mmatch.\u001b[0m\n"
      ]
     },
     "metadata": {},
     "output_type": "display_data"
    },
    {
     "data": {
      "text/html": [
       "<pre style=\"white-space:pre;overflow-x:auto;line-height:normal;font-family:Menlo,'DejaVu Sans Mono',consolas,'Courier New',monospace\"></pre>\n"
      ],
      "text/plain": []
     },
     "metadata": {},
     "output_type": "display_data"
    },
    {
     "data": {
      "text/html": [
       "<pre style=\"white-space:pre;overflow-x:auto;line-height:normal;font-family:Menlo,'DejaVu Sans Mono',consolas,'Courier New',monospace\">\n",
       "</pre>\n"
      ],
      "text/plain": [
       "\n"
      ]
     },
     "metadata": {},
     "output_type": "display_data"
    },
    {
     "data": {
      "application/vnd.jupyter.widget-view+json": {
       "model_id": "726e1d0233df49168fc227219d7adacb",
       "version_major": 2,
       "version_minor": 0
      },
      "text/plain": [
       "Output()"
      ]
     },
     "metadata": {},
     "output_type": "display_data"
    },
    {
     "data": {
      "text/html": [
       "<pre style=\"white-space:pre;overflow-x:auto;line-height:normal;font-family:Menlo,'DejaVu Sans Mono',consolas,'Courier New',monospace\">        Visualizing file with timestamp:        1723235842667026284\n",
       "</pre>\n"
      ],
      "text/plain": [
       "        Visualizing file with timestamp:        1723235842667026284\n"
      ]
     },
     "metadata": {},
     "output_type": "display_data"
    },
    {
     "data": {
      "text/html": [
       "<pre style=\"white-space:pre;overflow-x:auto;line-height:normal;font-family:Menlo,'DejaVu Sans Mono',consolas,'Courier New',monospace\"><span style=\"color: #808000; text-decoration-color: #808000; font-weight: bold\">[Open3D WARNING] [ViewControl] ConvertFromPinholeCameraParameters() failed because window height and width do not </span>\n",
       "<span style=\"color: #808000; text-decoration-color: #808000; font-weight: bold\">match.</span>\n",
       "</pre>\n"
      ],
      "text/plain": [
       "\u001b[1;33m[Open3D WARNING] [ViewControl] ConvertFromPinholeCameraParameters() failed because window height and width do not \u001b[0m\n",
       "\u001b[1;33mmatch.\u001b[0m\n"
      ]
     },
     "metadata": {},
     "output_type": "display_data"
    },
    {
     "data": {
      "text/html": [
       "<pre style=\"white-space:pre;overflow-x:auto;line-height:normal;font-family:Menlo,'DejaVu Sans Mono',consolas,'Courier New',monospace\"></pre>\n"
      ],
      "text/plain": []
     },
     "metadata": {},
     "output_type": "display_data"
    },
    {
     "data": {
      "text/html": [
       "<pre style=\"white-space:pre;overflow-x:auto;line-height:normal;font-family:Menlo,'DejaVu Sans Mono',consolas,'Courier New',monospace\">\n",
       "</pre>\n"
      ],
      "text/plain": [
       "\n"
      ]
     },
     "metadata": {},
     "output_type": "display_data"
    },
    {
     "data": {
      "application/vnd.jupyter.widget-view+json": {
       "model_id": "874c0461bbbe46ac860f5b9f2f160b10",
       "version_major": 2,
       "version_minor": 0
      },
      "text/plain": [
       "Output()"
      ]
     },
     "metadata": {},
     "output_type": "display_data"
    },
    {
     "data": {
      "text/html": [
       "<pre style=\"white-space:pre;overflow-x:auto;line-height:normal;font-family:Menlo,'DejaVu Sans Mono',consolas,'Courier New',monospace\">        Visualizing file with timestamp:        1723235844112134997\n",
       "</pre>\n"
      ],
      "text/plain": [
       "        Visualizing file with timestamp:        1723235844112134997\n"
      ]
     },
     "metadata": {},
     "output_type": "display_data"
    },
    {
     "data": {
      "text/html": [
       "<pre style=\"white-space:pre;overflow-x:auto;line-height:normal;font-family:Menlo,'DejaVu Sans Mono',consolas,'Courier New',monospace\"><span style=\"color: #808000; text-decoration-color: #808000; font-weight: bold\">[Open3D WARNING] [ViewControl] ConvertFromPinholeCameraParameters() failed because window height and width do not </span>\n",
       "<span style=\"color: #808000; text-decoration-color: #808000; font-weight: bold\">match.</span>\n",
       "</pre>\n"
      ],
      "text/plain": [
       "\u001b[1;33m[Open3D WARNING] [ViewControl] ConvertFromPinholeCameraParameters() failed because window height and width do not \u001b[0m\n",
       "\u001b[1;33mmatch.\u001b[0m\n"
      ]
     },
     "metadata": {},
     "output_type": "display_data"
    },
    {
     "data": {
      "text/html": [
       "<pre style=\"white-space:pre;overflow-x:auto;line-height:normal;font-family:Menlo,'DejaVu Sans Mono',consolas,'Courier New',monospace\"></pre>\n"
      ],
      "text/plain": []
     },
     "metadata": {},
     "output_type": "display_data"
    },
    {
     "data": {
      "text/html": [
       "<pre style=\"white-space:pre;overflow-x:auto;line-height:normal;font-family:Menlo,'DejaVu Sans Mono',consolas,'Courier New',monospace\">\n",
       "</pre>\n"
      ],
      "text/plain": [
       "\n"
      ]
     },
     "metadata": {},
     "output_type": "display_data"
    },
    {
     "data": {
      "application/vnd.jupyter.widget-view+json": {
       "model_id": "6104e372aba2422aab154ca40b8714e7",
       "version_major": 2,
       "version_minor": 0
      },
      "text/plain": [
       "Output()"
      ]
     },
     "metadata": {},
     "output_type": "display_data"
    },
    {
     "data": {
      "text/html": [
       "<pre style=\"white-space:pre;overflow-x:auto;line-height:normal;font-family:Menlo,'DejaVu Sans Mono',consolas,'Courier New',monospace\">        Visualizing file with timestamp:        1723235844768175409\n",
       "</pre>\n"
      ],
      "text/plain": [
       "        Visualizing file with timestamp:        1723235844768175409\n"
      ]
     },
     "metadata": {},
     "output_type": "display_data"
    },
    {
     "data": {
      "text/html": [
       "<pre style=\"white-space:pre;overflow-x:auto;line-height:normal;font-family:Menlo,'DejaVu Sans Mono',consolas,'Courier New',monospace\"><span style=\"color: #808000; text-decoration-color: #808000; font-weight: bold\">[Open3D WARNING] invalid color in PaintUniformColor, clipping to [0, 1]</span>\n",
       "</pre>\n"
      ],
      "text/plain": [
       "\u001b[1;33m[Open3D WARNING] invalid color in PaintUniformColor, clipping to [0, 1]\u001b[0m\n"
      ]
     },
     "metadata": {},
     "output_type": "display_data"
    },
    {
     "data": {
      "text/html": [
       "<pre style=\"white-space:pre;overflow-x:auto;line-height:normal;font-family:Menlo,'DejaVu Sans Mono',consolas,'Courier New',monospace\"><span style=\"color: #808000; text-decoration-color: #808000; font-weight: bold\">[Open3D WARNING] [ViewControl] ConvertFromPinholeCameraParameters() failed because window height and width do not </span>\n",
       "<span style=\"color: #808000; text-decoration-color: #808000; font-weight: bold\">match.</span>\n",
       "</pre>\n"
      ],
      "text/plain": [
       "\u001b[1;33m[Open3D WARNING] [ViewControl] ConvertFromPinholeCameraParameters() failed because window height and width do not \u001b[0m\n",
       "\u001b[1;33mmatch.\u001b[0m\n"
      ]
     },
     "metadata": {},
     "output_type": "display_data"
    },
    {
     "data": {
      "text/html": [
       "<pre style=\"white-space:pre;overflow-x:auto;line-height:normal;font-family:Menlo,'DejaVu Sans Mono',consolas,'Courier New',monospace\"></pre>\n"
      ],
      "text/plain": []
     },
     "metadata": {},
     "output_type": "display_data"
    },
    {
     "data": {
      "text/html": [
       "<pre style=\"white-space:pre;overflow-x:auto;line-height:normal;font-family:Menlo,'DejaVu Sans Mono',consolas,'Courier New',monospace\">\n",
       "</pre>\n"
      ],
      "text/plain": [
       "\n"
      ]
     },
     "metadata": {},
     "output_type": "display_data"
    },
    {
     "data": {
      "application/vnd.jupyter.widget-view+json": {
       "model_id": "88705237c1694c558e8841638cea9304",
       "version_major": 2,
       "version_minor": 0
      },
      "text/plain": [
       "Output()"
      ]
     },
     "metadata": {},
     "output_type": "display_data"
    },
    {
     "data": {
      "text/html": [
       "<pre style=\"white-space:pre;overflow-x:auto;line-height:normal;font-family:Menlo,'DejaVu Sans Mono',consolas,'Courier New',monospace\">        Visualizing file with timestamp:        1723236128116776441\n",
       "</pre>\n"
      ],
      "text/plain": [
       "        Visualizing file with timestamp:        1723236128116776441\n"
      ]
     },
     "metadata": {},
     "output_type": "display_data"
    },
    {
     "data": {
      "text/html": [
       "<pre style=\"white-space:pre;overflow-x:auto;line-height:normal;font-family:Menlo,'DejaVu Sans Mono',consolas,'Courier New',monospace\"><span style=\"color: #808000; text-decoration-color: #808000; font-weight: bold\">[Open3D WARNING] [ViewControl] ConvertFromPinholeCameraParameters() failed because window height and width do not </span>\n",
       "<span style=\"color: #808000; text-decoration-color: #808000; font-weight: bold\">match.</span>\n",
       "</pre>\n"
      ],
      "text/plain": [
       "\u001b[1;33m[Open3D WARNING] [ViewControl] ConvertFromPinholeCameraParameters() failed because window height and width do not \u001b[0m\n",
       "\u001b[1;33mmatch.\u001b[0m\n"
      ]
     },
     "metadata": {},
     "output_type": "display_data"
    },
    {
     "data": {
      "text/html": [
       "<pre style=\"white-space:pre;overflow-x:auto;line-height:normal;font-family:Menlo,'DejaVu Sans Mono',consolas,'Courier New',monospace\"></pre>\n"
      ],
      "text/plain": []
     },
     "metadata": {},
     "output_type": "display_data"
    },
    {
     "data": {
      "text/html": [
       "<pre style=\"white-space:pre;overflow-x:auto;line-height:normal;font-family:Menlo,'DejaVu Sans Mono',consolas,'Courier New',monospace\">\n",
       "</pre>\n"
      ],
      "text/plain": [
       "\n"
      ]
     },
     "metadata": {},
     "output_type": "display_data"
    },
    {
     "data": {
      "application/vnd.jupyter.widget-view+json": {
       "model_id": "a9ad2fc4d8a24d67af5018d0febd53db",
       "version_major": 2,
       "version_minor": 0
      },
      "text/plain": [
       "Output()"
      ]
     },
     "metadata": {},
     "output_type": "display_data"
    },
    {
     "data": {
      "text/html": [
       "<pre style=\"white-space:pre;overflow-x:auto;line-height:normal;font-family:Menlo,'DejaVu Sans Mono',consolas,'Courier New',monospace\">        Visualizing file with timestamp:        1723236129064416952\n",
       "</pre>\n"
      ],
      "text/plain": [
       "        Visualizing file with timestamp:        1723236129064416952\n"
      ]
     },
     "metadata": {},
     "output_type": "display_data"
    },
    {
     "data": {
      "text/html": [
       "<pre style=\"white-space:pre;overflow-x:auto;line-height:normal;font-family:Menlo,'DejaVu Sans Mono',consolas,'Courier New',monospace\"><span style=\"color: #808000; text-decoration-color: #808000; font-weight: bold\">[Open3D WARNING] [ViewControl] ConvertFromPinholeCameraParameters() failed because window height and width do not </span>\n",
       "<span style=\"color: #808000; text-decoration-color: #808000; font-weight: bold\">match.</span>\n",
       "</pre>\n"
      ],
      "text/plain": [
       "\u001b[1;33m[Open3D WARNING] [ViewControl] ConvertFromPinholeCameraParameters() failed because window height and width do not \u001b[0m\n",
       "\u001b[1;33mmatch.\u001b[0m\n"
      ]
     },
     "metadata": {},
     "output_type": "display_data"
    },
    {
     "data": {
      "text/html": [
       "<pre style=\"white-space:pre;overflow-x:auto;line-height:normal;font-family:Menlo,'DejaVu Sans Mono',consolas,'Courier New',monospace\"></pre>\n"
      ],
      "text/plain": []
     },
     "metadata": {},
     "output_type": "display_data"
    },
    {
     "data": {
      "text/html": [
       "<pre style=\"white-space:pre;overflow-x:auto;line-height:normal;font-family:Menlo,'DejaVu Sans Mono',consolas,'Courier New',monospace\">\n",
       "</pre>\n"
      ],
      "text/plain": [
       "\n"
      ]
     },
     "metadata": {},
     "output_type": "display_data"
    },
    {
     "data": {
      "application/vnd.jupyter.widget-view+json": {
       "model_id": "fa004bdbbf9e495a95c5d3c7bac85ab4",
       "version_major": 2,
       "version_minor": 0
      },
      "text/plain": [
       "Output()"
      ]
     },
     "metadata": {},
     "output_type": "display_data"
    },
    {
     "data": {
      "text/html": [
       "<pre style=\"white-space:pre;overflow-x:auto;line-height:normal;font-family:Menlo,'DejaVu Sans Mono',consolas,'Courier New',monospace\">        Visualizing file with timestamp:        1723923371759816590\n",
       "</pre>\n"
      ],
      "text/plain": [
       "        Visualizing file with timestamp:        1723923371759816590\n"
      ]
     },
     "metadata": {},
     "output_type": "display_data"
    },
    {
     "data": {
      "text/html": [
       "<pre style=\"white-space:pre;overflow-x:auto;line-height:normal;font-family:Menlo,'DejaVu Sans Mono',consolas,'Courier New',monospace\"><span style=\"color: #808000; text-decoration-color: #808000; font-weight: bold\">[Open3D WARNING] [ViewControl] ConvertFromPinholeCameraParameters() failed because window height and width do not </span>\n",
       "<span style=\"color: #808000; text-decoration-color: #808000; font-weight: bold\">match.</span>\n",
       "</pre>\n"
      ],
      "text/plain": [
       "\u001b[1;33m[Open3D WARNING] [ViewControl] ConvertFromPinholeCameraParameters() failed because window height and width do not \u001b[0m\n",
       "\u001b[1;33mmatch.\u001b[0m\n"
      ]
     },
     "metadata": {},
     "output_type": "display_data"
    },
    {
     "data": {
      "text/html": [
       "<pre style=\"white-space:pre;overflow-x:auto;line-height:normal;font-family:Menlo,'DejaVu Sans Mono',consolas,'Courier New',monospace\"></pre>\n"
      ],
      "text/plain": []
     },
     "metadata": {},
     "output_type": "display_data"
    },
    {
     "data": {
      "text/html": [
       "<pre style=\"white-space:pre;overflow-x:auto;line-height:normal;font-family:Menlo,'DejaVu Sans Mono',consolas,'Courier New',monospace\">\n",
       "</pre>\n"
      ],
      "text/plain": [
       "\n"
      ]
     },
     "metadata": {},
     "output_type": "display_data"
    },
    {
     "data": {
      "application/vnd.jupyter.widget-view+json": {
       "model_id": "570aeae9e67c48808736b30c6a4318c6",
       "version_major": 2,
       "version_minor": 0
      },
      "text/plain": [
       "Output()"
      ]
     },
     "metadata": {},
     "output_type": "display_data"
    },
    {
     "data": {
      "text/html": [
       "<pre style=\"white-space:pre;overflow-x:auto;line-height:normal;font-family:Menlo,'DejaVu Sans Mono',consolas,'Courier New',monospace\">        Visualizing file with timestamp:        1723923372467707348\n",
       "</pre>\n"
      ],
      "text/plain": [
       "        Visualizing file with timestamp:        1723923372467707348\n"
      ]
     },
     "metadata": {},
     "output_type": "display_data"
    },
    {
     "data": {
      "text/html": [
       "<pre style=\"white-space:pre;overflow-x:auto;line-height:normal;font-family:Menlo,'DejaVu Sans Mono',consolas,'Courier New',monospace\"><span style=\"color: #808000; text-decoration-color: #808000; font-weight: bold\">[Open3D WARNING] [ViewControl] ConvertFromPinholeCameraParameters() failed because window height and width do not </span>\n",
       "<span style=\"color: #808000; text-decoration-color: #808000; font-weight: bold\">match.</span>\n",
       "</pre>\n"
      ],
      "text/plain": [
       "\u001b[1;33m[Open3D WARNING] [ViewControl] ConvertFromPinholeCameraParameters() failed because window height and width do not \u001b[0m\n",
       "\u001b[1;33mmatch.\u001b[0m\n"
      ]
     },
     "metadata": {},
     "output_type": "display_data"
    },
    {
     "data": {
      "text/html": [
       "<pre style=\"white-space:pre;overflow-x:auto;line-height:normal;font-family:Menlo,'DejaVu Sans Mono',consolas,'Courier New',monospace\"></pre>\n"
      ],
      "text/plain": []
     },
     "metadata": {},
     "output_type": "display_data"
    },
    {
     "data": {
      "text/html": [
       "<pre style=\"white-space:pre;overflow-x:auto;line-height:normal;font-family:Menlo,'DejaVu Sans Mono',consolas,'Courier New',monospace\">\n",
       "</pre>\n"
      ],
      "text/plain": [
       "\n"
      ]
     },
     "metadata": {},
     "output_type": "display_data"
    },
    {
     "data": {
      "application/vnd.jupyter.widget-view+json": {
       "model_id": "53d15d56c700418ba033a695aa7bd784",
       "version_major": 2,
       "version_minor": 0
      },
      "text/plain": [
       "Output()"
      ]
     },
     "metadata": {},
     "output_type": "display_data"
    },
    {
     "data": {
      "text/html": [
       "<pre style=\"white-space:pre;overflow-x:auto;line-height:normal;font-family:Menlo,'DejaVu Sans Mono',consolas,'Courier New',monospace\">        Visualizing file with timestamp:        1723923372764692218\n",
       "</pre>\n"
      ],
      "text/plain": [
       "        Visualizing file with timestamp:        1723923372764692218\n"
      ]
     },
     "metadata": {},
     "output_type": "display_data"
    },
    {
     "data": {
      "text/html": [
       "<pre style=\"white-space:pre;overflow-x:auto;line-height:normal;font-family:Menlo,'DejaVu Sans Mono',consolas,'Courier New',monospace\"><span style=\"color: #808000; text-decoration-color: #808000; font-weight: bold\">[Open3D WARNING] [ViewControl] ConvertFromPinholeCameraParameters() failed because window height and width do not </span>\n",
       "<span style=\"color: #808000; text-decoration-color: #808000; font-weight: bold\">match.</span>\n",
       "</pre>\n"
      ],
      "text/plain": [
       "\u001b[1;33m[Open3D WARNING] [ViewControl] ConvertFromPinholeCameraParameters() failed because window height and width do not \u001b[0m\n",
       "\u001b[1;33mmatch.\u001b[0m\n"
      ]
     },
     "metadata": {},
     "output_type": "display_data"
    },
    {
     "data": {
      "text/html": [
       "<pre style=\"white-space:pre;overflow-x:auto;line-height:normal;font-family:Menlo,'DejaVu Sans Mono',consolas,'Courier New',monospace\"></pre>\n"
      ],
      "text/plain": []
     },
     "metadata": {},
     "output_type": "display_data"
    },
    {
     "data": {
      "text/html": [
       "<pre style=\"white-space:pre;overflow-x:auto;line-height:normal;font-family:Menlo,'DejaVu Sans Mono',consolas,'Courier New',monospace\">\n",
       "</pre>\n"
      ],
      "text/plain": [
       "\n"
      ]
     },
     "metadata": {},
     "output_type": "display_data"
    },
    {
     "data": {
      "application/vnd.jupyter.widget-view+json": {
       "model_id": "c3a489c70b5040138889824e3219571e",
       "version_major": 2,
       "version_minor": 0
      },
      "text/plain": [
       "Output()"
      ]
     },
     "metadata": {},
     "output_type": "display_data"
    },
    {
     "data": {
      "text/html": [
       "<pre style=\"white-space:pre;overflow-x:auto;line-height:normal;font-family:Menlo,'DejaVu Sans Mono',consolas,'Courier New',monospace\">        Visualizing file with timestamp:        1723923379360652994\n",
       "</pre>\n"
      ],
      "text/plain": [
       "        Visualizing file with timestamp:        1723923379360652994\n"
      ]
     },
     "metadata": {},
     "output_type": "display_data"
    },
    {
     "data": {
      "text/html": [
       "<pre style=\"white-space:pre;overflow-x:auto;line-height:normal;font-family:Menlo,'DejaVu Sans Mono',consolas,'Courier New',monospace\"><span style=\"color: #808000; text-decoration-color: #808000; font-weight: bold\">[Open3D WARNING] [ViewControl] ConvertFromPinholeCameraParameters() failed because window height and width do not </span>\n",
       "<span style=\"color: #808000; text-decoration-color: #808000; font-weight: bold\">match.</span>\n",
       "</pre>\n"
      ],
      "text/plain": [
       "\u001b[1;33m[Open3D WARNING] [ViewControl] ConvertFromPinholeCameraParameters() failed because window height and width do not \u001b[0m\n",
       "\u001b[1;33mmatch.\u001b[0m\n"
      ]
     },
     "metadata": {},
     "output_type": "display_data"
    },
    {
     "data": {
      "text/html": [
       "<pre style=\"white-space:pre;overflow-x:auto;line-height:normal;font-family:Menlo,'DejaVu Sans Mono',consolas,'Courier New',monospace\"></pre>\n"
      ],
      "text/plain": []
     },
     "metadata": {},
     "output_type": "display_data"
    },
    {
     "data": {
      "text/html": [
       "<pre style=\"white-space:pre;overflow-x:auto;line-height:normal;font-family:Menlo,'DejaVu Sans Mono',consolas,'Courier New',monospace\">\n",
       "</pre>\n"
      ],
      "text/plain": [
       "\n"
      ]
     },
     "metadata": {},
     "output_type": "display_data"
    },
    {
     "data": {
      "application/vnd.jupyter.widget-view+json": {
       "model_id": "9e5149b13d2a43bdb1c764569650d396",
       "version_major": 2,
       "version_minor": 0
      },
      "text/plain": [
       "Output()"
      ]
     },
     "metadata": {},
     "output_type": "display_data"
    },
    {
     "data": {
      "text/html": [
       "<pre style=\"white-space:pre;overflow-x:auto;line-height:normal;font-family:Menlo,'DejaVu Sans Mono',consolas,'Courier New',monospace\">        Visualizing file with timestamp:        1723923385569649448\n",
       "</pre>\n"
      ],
      "text/plain": [
       "        Visualizing file with timestamp:        1723923385569649448\n"
      ]
     },
     "metadata": {},
     "output_type": "display_data"
    },
    {
     "data": {
      "text/html": [
       "<pre style=\"white-space:pre;overflow-x:auto;line-height:normal;font-family:Menlo,'DejaVu Sans Mono',consolas,'Courier New',monospace\"><span style=\"color: #808000; text-decoration-color: #808000; font-weight: bold\">[Open3D WARNING] [ViewControl] ConvertFromPinholeCameraParameters() failed because window height and width do not </span>\n",
       "<span style=\"color: #808000; text-decoration-color: #808000; font-weight: bold\">match.</span>\n",
       "</pre>\n"
      ],
      "text/plain": [
       "\u001b[1;33m[Open3D WARNING] [ViewControl] ConvertFromPinholeCameraParameters() failed because window height and width do not \u001b[0m\n",
       "\u001b[1;33mmatch.\u001b[0m\n"
      ]
     },
     "metadata": {},
     "output_type": "display_data"
    },
    {
     "data": {
      "text/html": [
       "<pre style=\"white-space:pre;overflow-x:auto;line-height:normal;font-family:Menlo,'DejaVu Sans Mono',consolas,'Courier New',monospace\"></pre>\n"
      ],
      "text/plain": []
     },
     "metadata": {},
     "output_type": "display_data"
    },
    {
     "data": {
      "text/html": [
       "<pre style=\"white-space:pre;overflow-x:auto;line-height:normal;font-family:Menlo,'DejaVu Sans Mono',consolas,'Courier New',monospace\">\n",
       "</pre>\n"
      ],
      "text/plain": [
       "\n"
      ]
     },
     "metadata": {},
     "output_type": "display_data"
    },
    {
     "data": {
      "application/vnd.jupyter.widget-view+json": {
       "model_id": "02dba182a7a74a939fcfdedf99d99f97",
       "version_major": 2,
       "version_minor": 0
      },
      "text/plain": [
       "Output()"
      ]
     },
     "metadata": {},
     "output_type": "display_data"
    },
    {
     "data": {
      "text/html": [
       "<pre style=\"white-space:pre;overflow-x:auto;line-height:normal;font-family:Menlo,'DejaVu Sans Mono',consolas,'Courier New',monospace\">        Visualizing file with timestamp:        1723923387881637917\n",
       "</pre>\n"
      ],
      "text/plain": [
       "        Visualizing file with timestamp:        1723923387881637917\n"
      ]
     },
     "metadata": {},
     "output_type": "display_data"
    },
    {
     "data": {
      "text/html": [
       "<pre style=\"white-space:pre;overflow-x:auto;line-height:normal;font-family:Menlo,'DejaVu Sans Mono',consolas,'Courier New',monospace\"><span style=\"color: #808000; text-decoration-color: #808000; font-weight: bold\">[Open3D WARNING] [ViewControl] ConvertFromPinholeCameraParameters() failed because window height and width do not </span>\n",
       "<span style=\"color: #808000; text-decoration-color: #808000; font-weight: bold\">match.</span>\n",
       "</pre>\n"
      ],
      "text/plain": [
       "\u001b[1;33m[Open3D WARNING] [ViewControl] ConvertFromPinholeCameraParameters() failed because window height and width do not \u001b[0m\n",
       "\u001b[1;33mmatch.\u001b[0m\n"
      ]
     },
     "metadata": {},
     "output_type": "display_data"
    },
    {
     "data": {
      "text/html": [
       "<pre style=\"white-space:pre;overflow-x:auto;line-height:normal;font-family:Menlo,'DejaVu Sans Mono',consolas,'Courier New',monospace\"></pre>\n"
      ],
      "text/plain": []
     },
     "metadata": {},
     "output_type": "display_data"
    },
    {
     "data": {
      "text/html": [
       "<pre style=\"white-space:pre;overflow-x:auto;line-height:normal;font-family:Menlo,'DejaVu Sans Mono',consolas,'Courier New',monospace\">\n",
       "</pre>\n"
      ],
      "text/plain": [
       "\n"
      ]
     },
     "metadata": {},
     "output_type": "display_data"
    },
    {
     "data": {
      "application/vnd.jupyter.widget-view+json": {
       "model_id": "365d394444ef4dfe96b475024f45f034",
       "version_major": 2,
       "version_minor": 0
      },
      "text/plain": [
       "Output()"
      ]
     },
     "metadata": {},
     "output_type": "display_data"
    },
    {
     "data": {
      "text/html": [
       "<pre style=\"white-space:pre;overflow-x:auto;line-height:normal;font-family:Menlo,'DejaVu Sans Mono',consolas,'Courier New',monospace\">        Visualizing file with timestamp:        1723923455012212183\n",
       "</pre>\n"
      ],
      "text/plain": [
       "        Visualizing file with timestamp:        1723923455012212183\n"
      ]
     },
     "metadata": {},
     "output_type": "display_data"
    },
    {
     "data": {
      "text/html": [
       "<pre style=\"white-space:pre;overflow-x:auto;line-height:normal;font-family:Menlo,'DejaVu Sans Mono',consolas,'Courier New',monospace\"><span style=\"color: #808000; text-decoration-color: #808000; font-weight: bold\">[Open3D WARNING] [ViewControl] ConvertFromPinholeCameraParameters() failed because window height and width do not </span>\n",
       "<span style=\"color: #808000; text-decoration-color: #808000; font-weight: bold\">match.</span>\n",
       "</pre>\n"
      ],
      "text/plain": [
       "\u001b[1;33m[Open3D WARNING] [ViewControl] ConvertFromPinholeCameraParameters() failed because window height and width do not \u001b[0m\n",
       "\u001b[1;33mmatch.\u001b[0m\n"
      ]
     },
     "metadata": {},
     "output_type": "display_data"
    },
    {
     "data": {
      "text/html": [
       "<pre style=\"white-space:pre;overflow-x:auto;line-height:normal;font-family:Menlo,'DejaVu Sans Mono',consolas,'Courier New',monospace\"></pre>\n"
      ],
      "text/plain": []
     },
     "metadata": {},
     "output_type": "display_data"
    },
    {
     "data": {
      "text/html": [
       "<pre style=\"white-space:pre;overflow-x:auto;line-height:normal;font-family:Menlo,'DejaVu Sans Mono',consolas,'Courier New',monospace\">\n",
       "</pre>\n"
      ],
      "text/plain": [
       "\n"
      ]
     },
     "metadata": {},
     "output_type": "display_data"
    },
    {
     "data": {
      "application/vnd.jupyter.widget-view+json": {
       "model_id": "3af3ee5cd4d14853b9d0eec32cca7d36",
       "version_major": 2,
       "version_minor": 0
      },
      "text/plain": [
       "Output()"
      ]
     },
     "metadata": {},
     "output_type": "display_data"
    },
    {
     "data": {
      "text/html": [
       "<pre style=\"white-space:pre;overflow-x:auto;line-height:normal;font-family:Menlo,'DejaVu Sans Mono',consolas,'Courier New',monospace\">        Visualizing file with timestamp:        1723923455625289864\n",
       "</pre>\n"
      ],
      "text/plain": [
       "        Visualizing file with timestamp:        1723923455625289864\n"
      ]
     },
     "metadata": {},
     "output_type": "display_data"
    },
    {
     "data": {
      "text/html": [
       "<pre style=\"white-space:pre;overflow-x:auto;line-height:normal;font-family:Menlo,'DejaVu Sans Mono',consolas,'Courier New',monospace\"><span style=\"color: #808000; text-decoration-color: #808000; font-weight: bold\">[Open3D WARNING] invalid color in PaintUniformColor, clipping to [0, 1]</span>\n",
       "</pre>\n"
      ],
      "text/plain": [
       "\u001b[1;33m[Open3D WARNING] invalid color in PaintUniformColor, clipping to [0, 1]\u001b[0m\n"
      ]
     },
     "metadata": {},
     "output_type": "display_data"
    },
    {
     "data": {
      "text/html": [
       "<pre style=\"white-space:pre;overflow-x:auto;line-height:normal;font-family:Menlo,'DejaVu Sans Mono',consolas,'Courier New',monospace\"><span style=\"color: #808000; text-decoration-color: #808000; font-weight: bold\">[Open3D WARNING] [ViewControl] ConvertFromPinholeCameraParameters() failed because window height and width do not </span>\n",
       "<span style=\"color: #808000; text-decoration-color: #808000; font-weight: bold\">match.</span>\n",
       "</pre>\n"
      ],
      "text/plain": [
       "\u001b[1;33m[Open3D WARNING] [ViewControl] ConvertFromPinholeCameraParameters() failed because window height and width do not \u001b[0m\n",
       "\u001b[1;33mmatch.\u001b[0m\n"
      ]
     },
     "metadata": {},
     "output_type": "display_data"
    },
    {
     "data": {
      "text/html": [
       "<pre style=\"white-space:pre;overflow-x:auto;line-height:normal;font-family:Menlo,'DejaVu Sans Mono',consolas,'Courier New',monospace\"></pre>\n"
      ],
      "text/plain": []
     },
     "metadata": {},
     "output_type": "display_data"
    },
    {
     "data": {
      "text/html": [
       "<pre style=\"white-space:pre;overflow-x:auto;line-height:normal;font-family:Menlo,'DejaVu Sans Mono',consolas,'Courier New',monospace\">\n",
       "</pre>\n"
      ],
      "text/plain": [
       "\n"
      ]
     },
     "metadata": {},
     "output_type": "display_data"
    },
    {
     "data": {
      "application/vnd.jupyter.widget-view+json": {
       "model_id": "135a4d1c46b04b3cb933a8ec3a7eb5ce",
       "version_major": 2,
       "version_minor": 0
      },
      "text/plain": [
       "Output()"
      ]
     },
     "metadata": {},
     "output_type": "display_data"
    },
    {
     "data": {
      "text/html": [
       "<pre style=\"white-space:pre;overflow-x:auto;line-height:normal;font-family:Menlo,'DejaVu Sans Mono',consolas,'Courier New',monospace\">        Visualizing file with timestamp:        1723923458761875167\n",
       "</pre>\n"
      ],
      "text/plain": [
       "        Visualizing file with timestamp:        1723923458761875167\n"
      ]
     },
     "metadata": {},
     "output_type": "display_data"
    },
    {
     "data": {
      "text/html": [
       "<pre style=\"white-space:pre;overflow-x:auto;line-height:normal;font-family:Menlo,'DejaVu Sans Mono',consolas,'Courier New',monospace\"><span style=\"color: #808000; text-decoration-color: #808000; font-weight: bold\">[Open3D WARNING] [ViewControl] ConvertFromPinholeCameraParameters() failed because window height and width do not </span>\n",
       "<span style=\"color: #808000; text-decoration-color: #808000; font-weight: bold\">match.</span>\n",
       "</pre>\n"
      ],
      "text/plain": [
       "\u001b[1;33m[Open3D WARNING] [ViewControl] ConvertFromPinholeCameraParameters() failed because window height and width do not \u001b[0m\n",
       "\u001b[1;33mmatch.\u001b[0m\n"
      ]
     },
     "metadata": {},
     "output_type": "display_data"
    },
    {
     "data": {
      "text/html": [
       "<pre style=\"white-space:pre;overflow-x:auto;line-height:normal;font-family:Menlo,'DejaVu Sans Mono',consolas,'Courier New',monospace\"></pre>\n"
      ],
      "text/plain": []
     },
     "metadata": {},
     "output_type": "display_data"
    },
    {
     "data": {
      "text/html": [
       "<pre style=\"white-space:pre;overflow-x:auto;line-height:normal;font-family:Menlo,'DejaVu Sans Mono',consolas,'Courier New',monospace\">\n",
       "</pre>\n"
      ],
      "text/plain": [
       "\n"
      ]
     },
     "metadata": {},
     "output_type": "display_data"
    },
    {
     "data": {
      "application/vnd.jupyter.widget-view+json": {
       "model_id": "c60ca3fadd7949ddb14cbc45f45fb562",
       "version_major": 2,
       "version_minor": 0
      },
      "text/plain": [
       "Output()"
      ]
     },
     "metadata": {},
     "output_type": "display_data"
    },
    {
     "data": {
      "text/html": [
       "<pre style=\"white-space:pre;overflow-x:auto;line-height:normal;font-family:Menlo,'DejaVu Sans Mono',consolas,'Courier New',monospace\">        Visualizing file with timestamp:        1723923460463457754\n",
       "</pre>\n"
      ],
      "text/plain": [
       "        Visualizing file with timestamp:        1723923460463457754\n"
      ]
     },
     "metadata": {},
     "output_type": "display_data"
    },
    {
     "data": {
      "text/html": [
       "<pre style=\"white-space:pre;overflow-x:auto;line-height:normal;font-family:Menlo,'DejaVu Sans Mono',consolas,'Courier New',monospace\"><span style=\"color: #808000; text-decoration-color: #808000; font-weight: bold\">[Open3D WARNING] invalid color in PaintUniformColor, clipping to [0, 1]</span>\n",
       "</pre>\n"
      ],
      "text/plain": [
       "\u001b[1;33m[Open3D WARNING] invalid color in PaintUniformColor, clipping to [0, 1]\u001b[0m\n"
      ]
     },
     "metadata": {},
     "output_type": "display_data"
    },
    {
     "data": {
      "text/html": [
       "<pre style=\"white-space:pre;overflow-x:auto;line-height:normal;font-family:Menlo,'DejaVu Sans Mono',consolas,'Courier New',monospace\"><span style=\"color: #808000; text-decoration-color: #808000; font-weight: bold\">[Open3D WARNING] [ViewControl] ConvertFromPinholeCameraParameters() failed because window height and width do not </span>\n",
       "<span style=\"color: #808000; text-decoration-color: #808000; font-weight: bold\">match.</span>\n",
       "</pre>\n"
      ],
      "text/plain": [
       "\u001b[1;33m[Open3D WARNING] [ViewControl] ConvertFromPinholeCameraParameters() failed because window height and width do not \u001b[0m\n",
       "\u001b[1;33mmatch.\u001b[0m\n"
      ]
     },
     "metadata": {},
     "output_type": "display_data"
    },
    {
     "data": {
      "text/html": [
       "<pre style=\"white-space:pre;overflow-x:auto;line-height:normal;font-family:Menlo,'DejaVu Sans Mono',consolas,'Courier New',monospace\"></pre>\n"
      ],
      "text/plain": []
     },
     "metadata": {},
     "output_type": "display_data"
    },
    {
     "data": {
      "text/html": [
       "<pre style=\"white-space:pre;overflow-x:auto;line-height:normal;font-family:Menlo,'DejaVu Sans Mono',consolas,'Courier New',monospace\">\n",
       "</pre>\n"
      ],
      "text/plain": [
       "\n"
      ]
     },
     "metadata": {},
     "output_type": "display_data"
    },
    {
     "data": {
      "application/vnd.jupyter.widget-view+json": {
       "model_id": "818439e9107f4e83ae59b46c78d0399e",
       "version_major": 2,
       "version_minor": 0
      },
      "text/plain": [
       "Output()"
      ]
     },
     "metadata": {},
     "output_type": "display_data"
    },
    {
     "data": {
      "text/html": [
       "<pre style=\"white-space:pre;overflow-x:auto;line-height:normal;font-family:Menlo,'DejaVu Sans Mono',consolas,'Courier New',monospace\">        Visualizing file with timestamp:        1723923467514090049\n",
       "</pre>\n"
      ],
      "text/plain": [
       "        Visualizing file with timestamp:        1723923467514090049\n"
      ]
     },
     "metadata": {},
     "output_type": "display_data"
    },
    {
     "data": {
      "text/html": [
       "<pre style=\"white-space:pre;overflow-x:auto;line-height:normal;font-family:Menlo,'DejaVu Sans Mono',consolas,'Courier New',monospace\"><span style=\"color: #808000; text-decoration-color: #808000; font-weight: bold\">[Open3D WARNING] [ViewControl] ConvertFromPinholeCameraParameters() failed because window height and width do not </span>\n",
       "<span style=\"color: #808000; text-decoration-color: #808000; font-weight: bold\">match.</span>\n",
       "</pre>\n"
      ],
      "text/plain": [
       "\u001b[1;33m[Open3D WARNING] [ViewControl] ConvertFromPinholeCameraParameters() failed because window height and width do not \u001b[0m\n",
       "\u001b[1;33mmatch.\u001b[0m\n"
      ]
     },
     "metadata": {},
     "output_type": "display_data"
    },
    {
     "data": {
      "text/html": [
       "<pre style=\"white-space:pre;overflow-x:auto;line-height:normal;font-family:Menlo,'DejaVu Sans Mono',consolas,'Courier New',monospace\"></pre>\n"
      ],
      "text/plain": []
     },
     "metadata": {},
     "output_type": "display_data"
    },
    {
     "data": {
      "text/html": [
       "<pre style=\"white-space:pre;overflow-x:auto;line-height:normal;font-family:Menlo,'DejaVu Sans Mono',consolas,'Courier New',monospace\">\n",
       "</pre>\n"
      ],
      "text/plain": [
       "\n"
      ]
     },
     "metadata": {},
     "output_type": "display_data"
    },
    {
     "data": {
      "application/vnd.jupyter.widget-view+json": {
       "model_id": "906bb0ef460049e9a323130b9d1c1b24",
       "version_major": 2,
       "version_minor": 0
      },
      "text/plain": [
       "Output()"
      ]
     },
     "metadata": {},
     "output_type": "display_data"
    },
    {
     "data": {
      "text/html": [
       "<pre style=\"white-space:pre;overflow-x:auto;line-height:normal;font-family:Menlo,'DejaVu Sans Mono',consolas,'Courier New',monospace\">        Visualizing file with timestamp:        9999999903419228067\n",
       "</pre>\n"
      ],
      "text/plain": [
       "        Visualizing file with timestamp:        9999999903419228067\n"
      ]
     },
     "metadata": {},
     "output_type": "display_data"
    },
    {
     "data": {
      "text/html": [
       "<pre style=\"white-space:pre;overflow-x:auto;line-height:normal;font-family:Menlo,'DejaVu Sans Mono',consolas,'Courier New',monospace\">                This is a training image!!!\n",
       "</pre>\n"
      ],
      "text/plain": [
       "                This is a training image!!!\n"
      ]
     },
     "metadata": {},
     "output_type": "display_data"
    },
    {
     "data": {
      "text/html": [
       "<pre style=\"white-space:pre;overflow-x:auto;line-height:normal;font-family:Menlo,'DejaVu Sans Mono',consolas,'Courier New',monospace\"><span style=\"color: #808000; text-decoration-color: #808000; font-weight: bold\">[Open3D WARNING] [ViewControl] ConvertFromPinholeCameraParameters() failed because window height and width do not </span>\n",
       "<span style=\"color: #808000; text-decoration-color: #808000; font-weight: bold\">match.</span>\n",
       "</pre>\n"
      ],
      "text/plain": [
       "\u001b[1;33m[Open3D WARNING] [ViewControl] ConvertFromPinholeCameraParameters() failed because window height and width do not \u001b[0m\n",
       "\u001b[1;33mmatch.\u001b[0m\n"
      ]
     },
     "metadata": {},
     "output_type": "display_data"
    },
    {
     "data": {
      "text/html": [
       "<pre style=\"white-space:pre;overflow-x:auto;line-height:normal;font-family:Menlo,'DejaVu Sans Mono',consolas,'Courier New',monospace\"></pre>\n"
      ],
      "text/plain": []
     },
     "metadata": {},
     "output_type": "display_data"
    },
    {
     "data": {
      "text/html": [
       "<pre style=\"white-space:pre;overflow-x:auto;line-height:normal;font-family:Menlo,'DejaVu Sans Mono',consolas,'Courier New',monospace\">\n",
       "</pre>\n"
      ],
      "text/plain": [
       "\n"
      ]
     },
     "metadata": {},
     "output_type": "display_data"
    },
    {
     "data": {
      "application/vnd.jupyter.widget-view+json": {
       "model_id": "a9add0ee5cf4454f97d19c043f97f832",
       "version_major": 2,
       "version_minor": 0
      },
      "text/plain": [
       "Output()"
      ]
     },
     "metadata": {},
     "output_type": "display_data"
    },
    {
     "data": {
      "text/html": [
       "<pre style=\"white-space:pre;overflow-x:auto;line-height:normal;font-family:Menlo,'DejaVu Sans Mono',consolas,'Courier New',monospace\">        Visualizing file with timestamp:        9999999928671113625\n",
       "</pre>\n"
      ],
      "text/plain": [
       "        Visualizing file with timestamp:        9999999928671113625\n"
      ]
     },
     "metadata": {},
     "output_type": "display_data"
    },
    {
     "data": {
      "text/html": [
       "<pre style=\"white-space:pre;overflow-x:auto;line-height:normal;font-family:Menlo,'DejaVu Sans Mono',consolas,'Courier New',monospace\">                This is a training image!!!\n",
       "</pre>\n"
      ],
      "text/plain": [
       "                This is a training image!!!\n"
      ]
     },
     "metadata": {},
     "output_type": "display_data"
    },
    {
     "data": {
      "text/html": [
       "<pre style=\"white-space:pre;overflow-x:auto;line-height:normal;font-family:Menlo,'DejaVu Sans Mono',consolas,'Courier New',monospace\"><span style=\"color: #808000; text-decoration-color: #808000; font-weight: bold\">[Open3D WARNING] [ViewControl] ConvertFromPinholeCameraParameters() failed because window height and width do not </span>\n",
       "<span style=\"color: #808000; text-decoration-color: #808000; font-weight: bold\">match.</span>\n",
       "</pre>\n"
      ],
      "text/plain": [
       "\u001b[1;33m[Open3D WARNING] [ViewControl] ConvertFromPinholeCameraParameters() failed because window height and width do not \u001b[0m\n",
       "\u001b[1;33mmatch.\u001b[0m\n"
      ]
     },
     "metadata": {},
     "output_type": "display_data"
    },
    {
     "data": {
      "text/html": [
       "<pre style=\"white-space:pre;overflow-x:auto;line-height:normal;font-family:Menlo,'DejaVu Sans Mono',consolas,'Courier New',monospace\"></pre>\n"
      ],
      "text/plain": []
     },
     "metadata": {},
     "output_type": "display_data"
    },
    {
     "data": {
      "text/html": [
       "<pre style=\"white-space:pre;overflow-x:auto;line-height:normal;font-family:Menlo,'DejaVu Sans Mono',consolas,'Courier New',monospace\">\n",
       "</pre>\n"
      ],
      "text/plain": [
       "\n"
      ]
     },
     "metadata": {},
     "output_type": "display_data"
    },
    {
     "data": {
      "application/vnd.jupyter.widget-view+json": {
       "model_id": "c070c8875e5c4498a09e3ca3c2223593",
       "version_major": 2,
       "version_minor": 0
      },
      "text/plain": [
       "Output()"
      ]
     },
     "metadata": {},
     "output_type": "display_data"
    },
    {
     "data": {
      "text/html": [
       "<pre style=\"white-space:pre;overflow-x:auto;line-height:normal;font-family:Menlo,'DejaVu Sans Mono',consolas,'Courier New',monospace\">        Visualizing file with timestamp:        9999999979772057364\n",
       "</pre>\n"
      ],
      "text/plain": [
       "        Visualizing file with timestamp:        9999999979772057364\n"
      ]
     },
     "metadata": {},
     "output_type": "display_data"
    },
    {
     "data": {
      "text/html": [
       "<pre style=\"white-space:pre;overflow-x:auto;line-height:normal;font-family:Menlo,'DejaVu Sans Mono',consolas,'Courier New',monospace\">                This is a training image!!!\n",
       "</pre>\n"
      ],
      "text/plain": [
       "                This is a training image!!!\n"
      ]
     },
     "metadata": {},
     "output_type": "display_data"
    },
    {
     "data": {
      "text/html": [
       "<pre style=\"white-space:pre;overflow-x:auto;line-height:normal;font-family:Menlo,'DejaVu Sans Mono',consolas,'Courier New',monospace\"><span style=\"color: #808000; text-decoration-color: #808000; font-weight: bold\">[Open3D WARNING] [ViewControl] ConvertFromPinholeCameraParameters() failed because window height and width do not </span>\n",
       "<span style=\"color: #808000; text-decoration-color: #808000; font-weight: bold\">match.</span>\n",
       "</pre>\n"
      ],
      "text/plain": [
       "\u001b[1;33m[Open3D WARNING] [ViewControl] ConvertFromPinholeCameraParameters() failed because window height and width do not \u001b[0m\n",
       "\u001b[1;33mmatch.\u001b[0m\n"
      ]
     },
     "metadata": {},
     "output_type": "display_data"
    },
    {
     "data": {
      "text/html": [
       "<pre style=\"white-space:pre;overflow-x:auto;line-height:normal;font-family:Menlo,'DejaVu Sans Mono',consolas,'Courier New',monospace\"></pre>\n"
      ],
      "text/plain": []
     },
     "metadata": {},
     "output_type": "display_data"
    },
    {
     "data": {
      "text/html": [
       "<pre style=\"white-space:pre;overflow-x:auto;line-height:normal;font-family:Menlo,'DejaVu Sans Mono',consolas,'Courier New',monospace\">\n",
       "</pre>\n"
      ],
      "text/plain": [
       "\n"
      ]
     },
     "metadata": {},
     "output_type": "display_data"
    },
    {
     "data": {
      "application/vnd.jupyter.widget-view+json": {
       "model_id": "513eb8d729224cf98f7b3b53a548d88d",
       "version_major": 2,
       "version_minor": 0
      },
      "text/plain": [
       "Output()"
      ]
     },
     "metadata": {},
     "output_type": "display_data"
    },
    {
     "data": {
      "text/html": [
       "<pre style=\"white-space:pre;overflow-x:auto;line-height:normal;font-family:Menlo,'DejaVu Sans Mono',consolas,'Courier New',monospace\">        Visualizing file with timestamp:        9999999989112341434\n",
       "</pre>\n"
      ],
      "text/plain": [
       "        Visualizing file with timestamp:        9999999989112341434\n"
      ]
     },
     "metadata": {},
     "output_type": "display_data"
    },
    {
     "data": {
      "text/html": [
       "<pre style=\"white-space:pre;overflow-x:auto;line-height:normal;font-family:Menlo,'DejaVu Sans Mono',consolas,'Courier New',monospace\">                This is a training image!!!\n",
       "</pre>\n"
      ],
      "text/plain": [
       "                This is a training image!!!\n"
      ]
     },
     "metadata": {},
     "output_type": "display_data"
    },
    {
     "data": {
      "text/html": [
       "<pre style=\"white-space:pre;overflow-x:auto;line-height:normal;font-family:Menlo,'DejaVu Sans Mono',consolas,'Courier New',monospace\"><span style=\"color: #808000; text-decoration-color: #808000; font-weight: bold\">[Open3D WARNING] [ViewControl] ConvertFromPinholeCameraParameters() failed because window height and width do not </span>\n",
       "<span style=\"color: #808000; text-decoration-color: #808000; font-weight: bold\">match.</span>\n",
       "</pre>\n"
      ],
      "text/plain": [
       "\u001b[1;33m[Open3D WARNING] [ViewControl] ConvertFromPinholeCameraParameters() failed because window height and width do not \u001b[0m\n",
       "\u001b[1;33mmatch.\u001b[0m\n"
      ]
     },
     "metadata": {},
     "output_type": "display_data"
    },
    {
     "data": {
      "text/html": [
       "<pre style=\"white-space:pre;overflow-x:auto;line-height:normal;font-family:Menlo,'DejaVu Sans Mono',consolas,'Courier New',monospace\"></pre>\n"
      ],
      "text/plain": []
     },
     "metadata": {},
     "output_type": "display_data"
    },
    {
     "data": {
      "text/html": [
       "<pre style=\"white-space:pre;overflow-x:auto;line-height:normal;font-family:Menlo,'DejaVu Sans Mono',consolas,'Courier New',monospace\">\n",
       "</pre>\n"
      ],
      "text/plain": [
       "\n"
      ]
     },
     "metadata": {},
     "output_type": "display_data"
    }
   ],
   "source": [
    "#################################################################################################################\n",
    "#                                           Inference and Visualize                                             #\n",
    "#################################################################################################################\n",
    "\n",
    "\n",
    "\n",
    "# NOTE by Michele:  The visualization does not work properly if it gets passed a list. So just cycle through the \n",
    "#       \"__call__\" funcion of the inferencer\n",
    "for input in inputs:\n",
    "    inferencer(input, show=True, wait_time = wait_time_default)"
   ]
  },
  {
   "cell_type": "code",
   "execution_count": 11,
   "metadata": {},
   "outputs": [
    {
     "data": {
      "application/vnd.jupyter.widget-view+json": {
       "model_id": "9cf4fc3493e542d4b9d75ea0a6b48d89",
       "version_major": 2,
       "version_minor": 0
      },
      "text/plain": [
       "Output()"
      ]
     },
     "metadata": {},
     "output_type": "display_data"
    },
    {
     "data": {
      "text/html": [
       "<pre style=\"white-space:pre;overflow-x:auto;line-height:normal;font-family:Menlo,'DejaVu Sans Mono',consolas,'Courier New',monospace\">        Visualizing file with timestamp:        1723235388718397661\n",
       "</pre>\n"
      ],
      "text/plain": [
       "        Visualizing file with timestamp:        1723235388718397661\n"
      ]
     },
     "metadata": {},
     "output_type": "display_data"
    },
    {
     "name": "stdout",
     "output_type": "stream",
     "text": [
      "Pre-existing directory removed. Will be created again from scratch\n"
     ]
    },
    {
     "data": {
      "text/html": [
       "<pre style=\"white-space:pre;overflow-x:auto;line-height:normal;font-family:Menlo,'DejaVu Sans Mono',consolas,'Courier New',monospace\"></pre>\n"
      ],
      "text/plain": []
     },
     "metadata": {},
     "output_type": "display_data"
    },
    {
     "data": {
      "text/html": [
       "<pre style=\"white-space:pre;overflow-x:auto;line-height:normal;font-family:Menlo,'DejaVu Sans Mono',consolas,'Courier New',monospace\">\n",
       "</pre>\n"
      ],
      "text/plain": [
       "\n"
      ]
     },
     "metadata": {},
     "output_type": "display_data"
    },
    {
     "data": {
      "application/vnd.jupyter.widget-view+json": {
       "model_id": "c05c3cb734754acea48ea61707f8540d",
       "version_major": 2,
       "version_minor": 0
      },
      "text/plain": [
       "Output()"
      ]
     },
     "metadata": {},
     "output_type": "display_data"
    },
    {
     "data": {
      "text/html": [
       "<pre style=\"white-space:pre;overflow-x:auto;line-height:normal;font-family:Menlo,'DejaVu Sans Mono',consolas,'Courier New',monospace\">        Visualizing file with timestamp:        1723235505512511802\n",
       "</pre>\n"
      ],
      "text/plain": [
       "        Visualizing file with timestamp:        1723235505512511802\n"
      ]
     },
     "metadata": {},
     "output_type": "display_data"
    },
    {
     "data": {
      "text/html": [
       "<pre style=\"white-space:pre;overflow-x:auto;line-height:normal;font-family:Menlo,'DejaVu Sans Mono',consolas,'Courier New',monospace\"></pre>\n"
      ],
      "text/plain": []
     },
     "metadata": {},
     "output_type": "display_data"
    },
    {
     "data": {
      "text/html": [
       "<pre style=\"white-space:pre;overflow-x:auto;line-height:normal;font-family:Menlo,'DejaVu Sans Mono',consolas,'Courier New',monospace\">\n",
       "</pre>\n"
      ],
      "text/plain": [
       "\n"
      ]
     },
     "metadata": {},
     "output_type": "display_data"
    },
    {
     "data": {
      "application/vnd.jupyter.widget-view+json": {
       "model_id": "bc8c8244e28e42ffaf0b187149cf1f4c",
       "version_major": 2,
       "version_minor": 0
      },
      "text/plain": [
       "Output()"
      ]
     },
     "metadata": {},
     "output_type": "display_data"
    },
    {
     "data": {
      "text/html": [
       "<pre style=\"white-space:pre;overflow-x:auto;line-height:normal;font-family:Menlo,'DejaVu Sans Mono',consolas,'Courier New',monospace\">        Visualizing file with timestamp:        1723235686523375655\n",
       "</pre>\n"
      ],
      "text/plain": [
       "        Visualizing file with timestamp:        1723235686523375655\n"
      ]
     },
     "metadata": {},
     "output_type": "display_data"
    },
    {
     "data": {
      "text/html": [
       "<pre style=\"white-space:pre;overflow-x:auto;line-height:normal;font-family:Menlo,'DejaVu Sans Mono',consolas,'Courier New',monospace\"></pre>\n"
      ],
      "text/plain": []
     },
     "metadata": {},
     "output_type": "display_data"
    },
    {
     "data": {
      "text/html": [
       "<pre style=\"white-space:pre;overflow-x:auto;line-height:normal;font-family:Menlo,'DejaVu Sans Mono',consolas,'Courier New',monospace\">\n",
       "</pre>\n"
      ],
      "text/plain": [
       "\n"
      ]
     },
     "metadata": {},
     "output_type": "display_data"
    },
    {
     "data": {
      "application/vnd.jupyter.widget-view+json": {
       "model_id": "af13ec032e22433ab3785253dbf7faf4",
       "version_major": 2,
       "version_minor": 0
      },
      "text/plain": [
       "Output()"
      ]
     },
     "metadata": {},
     "output_type": "display_data"
    },
    {
     "data": {
      "text/html": [
       "<pre style=\"white-space:pre;overflow-x:auto;line-height:normal;font-family:Menlo,'DejaVu Sans Mono',consolas,'Courier New',monospace\">        Visualizing file with timestamp:        1723235842667026284\n",
       "</pre>\n"
      ],
      "text/plain": [
       "        Visualizing file with timestamp:        1723235842667026284\n"
      ]
     },
     "metadata": {},
     "output_type": "display_data"
    },
    {
     "data": {
      "text/html": [
       "<pre style=\"white-space:pre;overflow-x:auto;line-height:normal;font-family:Menlo,'DejaVu Sans Mono',consolas,'Courier New',monospace\"></pre>\n"
      ],
      "text/plain": []
     },
     "metadata": {},
     "output_type": "display_data"
    },
    {
     "data": {
      "text/html": [
       "<pre style=\"white-space:pre;overflow-x:auto;line-height:normal;font-family:Menlo,'DejaVu Sans Mono',consolas,'Courier New',monospace\">\n",
       "</pre>\n"
      ],
      "text/plain": [
       "\n"
      ]
     },
     "metadata": {},
     "output_type": "display_data"
    },
    {
     "data": {
      "application/vnd.jupyter.widget-view+json": {
       "model_id": "aee5998270d74fb799a393e2a2489d92",
       "version_major": 2,
       "version_minor": 0
      },
      "text/plain": [
       "Output()"
      ]
     },
     "metadata": {},
     "output_type": "display_data"
    },
    {
     "data": {
      "text/html": [
       "<pre style=\"white-space:pre;overflow-x:auto;line-height:normal;font-family:Menlo,'DejaVu Sans Mono',consolas,'Courier New',monospace\">        Visualizing file with timestamp:        1723923371759816590\n",
       "</pre>\n"
      ],
      "text/plain": [
       "        Visualizing file with timestamp:        1723923371759816590\n"
      ]
     },
     "metadata": {},
     "output_type": "display_data"
    },
    {
     "data": {
      "text/html": [
       "<pre style=\"white-space:pre;overflow-x:auto;line-height:normal;font-family:Menlo,'DejaVu Sans Mono',consolas,'Courier New',monospace\"></pre>\n"
      ],
      "text/plain": []
     },
     "metadata": {},
     "output_type": "display_data"
    },
    {
     "data": {
      "text/html": [
       "<pre style=\"white-space:pre;overflow-x:auto;line-height:normal;font-family:Menlo,'DejaVu Sans Mono',consolas,'Courier New',monospace\">\n",
       "</pre>\n"
      ],
      "text/plain": [
       "\n"
      ]
     },
     "metadata": {},
     "output_type": "display_data"
    },
    {
     "data": {
      "application/vnd.jupyter.widget-view+json": {
       "model_id": "33bc0db534bd42e2a98f46e955defbe5",
       "version_major": 2,
       "version_minor": 0
      },
      "text/plain": [
       "Output()"
      ]
     },
     "metadata": {},
     "output_type": "display_data"
    },
    {
     "data": {
      "text/html": [
       "<pre style=\"white-space:pre;overflow-x:auto;line-height:normal;font-family:Menlo,'DejaVu Sans Mono',consolas,'Courier New',monospace\">        Visualizing file with timestamp:        1723923387881637917\n",
       "</pre>\n"
      ],
      "text/plain": [
       "        Visualizing file with timestamp:        1723923387881637917\n"
      ]
     },
     "metadata": {},
     "output_type": "display_data"
    },
    {
     "data": {
      "text/html": [
       "<pre style=\"white-space:pre;overflow-x:auto;line-height:normal;font-family:Menlo,'DejaVu Sans Mono',consolas,'Courier New',monospace\"></pre>\n"
      ],
      "text/plain": []
     },
     "metadata": {},
     "output_type": "display_data"
    },
    {
     "data": {
      "text/html": [
       "<pre style=\"white-space:pre;overflow-x:auto;line-height:normal;font-family:Menlo,'DejaVu Sans Mono',consolas,'Courier New',monospace\">\n",
       "</pre>\n"
      ],
      "text/plain": [
       "\n"
      ]
     },
     "metadata": {},
     "output_type": "display_data"
    },
    {
     "data": {
      "application/vnd.jupyter.widget-view+json": {
       "model_id": "903a2e7d87234b45a03dc3da05fb7bea",
       "version_major": 2,
       "version_minor": 0
      },
      "text/plain": [
       "Output()"
      ]
     },
     "metadata": {},
     "output_type": "display_data"
    },
    {
     "data": {
      "text/html": [
       "<pre style=\"white-space:pre;overflow-x:auto;line-height:normal;font-family:Menlo,'DejaVu Sans Mono',consolas,'Courier New',monospace\">        Visualizing file with timestamp:        1723923467514090049\n",
       "</pre>\n"
      ],
      "text/plain": [
       "        Visualizing file with timestamp:        1723923467514090049\n"
      ]
     },
     "metadata": {},
     "output_type": "display_data"
    },
    {
     "data": {
      "text/html": [
       "<pre style=\"white-space:pre;overflow-x:auto;line-height:normal;font-family:Menlo,'DejaVu Sans Mono',consolas,'Courier New',monospace\"></pre>\n"
      ],
      "text/plain": []
     },
     "metadata": {},
     "output_type": "display_data"
    },
    {
     "data": {
      "text/html": [
       "<pre style=\"white-space:pre;overflow-x:auto;line-height:normal;font-family:Menlo,'DejaVu Sans Mono',consolas,'Courier New',monospace\">\n",
       "</pre>\n"
      ],
      "text/plain": [
       "\n"
      ]
     },
     "metadata": {},
     "output_type": "display_data"
    },
    {
     "name": "stderr",
     "output_type": "stream",
     "text": [
      "/home/michele/iac_code/michele_mmdet3d/mmdet3d/models/dense_heads/anchor3d_head.py:94: UserWarning: dir_offset and dir_limit_offset will be depressed and be incorporated into box coder in the future\n",
      "  warnings.warn(\n",
      "/usr/local/lib/python3.10/dist-packages/mmengine/visualization/visualizer.py:196: UserWarning: Failed to add <class 'mmengine.visualization.vis_backend.LocalVisBackend'>, please provide the `save_dir` argument.\n",
      "  warnings.warn(f'Failed to add {vis_backend.__class__}, '\n"
     ]
    },
    {
     "name": "stdout",
     "output_type": "stream",
     "text": [
      "Loads checkpoint by local backend from path: /home/michele/iac_code/michele_mmdet3d/work_dirs/pointpillars_minerva/epoch_120.pth\n",
      "\tVisualizing file with timestamp:\t1723235686523375655\n",
      "\tVisualizing file with timestamp:\t1723923467514090049\n",
      "\u001b[1;33m[Open3D WARNING] [ViewControl] ConvertFromPinholeCameraParameters() failed because window height and width do not match.\u001b[0;m\n",
      "\tVisualizing file with timestamp:\t1723923371759816590\n",
      "\u001b[1;33m[Open3D WARNING] [ViewControl] ConvertFromPinholeCameraParameters() failed because window height and width do not match.\u001b[0;m\n",
      "\tVisualizing file with timestamp:\t1723235505512511802\n",
      "\u001b[1;33m[Open3D WARNING] [ViewControl] ConvertFromPinholeCameraParameters() failed because window height and width do not match.\u001b[0;m\n",
      "\tVisualizing file with timestamp:\t1723235388718397661\n",
      "\u001b[1;33m[Open3D WARNING] [ViewControl] ConvertFromPinholeCameraParameters() failed because window height and width do not match.\u001b[0;m\n",
      "\tVisualizing file with timestamp:\t1723235842667026284\n",
      "\u001b[1;33m[Open3D WARNING] [ViewControl] ConvertFromPinholeCameraParameters() failed because window height and width do not match.\u001b[0;m\n",
      "\tVisualizing file with timestamp:\t1723923387881637917\n",
      "\u001b[1;33m[Open3D WARNING] [ViewControl] ConvertFromPinholeCameraParameters() failed because window height and width do not match.\u001b[0;m\n"
     ]
    }
   ],
   "source": [
    "#################################################################################################################\n",
    "#                                              Remote Inferencer                                                #\n",
    "#################################################################################################################\n",
    "\n",
    "\n",
    "\n",
    "import os\n",
    "import shutil\n",
    "out_directory = '/home/michele/iac_code/michele_mmdet3d/data/minerva_polimove/remote_inference/'\n",
    "if os.path.exists(out_directory):\n",
    "    shutil.rmtree(out_directory)\n",
    "    print(\"Pre-existing directory removed. Will be created again from scratch\")\n",
    "\n",
    "# NOTE by Michele:  Same as above (need to use the for loop)\n",
    "for input in inputs:\n",
    "    inferencer(input, show=False, out_dir=out_directory)\n",
    "\n",
    "# Visualize the predictions from the saved files\n",
    "local_inferencer = LidarDet3DInferencer(model='/home/michele/iac_code/michele_mmdet3d/configs/minerva/CONDENSED_pointpillars_minerva.py',\n",
    "                                        weights='/home/michele/iac_code/michele_mmdet3d/work_dirs/pointpillars_minerva/epoch_120.pth')\n",
    "\n",
    "saved_predictions = [(out_directory + \"preds/\" + filename) for filename in os.listdir(out_directory + \"preds/\")]\n",
    "local_inferencer.visualize_preds_fromfile(saved_predictions, show=True, wait_time = wait_time_default)"
   ]
  },
  {
   "cell_type": "markdown",
   "metadata": {},
   "source": [
    "# VoxelNet(SingleStage3DDetector(Base3DDetector)): Description by ChatGPT"
   ]
  },
  {
   "cell_type": "markdown",
   "metadata": {},
   "source": [
    "The `Base3DDetector` class in MMDetection3D serves as a parent class for 3D detectors, providing a unified interface for 3D object detection models. It inherits from `BaseDetector`, which is part of the 2D detection framework MMDetection, and extends it to handle 3D-specific data and operations. Below, I'll break down its interactions with PyTorch and explain its overall workflow:\n",
    "\n",
    "### 1. **Interaction with PyTorch**\n",
    "The main interactions with PyTorch happen in the `forward` method, which handles different modes of operation: `'tensor'`, `'predict'`, and `'loss'`. These modes control how the model processes inputs and interacts with PyTorch tensors.\n",
    "\n",
    "1. **Forward Pass (`mode='tensor'`)**:  \n",
    "   When `mode='tensor'`, the `forward()` method calls `_forward()`. This is where the network processes the inputs through the various layers defined in the specific detector model (e.g., backbone, neck, head). This is a typical PyTorch `nn.Module` forward pass, which returns raw tensor outputs directly without additional processing.\n",
    "\n",
    "2. **Prediction (`mode='predict'`)**:  \n",
    "   When `mode='predict'`, it processes the inputs and data samples using the `predict()` method. This involves running inference, post-processing, and formatting the results into structured outputs like bounding boxes, scores, and labels. During this stage, PyTorch is used for operations like applying non-maximum suppression (NMS) on 3D bounding boxes and converting model outputs into usable predictions.\n",
    "\n",
    "3. **Loss Calculation (`mode='loss'`)**:  \n",
    "   When `mode='loss'`, it calculates and returns the loss values using the `loss()` method. This mode is used during training. The `inputs` and `data_samples` are passed to the `loss()` function, which computes various losses (e.g., classification, regression) based on ground truth data. The resulting tensors are then used by the optimizer for backpropagation in a typical PyTorch training loop.\n",
    "\n",
    "### 2. **High-Level Workflow of `Base3DDetector`**\n",
    "The overall workflow of the class, when instantiated as part of a detector model, follows these steps:\n",
    "\n",
    "1. **Initialization (`__init__` method)**:\n",
    "   - The class accepts a `data_preprocessor` and an `init_cfg` argument.\n",
    "   - `data_preprocessor` configures preprocessing steps like padding, mean normalization, and standardization for both point cloud and image data.\n",
    "   - `init_cfg` handles initialization settings, such as loading pretrained weights or defining weight initialization schemes.\n",
    "\n",
    "2. **Forward Method (`forward`)**:\n",
    "   The `forward()` method is the unified entry point for different operations. It accepts the following key parameters:\n",
    "   - `inputs`: A dictionary or list of dictionaries containing batch data. It typically includes keys like `points` (for point cloud data) and `imgs` (for image data).\n",
    "   - `data_samples`: Optional annotation data for each sample, such as ground truth 3D bounding boxes.\n",
    "   - `mode`: The mode to run the forward process (`'tensor'`, `'predict'`, or `'loss'`).\n",
    "\n",
    "   Based on the mode, it delegates the call to one of three methods:\n",
    "   - **`loss()`**: Computes the loss for training.\n",
    "   - **`predict()`**: Processes inputs and generates predictions.\n",
    "   - **`_forward()`**: Returns the raw tensor outputs for deeper analysis or debugging.\n",
    "\n",
    "3. **Adding Predictions to Data Samples (`add_pred_to_datasample` method)**:\n",
    "   This utility method formats the model outputs into the structure required for downstream use. It converts raw predictions into the `Det3DDataSample` format, which includes keys like:\n",
    "   - `pred_instances_3d`: Contains 3D bounding boxes (`bboxes_3d`), labels (`labels_3d`), and scores (`scores_3d`).\n",
    "   - `pred_instances`: Similar structure for 2D bounding boxes if applicable.\n",
    "\n",
    "   It creates new `InstanceData` objects for missing 3D or 2D data and adds these predictions back into the `data_samples` list. This structure makes it easier to evaluate and visualize the results later.\n",
    "\n",
    "### 3. **Usage in PyTorch Training and Inference Loops**\n",
    "The `Base3DDetector` class is designed to fit seamlessly into PyTorch's training and inference workflows. During training, it is used as follows:\n",
    "\n",
    "1. **Training**:\n",
    "   - When calling `model(inputs, data_samples, mode='loss')`, the class processes the input data through the network and computes the loss.\n",
    "   - The loss dictionary is used by the optimizer to perform backpropagation and update weights.\n",
    "\n",
    "2. **Inference**:\n",
    "   - When calling `model(inputs, data_samples, mode='predict')`, it produces the post-processed predictions in the format expected by MMDetection3D's evaluation pipeline.\n",
    "   - Predictions are wrapped into `Det3DDataSample` objects, making it easy to evaluate using standard metrics (e.g., mAP, AP40).\n",
    "\n",
    "3. **Debugging and Tensor Operations**:\n",
    "   - When calling `model(inputs, mode='tensor')`, it skips all post-processing and returns the raw tensors directly, allowing for deeper debugging or custom analysis using PyTorch tensor operations.\n",
    "\n",
    "### 4. **Extensibility for New 3D Detection Models**\n",
    "The `Base3DDetector` class serves as a template for implementing new 3D detectors. Derived classes can:\n",
    "- Override `loss()` to implement custom loss functions.\n",
    "- Implement `predict()` for different types of 3D detectors (e.g., voxel-based, point-based).\n",
    "- Customize `_forward()` to define different network architectures.\n",
    "\n",
    "### 5. **Example: How it Fits in an MMDetection3D Pipeline**\n",
    "Consider a typical 3D object detection training pipeline:\n",
    "1. **Data Preprocessing**: The dataset class formats input point clouds and images, passes them through the preprocessor, and provides `inputs` and `data_samples`.\n",
    "2. **Training Loop**: The model’s `forward()` method is called in `'loss'` mode, computing the losses.\n",
    "3. **Inference Loop**: During testing, the same `forward()` method is called in `'predict'` mode to generate detection results.\n",
    "4. **Result Formatting**: `add_pred_to_datasample()` structures the output for easy evaluation and visualization.\n",
    "\n",
    "In essence, `Base3DDetector` provides the foundation, and specific 3D detectors extend it to implement unique architectures and functionality tailored to their tasks."
   ]
  },
  {
   "cell_type": "markdown",
   "metadata": {},
   "source": [
    "# Model analysis"
   ]
  },
  {
   "cell_type": "markdown",
   "metadata": {},
   "source": [
    "# Model analysis"
   ]
  },
  {
   "cell_type": "markdown",
   "metadata": {},
   "source": [
    "### **Components of the model inside MMDetection3D:** --------------------------------------------------------------------------------------------------------------------------------------------------------\n",
    "- General type of net is \"VoxelNet\" with the following sub-components:\n",
    "    1. data_preprocessor \n",
    "    2. voxel_encoder\n",
    "    3. middle_encoder\n",
    "    4. backbone\n",
    "    5. neck\n",
    "    6. bbox_head\n",
    "- Better description of the \"3DDetector\" class in the paragraph above"
   ]
  },
  {
   "cell_type": "markdown",
   "metadata": {},
   "source": [
    "### **Data Preprocessor (Det3DDataPreprocessor)** ------------------------------------------------------------------------------------------------------------------------------------------------------------\n",
    "- By delving into *VoxelNet --> SingleStage3DDetector --> Base3DDetector --> BaseDetector --> BaseModel*, you can find that the **data_preprocessor** is called every time the *\"run_forward\"* method is called.\n",
    "    - *\"run_forward\"* can be of **mode=predict** in *\"val_step\"* and *\"test_step\"*, or it can be of **mode=loss** in *\"train_step\"*\n",
    "    - The data_preprocessor provides the basic data for the *\"run_forward\"* method to be executed\n",
    "- In our case the data_preprocessor is of class **\"Det3DDataPreprocessor\"**.\n",
    "    - Calls the function *\"voxelize\"* that can be of four types: hard/dynamic/cylindrical/minkunet voxelization. In our case it is **hard** voxelization.\n",
    "    - Performs the voxelization based on the information provided to the dictionary **\"voxel_layer\"** in the configuration file.\n",
    "        - max_voxels\n",
    "        - max_num_points\n",
    "        - point_cloud_range\n",
    "        - voxel_size\n",
    "- The voxelization_layer is of **class VoxelizationByGridShape** which also accepts the flag *\"deterministic = False\"* which may speed up the process. <mark>It is worth a try</mark>\n",
    "- There is a way to perform **dynamic voxelization**, and also a VoxelEncoder that supports dynamic voxelization (same file as the other). <mark>It is worth a try</mark>"
   ]
  },
  {
   "cell_type": "markdown",
   "metadata": {},
   "source": [
    "### **Voxel Encoder (PillarFeatureNet)** ---------------------------------------------------------------------------------------------------------------------------------------------------------------------\n",
    "- Performs the first processing of the voxels.\n",
    "    - Takes as input a tensor of shape (NxMxC) with N=n. of pillars, M=n. of max points per pillar, C=n. of features per point (in our case 4).\n",
    "    - To the input some parameters can be added, such as *cluster center distance* (from centroid), *voxel center distance* (from voxel centre), and *distance from the origin* (from voxel origin). So the new input becomes (NxMxC_augmented). This method is called **feature augmentation**.\n",
    "    - For each pillar, **pooling** is performed (either max or average) to extract the main features of the pillar. The number of features is defined in the parameter **\"feat_channels\"**. <mark>May try to modify **number of features** and also **type of pooling**</mark>\n",
    "    - The output is (NxC_features) where C_features is exactly the parameter *\"feat_channels\"*."
   ]
  },
  {
   "cell_type": "markdown",
   "metadata": {},
   "source": [
    "### **Middle Encoder (PointPillarsScatter)** -----------------------------------------------------------------------------------------------------------------------------------------------------------------\n",
    "- Simply takes the voxels as listed in a **(NxC_features)** tensor, and turns them into a **(1xC_featuresxN_yxN_x)** tensor.\n",
    "- Essentially, takes the pillars **from a 1-D representation** and orders them **to a grid-like structure** which can be used **for CNN-like computations**."
   ]
  },
  {
   "cell_type": "markdown",
   "metadata": {},
   "source": [
    "### **Backbone (SECOND)** ------------------------------------------------------------------------------------------------------------------------------------------------------------------------------------\n",
    "- Convolution in 3 steps as explained in the following.\n",
    "    - From (C, X, Y)        to      (C, X/2, Y/2)\n",
    "    - From (C, X/2, Y/2)    to      (2C, X/4, Y/4)\n",
    "    - From (2C, X/4, Y/4)   to      (4C, X/8, Y/8)\n",
    "- All of these layers proceed in **PARALLEL**, and they will be decovoluted and then concatenated in the neck (see below)"
   ]
  },
  {
   "cell_type": "markdown",
   "metadata": {},
   "source": [
    "### **Neck (SECOND FPN)** ------------------------------------------------------------------------------------------------------------------------------------------------------------------------------------\n",
    "- Another standard FPN: Feature Pyramid Network. \n",
    "    - There are a down-sampling and then up-sampling that proceed in parallel with **lateral connections** that are then merged together.\n",
    "    - Multi-scale features allow to get spacial resolution from non-scaled images, and feature richness by scaled images.\n",
    "- The up-sampling works like the following.\n",
    "    - From (C, X/2, Y/2)    to      (2C, X/2, Y/2)\n",
    "    - From (2C, X/4, Y/4)   to      (2C, X/2, Y/2)\n",
    "    - From (4C, X/8, Y/8)   to      (2C, X/2, Y/2)\n",
    "- So at the end there are 2C-thick layers for three times, and they are sticked together to get (6C, X/2, Y/2)."
   ]
  },
  {
   "cell_type": "markdown",
   "metadata": {},
   "source": [
    "### **BBox Head (Anchor3DHead)** -----------------------------------------------------------------------------------------------------------------------------------------------------------------------------\n",
    "- Takes as input the feature map, and outputs the final results for prediction and training.\n",
    "    - For just **INFERENCE** the outputs are\n",
    "        - Predicted BBox parameters (7 values).\n",
    "        - Classification scores for each BBox, a value for each class.\n",
    "        - Direction classification.\n",
    "    - For **TRAINING** the outputs are instead\n",
    "        - Classification scores, BBox offset from center, classification predictions.\n",
    "        - Loss values for the back-propagation, so *loss_cls/loss_bbox/loss_dir*."
   ]
  },
  {
   "cell_type": "markdown",
   "metadata": {},
   "source": [
    "### **Components of the model inside MMDetection3D:** --------------------------------------------------------------------------------------------------------------------------------------------------------\n",
    "- General type of net is \"VoxelNet\" with the following sub-components:\n",
    "    1. data_preprocessor \n",
    "    2. voxel_encoder\n",
    "    3. middle_encoder\n",
    "    4. backbone\n",
    "    5. neck\n",
    "    6. bbox_head\n",
    "- Better description of the \"3DDetector\" class in the paragraph above"
   ]
  },
  {
   "cell_type": "markdown",
   "metadata": {},
   "source": [
    "### **Data Preprocessor (Det3DDataPreprocessor)** ------------------------------------------------------------------------------------------------------------------------------------------------------------\n",
    "- By delving into *VoxelNet --> SingleStage3DDetector --> Base3DDetector --> BaseDetector --> BaseModel*, you can find that the **data_preprocessor** is called every time the *\"run_forward\"* method is called.\n",
    "    - *\"run_forward\"* can be of **mode=predict** in *\"val_step\"* and *\"test_step\"*, or it can be of **mode=loss** in *\"train_step\"*\n",
    "    - The data_preprocessor provides the basic data for the *\"run_forward\"* method to be executed\n",
    "- In our case the data_preprocessor is of class **\"Det3DDataPreprocessor\"**.\n",
    "    - Calls the function *\"voxelize\"* that can be of four types: hard/dynamic/cylindrical/minkunet voxelization. In our case it is **hard** voxelization.\n",
    "    - Performs the voxelization based on the information provided to the dictionary **\"voxel_layer\"** in the configuration file.\n",
    "        - max_voxels\n",
    "        - max_num_points\n",
    "        - point_cloud_range\n",
    "        - voxel_size\n",
    "- The voxelization_layer is of **class VoxelizationByGridShape** which also accepts the flag *\"deterministic = False\"* which may speed up the process. <mark>It is worth a try</mark>\n",
    "- There is a way to perform **dynamic voxelization**, and also a VoxelEncoder that supports dynamic voxelization (same file as the other). <mark>It is worth a try</mark>"
   ]
  },
  {
   "cell_type": "markdown",
   "metadata": {},
   "source": [
    "### **Voxel Encoder (PillarFeatureNet)** ---------------------------------------------------------------------------------------------------------------------------------------------------------------------\n",
    "- Performs the first processing of the voxels.\n",
    "    - Takes as input a tensor of shape (NxMxC) with N=n. of pillars, M=n. of max points per pillar, C=n. of features per point (in our case 4).\n",
    "    - To the input some parameters can be added, such as *cluster center distance* (from centroid), *voxel center distance* (from voxel centre), and *distance from the origin* (from voxel origin). So the new input becomes (NxMxC_augmented). This method is called **feature augmentation**.\n",
    "    - For each pillar, **pooling** is performed (either max or average) to extract the main features of the pillar. The number of features is defined in the parameter **\"feat_channels\"**. <mark>May try to modify **number of features** and also **type of pooling**</mark>\n",
    "    - The output is (NxC_features) where C_features is exactly the parameter *\"feat_channels\"*."
   ]
  },
  {
   "cell_type": "markdown",
   "metadata": {},
   "source": [
    "### **Middle Encoder (PointPillarsScatter)** -----------------------------------------------------------------------------------------------------------------------------------------------------------------\n",
    "- Simply takes the voxels as listed in a **(NxC_features)** tensor, and turns them into a **(1xC_featuresxN_yxN_x)** tensor.\n",
    "- Essentially, takes the pillars **from a 1-D representation** and orders them **to a grid-like structure** which can be used **for CNN-like computations**."
   ]
  },
  {
   "cell_type": "markdown",
   "metadata": {},
   "source": [
    "### **Backbone (SECOND)** ------------------------------------------------------------------------------------------------------------------------------------------------------------------------------------\n",
    "- Convolution in 3 steps as explained in the following.\n",
    "    - From (C, X, Y)        to      (C, X/2, Y/2)\n",
    "    - From (C, X/2, Y/2)    to      (2C, X/4, Y/4)\n",
    "    - From (2C, X/4, Y/4)   to      (4C, X/8, Y/8)\n",
    "- All of these layers proceed in **PARALLEL**, and they will be decovoluted and then concatenated in the neck (see below)"
   ]
  },
  {
   "cell_type": "markdown",
   "metadata": {},
   "source": [
    "### **Neck (SECOND FPN)** ------------------------------------------------------------------------------------------------------------------------------------------------------------------------------------\n",
    "- Another standard FPN: Feature Pyramid Network. \n",
    "    - There are a down-sampling and then up-sampling that proceed in parallel with **lateral connections** that are then merged together.\n",
    "    - Multi-scale features allow to get spacial resolution from non-scaled images, and feature richness by scaled images.\n",
    "- The up-sampling works like the following.\n",
    "    - From (C, X/2, Y/2)    to      (2C, X/2, Y/2)\n",
    "    - From (2C, X/4, Y/4)   to      (2C, X/2, Y/2)\n",
    "    - From (4C, X/8, Y/8)   to      (2C, X/2, Y/2)\n",
    "- So at the end there are 2C-thick layers for three times, and they are sticked together to get (6C, X/2, Y/2)."
   ]
  },
  {
   "cell_type": "markdown",
   "metadata": {},
   "source": [
    "### **BBox Head (Anchor3DHead)** -----------------------------------------------------------------------------------------------------------------------------------------------------------------------------\n",
    "- Takes as input the feature map, and outputs the final results for prediction and training.\n",
    "    - For just **INFERENCE** the outputs are\n",
    "        - Predicted BBox parameters (7 values).\n",
    "        - Classification scores for each BBox, a value for each class.\n",
    "        - Direction classification.\n",
    "    - For **TRAINING** the outputs are instead\n",
    "        - Classification scores, BBox offset from center, classification predictions.\n",
    "        - Loss values for the back-propagation, so *loss_cls/loss_bbox/loss_dir*."
   ]
  }
 ],
 "metadata": {
  "interpreter": {
   "hash": "a0c343fece975dd89087e8c2194dd4d3db28d7000f1b32ed9ed9d584dd54dbbe"
  },
  "kernelspec": {
   "display_name": "Python 3 (ipykernel)",
   "language": "python",
   "name": "python3"
  },
  "language_info": {
   "codemirror_mode": {
    "name": "ipython",
    "version": 3
   },
   "file_extension": ".py",
   "mimetype": "text/x-python",
   "name": "python",
   "nbconvert_exporter": "python",
   "pygments_lexer": "ipython3",
   "version": "3.10.12"
  },
  "pycharm": {
   "stem_cell": {
    "cell_type": "raw",
    "metadata": {
     "collapsed": false
    },
    "source": []
   }
  }
 },
 "nbformat": 4,
 "nbformat_minor": 4
}
